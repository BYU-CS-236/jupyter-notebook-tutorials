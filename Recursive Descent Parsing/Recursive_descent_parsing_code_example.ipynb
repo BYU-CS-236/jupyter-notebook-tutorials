{
 "cells": [
  {
   "attachments": {},
   "cell_type": "markdown",
   "metadata": {},
   "source": [
    "#### Recursive Descent Parsing\n",
    "CS 236 <br>\n",
    "Fall 2023\n",
    "\n",
    "Michael A. Goodrich <br>\n",
    "Brigham Young University <br>\n",
    "February 2023\n",
    "***"
   ]
  },
  {
   "attachments": {},
   "cell_type": "markdown",
   "metadata": {},
   "source": [
    "Consider the following LL(1) Grammar\n",
    "* $E \\rightarrow N \\ | \\ OEE$\n",
    "* $O \\rightarrow +\\ |\\ *$ \n",
    "* $N \\rightarrow 0\\ |\\ 1\\ |\\ 2\\ |\\ 3$\n",
    "\n",
    "The starting non-terminal is $E$\n",
    "\n",
    "The first sets are\n",
    "* $FIRST(OEE) = FIRST(O) = \\{+,*\\}$\n",
    "* $FIRST(N) = \\{0,1,2,3\\}$\n",
    "\n",
    "***"
   ]
  },
  {
   "attachments": {},
   "cell_type": "markdown",
   "metadata": {},
   "source": [
    "Let's construct a class for the recursive descent parser (RDP). There will be a function for each nonterminal and a function to test whether the current input character what the grammar expects. We'll call this testing function ___current_input_matches_target_.\n",
    "\n",
    "***"
   ]
  },
  {
   "cell_type": "code",
   "execution_count": 12,
   "metadata": {},
   "outputs": [],
   "source": [
    "class RDP:  # RDP stands for recursive descent parser\n",
    "    def __init__(self) -> None:\n",
    "        ###################################\n",
    "        # Tuple defining an LL(1) grammar #\n",
    "        # • set of nonterminals           #\n",
    "        # • set of terminals              #\n",
    "        # • starting nonterminal          #\n",
    "        # • set of productions            #\n",
    "        ###################################\n",
    "        self.nonterminals: set[str] = {'E', 'O', 'N'}  # set of nonterminals. Each nonterminal will have its own function\n",
    "        self.starting_nonterminal = self.E  # Starting nonterminal\n",
    "        self.terminals: set[str] = {'+', '*', '0', '1', '2', '3'}  # set of terminals\n",
    "        # Productions                               # Defined within the nonterminal functions\n",
    "\n",
    "        ##########################################\n",
    "        # Define FIRST sets for each nonterminal #\n",
    "        ##########################################\n",
    "        self.first: dict[str, set[str]] = dict()\n",
    "        self.first['O'] = {'+', '-'}\n",
    "        self.first['N'] = {'0', '1', '2', '3'}\n",
    "\n",
    "        ###########################################\n",
    "        # Variables for Managing the input string #\n",
    "        ###########################################\n",
    "        self.input = None\n",
    "        self.num_chars_read: int = 0\n",
    "    def parse_input(self, input_: str) -> None:\n",
    "        \"\"\" Call this function from main.\"\"\"\n",
    "        self.input = input_\n",
    "        self.starting_nonterminal()  # Run the RDP by calling the starting nonterminal\n",
    "        if self.num_chars_read == len(self.input):\n",
    "            print(\"Success!\")\n",
    "        else:\n",
    "            raise ValueError(\n",
    "                \"End of parse and these characters haven't been read: \" + str(self.input[self.num_chars_read:]))\n",
    "\n",
    "    ###########################################\n",
    "    # Each nonterminal gets its own function. #\n",
    "    ###########################################\n",
    "    def E(self) -> None:\n",
    "        # Production E--> N | OEE\n",
    "        current_input = self.__get_current_input()\n",
    "        if current_input in self.first['N']:\n",
    "            self.N()\n",
    "        elif current_input in self.first['O']:\n",
    "            self.O()\n",
    "            self.E()\n",
    "            self.E()\n",
    "        else:  # error\n",
    "            raise ValueError(\"'E' can't produce input \" + str(current_input))\n",
    "    def N(self) -> None:\n",
    "        # Production N --> 0 | 1 | 2 | 3\n",
    "        current_input = self.__get_current_input()\n",
    "        if self.__current_input_matches_target('0') or \\\n",
    "                self.__current_input_matches_target('1') or \\\n",
    "                self.__current_input_matches_target('2') or \\\n",
    "                self.__current_input_matches_target('3'):\n",
    "            self.__advance_input()  # move to the next current input character\n",
    "            pass\n",
    "        else:\n",
    "            raise ValueError(\"'N' can't produce input \" + str(current_input))\n",
    "    def O(self) -> None:\n",
    "        # Production O --> + | *\n",
    "        current_input = self.__get_current_input()\n",
    "        if self.__current_input_matches_target('+') or \\\n",
    "                self.__current_input_matches_target('*'):\n",
    "            self.__advance_input()  # move to the next current input character\n",
    "            pass\n",
    "        else:\n",
    "            raise ValueError(\"'O' can't produce input \" + str(current_input))\n",
    "\n",
    "    ###################################################\n",
    "    # Private helper functions for managing the input #\n",
    "    ###################################################\n",
    "    def __get_current_input(self) -> str:\n",
    "        if self.num_chars_read == len(self.input):\n",
    "            raise ValueError(\"Expected to read another input character but no inputs left to read\")\n",
    "        return self.input[self.num_chars_read]\n",
    "    def __advance_input(self) -> None:\n",
    "        if self.num_chars_read == len(self.input):\n",
    "            raise ValueError(\"Expected to advance to next input character but no inputs left to read\")\n",
    "        self.num_chars_read += 1\n",
    "    def __current_input_matches_target(self, target_input: str) -> bool:\n",
    "        return self.__get_current_input() == target_input  "
   ]
  },
  {
   "cell_type": "code",
   "execution_count": 16,
   "metadata": {},
   "outputs": [
    {
     "name": "stdout",
     "output_type": "stream",
     "text": [
      "('Expected to read another input character but no inputs left to read',)\n"
     ]
    }
   ],
   "source": [
    "my_rdp: RDP = RDP()\n",
    "try:\n",
    "    my_rdp.parse_input('+12')\n",
    "except ValueError as inst:\n",
    "    message: tuple[str] = inst.args\n",
    "    print(message)\n",
    "\n"
   ]
  },
  {
   "cell_type": "code",
   "execution_count": 13,
   "metadata": {},
   "outputs": [
    {
     "name": "stdout",
     "output_type": "stream",
     "text": [
      "Parsing string +123\n",
      "\t\t\t In E function.\n",
      "\t\t\t\t Trying to read input +\n",
      "\t\t\t\t In O function.\n",
      "\t\t\t\t\t Trying to read input +\n",
      "\t\t\t\t\t In E function.\n",
      "\t\t\t\t\t\t Trying to read input 1\n",
      "\t\t\t\t\t\t In N function.\n",
      "\t\t\t\t\t\t\t Trying to read input 1\n",
      "\t\t\t\t\t\t Returning from E .\n",
      "\t\t\t\t\t\t In E function.\n",
      "\t\t\t\t\t\t\t Trying to read input 2\n",
      "\t\t\t\t\t\t\t In N function.\n",
      "\t\t\t\t\t\t\t\t Trying to read input 2\n",
      "\t\t\t\t\t\t\t Returning from E .\n",
      "\t\t\t\t\t\t Returning from E .\n",
      "(\"End of parse and these characters haven't been read: 3\",)\n"
     ]
    }
   ],
   "source": [
    "my_rdp.reset()\n",
    "try:\n",
    "    my_rdp.parse_input('+123')\n",
    "except ValueError as inst:\n",
    "    message: tuple[str] = inst.args\n",
    "    print(message)\n"
   ]
  },
  {
   "cell_type": "code",
   "execution_count": 14,
   "metadata": {},
   "outputs": [
    {
     "name": "stdout",
     "output_type": "stream",
     "text": [
      "Parsing string +1\n",
      "\t\t\t\t\t\t In E function.\n",
      "\t\t\t\t\t\t\t Trying to read input +\n",
      "\t\t\t\t\t\t\t In O function.\n",
      "\t\t\t\t\t\t\t\t Trying to read input +\n",
      "\t\t\t\t\t\t\t\t In E function.\n",
      "\t\t\t\t\t\t\t\t\t Trying to read input 1\n",
      "\t\t\t\t\t\t\t\t\t In N function.\n",
      "\t\t\t\t\t\t\t\t\t\t Trying to read input 1\n",
      "\t\t\t\t\t\t\t\t\t Returning from E .\n",
      "\t\t\t\t\t\t\t\t\t In E function.\n",
      "('Expected to read another input character but no inputs left to read',)\n"
     ]
    }
   ],
   "source": [
    "my_rdp.reset()\n",
    "try:\n",
    "    my_rdp.parse_input('+1')\n",
    "except ValueError as inst:\n",
    "    message: tuple[str] = inst.args\n",
    "    print(message)"
   ]
  },
  {
   "cell_type": "code",
   "execution_count": 15,
   "metadata": {},
   "outputs": [
    {
     "name": "stdout",
     "output_type": "stream",
     "text": [
      "Parsing string +1A\n",
      "\t\t\t\t\t\t\t\t\t\t In E function.\n",
      "\t\t\t\t\t\t\t\t\t\t\t Trying to read input +\n",
      "\t\t\t\t\t\t\t\t\t\t\t In O function.\n",
      "\t\t\t\t\t\t\t\t\t\t\t\t Trying to read input +\n",
      "\t\t\t\t\t\t\t\t\t\t\t\t In E function.\n",
      "\t\t\t\t\t\t\t\t\t\t\t\t\t Trying to read input 1\n",
      "\t\t\t\t\t\t\t\t\t\t\t\t\t In N function.\n",
      "\t\t\t\t\t\t\t\t\t\t\t\t\t\t Trying to read input 1\n",
      "\t\t\t\t\t\t\t\t\t\t\t\t\t Returning from E .\n",
      "\t\t\t\t\t\t\t\t\t\t\t\t\t In E function.\n",
      "\t\t\t\t\t\t\t\t\t\t\t\t\t\t Trying to read input A\n",
      "(\"Current input is A, which cannot be produced by 'E'\",)\n"
     ]
    }
   ],
   "source": [
    "my_rdp.reset()\n",
    "try:\n",
    "    my_rdp.parse_input('+1A')\n",
    "except ValueError as inst:\n",
    "    message: tuple[str] = inst.args\n",
    "    print(message)\n"
   ]
  },
  {
   "cell_type": "code",
   "execution_count": 16,
   "metadata": {},
   "outputs": [
    {
     "name": "stdout",
     "output_type": "stream",
     "text": [
      "Parsing string -31\n",
      "\t\t\t\t\t\t\t\t\t\t\t\t\t\t In E function.\n",
      "\t\t\t\t\t\t\t\t\t\t\t\t\t\t\t Trying to read input -\n",
      "\t\t\t\t\t\t\t\t\t\t\t\t\t\t\t In O function.\n",
      "\t\t\t\t\t\t\t\t\t\t\t\t\t\t\t\t Trying to read input -\n",
      "('Current input is -, which',)\n"
     ]
    }
   ],
   "source": [
    "my_rdp.reset()\n",
    "try:\n",
    "    my_rdp.parse_input('-31')\n",
    "except ValueError as inst:\n",
    "    message: tuple[str] = inst.args\n",
    "    print(message)"
   ]
  }
 ],
 "metadata": {
  "kernelspec": {
   "display_name": "Python 3",
   "language": "python",
   "name": "python3"
  },
  "language_info": {
   "codemirror_mode": {
    "name": "ipython",
    "version": 3
   },
   "file_extension": ".py",
   "mimetype": "text/x-python",
   "name": "python",
   "nbconvert_exporter": "python",
   "pygments_lexer": "ipython3",
   "version": "3.11.2"
  },
  "orig_nbformat": 4,
  "vscode": {
   "interpreter": {
    "hash": "aee8b7b246df8f9039afb4144a1f6fd8d2ca17a180786b69acc140d282b71a49"
   }
  }
 },
 "nbformat": 4,
 "nbformat_minor": 2
}
