{
 "cells": [
  {
   "attachments": {},
   "cell_type": "markdown",
   "metadata": {},
   "source": [
    "#### Recursive Descent Parsing\n",
    "CS 236 <br>\n",
    "Fall 2023\n",
    "\n",
    "Michael A. Goodrich <br>\n",
    "Brigham Young University <br>\n",
    "February 2023\n",
    "***"
   ]
  },
  {
   "attachments": {},
   "cell_type": "markdown",
   "metadata": {},
   "source": [
    "Consider the following LL(1) Grammar\n",
    "* $E \\rightarrow N \\ | \\ OEE$\n",
    "* $O \\rightarrow +\\ |\\ *$ \n",
    "* $N \\rightarrow 0\\ |\\ 1\\ |\\ 2\\ |\\ 3$\n",
    "\n",
    "The starting non-terminal is $E$\n",
    "\n",
    "The first sets are\n",
    "* $FIRST(OEE) = FIRST(O) = \\{+,*\\}$\n",
    "* $FIRST(N) = \\{0,1,2,3\\}$\n",
    "\n",
    "***"
   ]
  },
  {
   "attachments": {},
   "cell_type": "markdown",
   "metadata": {},
   "source": [
    "Let's construct a class for the recursive descent parser (RDP). There will be a function for each nonterminal and a function to test whether the current input character what the grammar expects. We'll call this testing function ___current_input_matches_target_.\n",
    "\n",
    "***"
   ]
  },
  {
   "cell_type": "code",
   "execution_count": 11,
   "metadata": {},
   "outputs": [],
   "source": [
    "from typing import Callable, Optional\n",
    "class RDP:  # RDP stands for recursive descent parser\n",
    "    def __init__(self) -> None:\n",
    "        ###################################\n",
    "        # Tuple defining an LL(1) grammar #\n",
    "        # • set of nonterminals           #\n",
    "        # • set of terminals              #\n",
    "        # • starting nonterminal          #\n",
    "        # • set of productions            #\n",
    "        ###################################\n",
    "        self.nonterminals: set[str] = {'E', 'O', 'N'}  # set of nonterminals. Each nonterminal will have its own function\n",
    "        self.starting_nonterminal: Callable[[], None] = self.e  # Starting nonterminal\n",
    "        self.terminals: set[str] = {'+', '*', '0', '1', '2', '3'}  # set of terminals\n",
    "        # Productions                               # Defined within the nonterminal functions\n",
    "\n",
    "        ##########################################\n",
    "        # Define FIRST sets for each nonterminal #\n",
    "        ##########################################\n",
    "        self.first: dict[str, set[str]] = dict()\n",
    "        self.first['O'] = {'+', '-'}\n",
    "        self.first['N'] = {'0', '1', '2', '3'}\n",
    "\n",
    "        ###########################################\n",
    "        # Variables for Managing the input string #\n",
    "        ###########################################\n",
    "        self.input: Optional[str] = None\n",
    "        self.num_chars_read: int = 0\n",
    "\n",
    "        ###########################################\n",
    "        # Variables for printing the trace        #\n",
    "        ###########################################\n",
    "        self.tree_depth: int = 0\n",
    "\n",
    "    def parse_input(self, input_: str) -> None:\n",
    "        \"\"\" Call this function from main.\n",
    "            It gets the input, calls the starting non-terminal,\n",
    "            and does the accounting to see if the parse was successful\n",
    "        \"\"\"\n",
    "        print(\"Parsing string\", input_)\n",
    "        self.input = input_\n",
    "        self.starting_nonterminal()  # Run the RDP by calling the starting nonterminal\n",
    "        if self.num_chars_read == len(self.input):\n",
    "            print(\"Successfully parsed string\")\n",
    "        else:\n",
    "            raise ValueError(\n",
    "                \"End of parse and these characters haven't been read: \" + str(self.input[self.num_chars_read:]))\n",
    "\n",
    "    ##############################################################\n",
    "    # Each nonterminal gets its own function.                      #\n",
    "    # The function knows which productions have the nonterminal on #\n",
    "    # the left hand side of the production. The correct right    #\n",
    "    # hand side of the production is chosen by looking at the    #\n",
    "    # current input and the FIRST set of the right hand side     #\n",
    "    ##############################################################\n",
    "    def e(self) -> None:\n",
    "        # Production E--> N | OEE\n",
    "        self.__print_entry_message(\"E\")\n",
    "        print(self.__get_tab_string(), \"Trying to read input\", self.__get_current_input())\n",
    "        current_input = self.__get_current_input()\n",
    "        if current_input in self.first['N']:\n",
    "            self.n()\n",
    "        elif current_input in self.first['O']:\n",
    "            self.o()\n",
    "            self.e()\n",
    "            self.e()\n",
    "        else:  # error\n",
    "            raise ValueError(\"Current input is \" + str(current_input) + \", which cannot be produced by 'E'\")\n",
    "        self.__print_exit_message(\"E\")\n",
    "\n",
    "    def n(self) -> None:\n",
    "        # Production N --> 0 | 1 | 2 | 3\n",
    "        self.__print_entry_message(\"N\")\n",
    "        print(self.__get_tab_string(), \"Trying to read input\", self.__get_current_input())\n",
    "        if self.__current_input_matches_target('0') or \\\n",
    "                self.__current_input_matches_target('1') or \\\n",
    "                self.__current_input_matches_target('2') or \\\n",
    "                self.__current_input_matches_target('3'):\n",
    "            self.__advance_input()  # move to the next current input character\n",
    "            pass\n",
    "        else:\n",
    "            raise ValueError(\"Current input is \" + str(self.__get_current_input()) + \", which\")\n",
    "\n",
    "    def o(self) -> None:\n",
    "        # Production O --> + | *\n",
    "        self.__print_entry_message(\"O\")\n",
    "        print(self.__get_tab_string(), \"Trying to read input\", self.__get_current_input())\n",
    "        if self.__current_input_matches_target('+') or \\\n",
    "                self.__current_input_matches_target('*'):\n",
    "            self.__advance_input()  # move to the next current input character\n",
    "            pass\n",
    "        else:\n",
    "            raise ValueError(\"Current input is \" + str(self.__get_current_input()) + \", which\")\n",
    "\n",
    "    ############################################################################\n",
    "    # Helper functions for managing the input                                    #\n",
    "    # One looks at the current input                                           #\n",
    "    # Another reads the input and advances to the next input                   #\n",
    "    # A third looks to see if the current input character matches a target     #\n",
    "    # Convention in python is to prefix private functions by a double underscore #\n",
    "    # https://www.geeksforgeeks.org/private-functions-in-python/                 #\n",
    "    ############################################################################\n",
    "    def __get_current_input(self) -> str:\n",
    "        if self.num_chars_read == len(self.input):\n",
    "            raise ValueError(\"Expected to read another input character but no inputs left to read\")\n",
    "        return self.input[self.num_chars_read]\n",
    "\n",
    "    def __advance_input(self) -> None:\n",
    "        if self.num_chars_read == len(self.input):\n",
    "            raise ValueError(\"Expected to advance to next input character but no inputs left to read\")\n",
    "        self.num_chars_read += 1\n",
    "\n",
    "    def __current_input_matches_target(self, target_input: str) -> bool:\n",
    "        return self.__get_current_input() == target_input\n",
    "\n",
    "    ########################\n",
    "    # Other public functions #\n",
    "    ########################\n",
    "    def reset(self) -> None:\n",
    "        self.num_chars_read = 0\n",
    "        self.input = \"\"\n",
    "\n",
    "    ###############################\n",
    "    # Parse tree printing functions #\n",
    "    ###############################\n",
    "    def __print_entry_message(self, function_name: str) -> None:\n",
    "        print(self.__get_tab_string(), \"In\", function_name, \"function.\")\n",
    "        self.tree_depth += 1\n",
    "\n",
    "    def __print_exit_message(self, function_name: str) -> None:\n",
    "        self.tree_depth -= 1\n",
    "        print(self.__get_tab_string(), \"Returning from\", function_name, \".\")\n",
    "\n",
    "    def __get_tab_string(self) -> str:\n",
    "        tab_string = \"\"\n",
    "        for d in range(self.tree_depth):\n",
    "            tab_string += \"\\t\"\n",
    "        return tab_string\n",
    "\n"
   ]
  },
  {
   "cell_type": "code",
   "execution_count": 12,
   "metadata": {},
   "outputs": [
    {
     "name": "stdout",
     "output_type": "stream",
     "text": [
      "Parsing string +12\n",
      " In E function.\n",
      "\t Trying to read input +\n",
      "\t In O function.\n",
      "\t\t Trying to read input +\n",
      "\t\t In E function.\n",
      "\t\t\t Trying to read input 1\n",
      "\t\t\t In N function.\n",
      "\t\t\t\t Trying to read input 1\n",
      "\t\t\t Returning from E .\n",
      "\t\t\t In E function.\n",
      "\t\t\t\t Trying to read input 2\n",
      "\t\t\t\t In N function.\n",
      "\t\t\t\t\t Trying to read input 2\n",
      "\t\t\t\t Returning from E .\n",
      "\t\t\t Returning from E .\n",
      "Successfully parsed string\n"
     ]
    }
   ],
   "source": [
    "my_rdp: RDP = RDP()\n",
    "try:\n",
    "    my_rdp.parse_input('+12')\n",
    "except ValueError as inst:\n",
    "    message: tuple[str] = inst.args\n",
    "    print(message)\n",
    "\n"
   ]
  },
  {
   "cell_type": "code",
   "execution_count": 13,
   "metadata": {},
   "outputs": [
    {
     "name": "stdout",
     "output_type": "stream",
     "text": [
      "Parsing string +123\n",
      "\t\t\t In E function.\n",
      "\t\t\t\t Trying to read input +\n",
      "\t\t\t\t In O function.\n",
      "\t\t\t\t\t Trying to read input +\n",
      "\t\t\t\t\t In E function.\n",
      "\t\t\t\t\t\t Trying to read input 1\n",
      "\t\t\t\t\t\t In N function.\n",
      "\t\t\t\t\t\t\t Trying to read input 1\n",
      "\t\t\t\t\t\t Returning from E .\n",
      "\t\t\t\t\t\t In E function.\n",
      "\t\t\t\t\t\t\t Trying to read input 2\n",
      "\t\t\t\t\t\t\t In N function.\n",
      "\t\t\t\t\t\t\t\t Trying to read input 2\n",
      "\t\t\t\t\t\t\t Returning from E .\n",
      "\t\t\t\t\t\t Returning from E .\n",
      "(\"End of parse and these characters haven't been read: 3\",)\n"
     ]
    }
   ],
   "source": [
    "my_rdp.reset()\n",
    "try:\n",
    "    my_rdp.parse_input('+123')\n",
    "except ValueError as inst:\n",
    "    message: tuple[str] = inst.args\n",
    "    print(message)\n"
   ]
  },
  {
   "cell_type": "code",
   "execution_count": 14,
   "metadata": {},
   "outputs": [
    {
     "name": "stdout",
     "output_type": "stream",
     "text": [
      "Parsing string +1\n",
      "\t\t\t\t\t\t In E function.\n",
      "\t\t\t\t\t\t\t Trying to read input +\n",
      "\t\t\t\t\t\t\t In O function.\n",
      "\t\t\t\t\t\t\t\t Trying to read input +\n",
      "\t\t\t\t\t\t\t\t In E function.\n",
      "\t\t\t\t\t\t\t\t\t Trying to read input 1\n",
      "\t\t\t\t\t\t\t\t\t In N function.\n",
      "\t\t\t\t\t\t\t\t\t\t Trying to read input 1\n",
      "\t\t\t\t\t\t\t\t\t Returning from E .\n",
      "\t\t\t\t\t\t\t\t\t In E function.\n",
      "('Expected to read another input character but no inputs left to read',)\n"
     ]
    }
   ],
   "source": [
    "my_rdp.reset()\n",
    "try:\n",
    "    my_rdp.parse_input('+1')\n",
    "except ValueError as inst:\n",
    "    message: tuple[str] = inst.args\n",
    "    print(message)"
   ]
  },
  {
   "cell_type": "code",
   "execution_count": 15,
   "metadata": {},
   "outputs": [
    {
     "name": "stdout",
     "output_type": "stream",
     "text": [
      "Parsing string +1A\n",
      "\t\t\t\t\t\t\t\t\t\t In E function.\n",
      "\t\t\t\t\t\t\t\t\t\t\t Trying to read input +\n",
      "\t\t\t\t\t\t\t\t\t\t\t In O function.\n",
      "\t\t\t\t\t\t\t\t\t\t\t\t Trying to read input +\n",
      "\t\t\t\t\t\t\t\t\t\t\t\t In E function.\n",
      "\t\t\t\t\t\t\t\t\t\t\t\t\t Trying to read input 1\n",
      "\t\t\t\t\t\t\t\t\t\t\t\t\t In N function.\n",
      "\t\t\t\t\t\t\t\t\t\t\t\t\t\t Trying to read input 1\n",
      "\t\t\t\t\t\t\t\t\t\t\t\t\t Returning from E .\n",
      "\t\t\t\t\t\t\t\t\t\t\t\t\t In E function.\n",
      "\t\t\t\t\t\t\t\t\t\t\t\t\t\t Trying to read input A\n",
      "(\"Current input is A, which cannot be produced by 'E'\",)\n"
     ]
    }
   ],
   "source": [
    "my_rdp.reset()\n",
    "try:\n",
    "    my_rdp.parse_input('+1A')\n",
    "except ValueError as inst:\n",
    "    message: tuple[str] = inst.args\n",
    "    print(message)\n"
   ]
  },
  {
   "cell_type": "code",
   "execution_count": 16,
   "metadata": {},
   "outputs": [
    {
     "name": "stdout",
     "output_type": "stream",
     "text": [
      "Parsing string -31\n",
      "\t\t\t\t\t\t\t\t\t\t\t\t\t\t In E function.\n",
      "\t\t\t\t\t\t\t\t\t\t\t\t\t\t\t Trying to read input -\n",
      "\t\t\t\t\t\t\t\t\t\t\t\t\t\t\t In O function.\n",
      "\t\t\t\t\t\t\t\t\t\t\t\t\t\t\t\t Trying to read input -\n",
      "('Current input is -, which',)\n"
     ]
    }
   ],
   "source": [
    "my_rdp.reset()\n",
    "try:\n",
    "    my_rdp.parse_input('-31')\n",
    "except ValueError as inst:\n",
    "    message: tuple[str] = inst.args\n",
    "    print(message)"
   ]
  }
 ],
 "metadata": {
  "kernelspec": {
   "display_name": "Python 3",
   "language": "python",
   "name": "python3"
  },
  "language_info": {
   "codemirror_mode": {
    "name": "ipython",
    "version": 3
   },
   "file_extension": ".py",
   "mimetype": "text/x-python",
   "name": "python",
   "nbconvert_exporter": "python",
   "pygments_lexer": "ipython3",
   "version": "3.12.5"
  },
  "orig_nbformat": 4,
  "vscode": {
   "interpreter": {
    "hash": "aee8b7b246df8f9039afb4144a1f6fd8d2ca17a180786b69acc140d282b71a49"
   }
  }
 },
 "nbformat": 4,
 "nbformat_minor": 2
}
