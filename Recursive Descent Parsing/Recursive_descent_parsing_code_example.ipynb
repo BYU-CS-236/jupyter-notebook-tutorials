{
 "cells": [
  {
   "attachments": {},
   "cell_type": "markdown",
   "metadata": {},
   "source": [
    "#### Recursive Descent Parsing\n",
    "CS 236 <br>\n",
    "Fall 2023\n",
    "\n",
    "Michael A. Goodrich <br>\n",
    "Brigham Young University <br>\n",
    "February 2023\n",
    "***"
   ]
  },
  {
   "attachments": {},
   "cell_type": "markdown",
   "metadata": {},
   "source": [
    "Consider the following LL(1) Grammar\n",
    "* $E \\rightarrow N \\ | \\ OEE$\n",
    "* $O \\rightarrow +\\ |\\ *$ \n",
    "* $N \\rightarrow 0\\ |\\ 1\\ |\\ 2\\ |\\ 3$\n",
    "\n",
    "The starting non-terminal is $E$\n",
    "\n",
    "The first sets are\n",
    "* $FIRST(OEE) = FIRST(O) = \\{+,*\\}$\n",
    "* $FIRST(N) = \\{0,1,2,3\\}$\n",
    "\n",
    "***"
   ]
  },
  {
   "attachments": {},
   "cell_type": "markdown",
   "metadata": {},
   "source": [
    "Let's construct a class for the recursive descent parser (RDP). There will be a method for each nonterminal and a method to test whether the current input character what the grammar expects. We'll call this testing method ___current_input_matches_target_.\n",
    "\n",
    "***"
   ]
  },
  {
   "cell_type": "markdown",
   "metadata": {},
   "source": [
    "Notes about the project: \n",
    "\n",
    "Note 1: For project 2, this code will look a little different, as you will have to compare from a list of Token classes instead of a string input (these Tokens should have been created in project 1). In the code below, each production function compares two characters in the string, but for project 2 you will have to compare two token types, such as \"COMMA\" or \"PERIOD\". \n",
    "\n",
    "Note 2: For project 2, you do not have to create a self.FIRST entry for every single nonterminal. You only need to create an entry for the nonterminals that need it (aka it has a choice, and that choice doesn't include lambda as an option).\n",
    "\n",
    "Note 3: For project 2, you will not be required to keep track of a trace or print out a trace. That is for example purposes only."
   ]
  },
  {
   "cell_type": "code",
   "execution_count": 66,
   "metadata": {},
   "outputs": [],
   "source": [
    "class RDP: # RDP stands for recursive descent parser\n",
    "    def __init__(self):\n",
    "        ###################################\n",
    "        # Tuple defining an LL(1) grammar #\n",
    "        # • set of nonterminals           #\n",
    "        # • set of terminals              #\n",
    "        # • starting nonterminal          #\n",
    "        # • set of productions            #\n",
    "        ###################################\n",
    "        self.nonterminals = {'E','O','N'}           # set of nonterminals. Each nonterminal will have its own method\n",
    "        self.starting_nonterminal = self.E          # Starting nonterminal\n",
    "        self.terminals = {'+','*','0','1','2','3'}  # set of terminals\n",
    "        # Productions                               # Defined within the nonterminal methods\n",
    "        \n",
    "        ##########################################\n",
    "        # Define FIRST sets for each nonterminal #\n",
    "        ##########################################\n",
    "        self.FIRST = dict()\n",
    "        self.FIRST['O'] = {'+','-'}\n",
    "        self.FIRST['N'] = {'0','1','2','3'}\n",
    "\n",
    "        ###########################################\n",
    "        # Variables for Managing the input string #\n",
    "        ###########################################\n",
    "        self.input = None\n",
    "        self.num_chars_read = 0\n",
    "\n",
    "        ###########################################\n",
    "        # Variables for printing the trace        #\n",
    "        ###########################################\n",
    "        self.tree_depth = 0\n",
    "\n",
    "    def ParseInput(self,input):\n",
    "        \"\"\" Call this method from main.\n",
    "            It gets the input, calls the starting non-terminal,\n",
    "            and does the accounting to see if the parse was successful\n",
    "        \"\"\"\n",
    "        print(\"Parsing string\",input)\n",
    "        self.input = input\n",
    "        self.starting_nonterminal() # Run the RDP by calling the starting non terminal\n",
    "        if self.num_chars_read == self.input.__len__():\n",
    "            print(\"Successfully parsed string\")\n",
    "        else:\n",
    "            raise ValueError(\"End of parse and these characters have't been read: \" + str(self.input[self.num_chars_read:]))\n",
    "    \n",
    "    ##############################################################\n",
    "    # Each nonterminal gets its own method.                      #\n",
    "    # The method knows which productions have the nonterminal on #\n",
    "    # the left hand side of the production. The correct right    #\n",
    "    # hand side of the production is chosen by looking at the    #\n",
    "    # current input and the FIRST set of the right hand side     #\n",
    "    ##############################################################\n",
    "    def E(self):\n",
    "        # Production E--> N | OEE\n",
    "        self.__printEntryMessage(\"E\")\n",
    "        print(self.__getTabString(),\"Trying to read input\", self.__getCurrentInput())\n",
    "        current_input = self.__getCurrentInput()\n",
    "        if current_input in self.FIRST['N']:\n",
    "            self.N()\n",
    "        elif current_input in self.FIRST['O']:\n",
    "            self.O()\n",
    "            self.E()\n",
    "            self.E()\n",
    "        else: # error\n",
    "            raise ValueError(\"Current input is \" + str(current_input) + \", which cannot be produced by 'E'\")\n",
    "        self.__printExitMessage(\"E\")\n",
    "    def N(self):\n",
    "        # Production N --> 0 | 1 | 2 | 3\n",
    "        self.__printEntryMessage(\"N\")\n",
    "        print(self.__getTabString(),\"Trying to read input\", self.__getCurrentInput())\n",
    "        if self.__current_input_matches_target('0') or \\\n",
    "            self.__current_input_matches_target('1') or \\\n",
    "            self.__current_input_matches_target('2') or \\\n",
    "            self.__current_input_matches_target('3'):\n",
    "            self.__advanceInput() # move to the next current input character\n",
    "            pass\n",
    "        else:\n",
    "            raise ValueError(\"Current input is \" + str(self.__getCurrentInput()) + \", which cannot be produced by 'N'\")\n",
    "        self.__printExitMessage(\"N\")\n",
    "    def O(self):\n",
    "        # Production O --> + | * \n",
    "        self.__printEntryMessage(\"O\")\n",
    "        print(self.__getTabString(),\"Trying to read input\", self.__getCurrentInput())\n",
    "        if self.__current_input_matches_target('+') or \\\n",
    "            self.__current_input_matches_target('*'):\n",
    "            self.__advanceInput() # move to the next current input character\n",
    "            pass\n",
    "        else:\n",
    "            raise ValueError(\"Current input is \" + str(self.__getCurrentInput()) + \", which cannot be produced by 'O'\")\n",
    "        self.__printExitMessage(\"O\")\n",
    "\n",
    "    ############################################################################\n",
    "    # Helper methods for managing the input                                    #\n",
    "    # One looks at the current input                                           #\n",
    "    # Another reads the input and advances to the nexts input                  #\n",
    "    # A third looks to see if the current input character matches a target     #\n",
    "    # Convention in python is to prefix private methods by a double underscore #\n",
    "    # https://www.geeksforgeeks.org/private-methods-in-python/                 #\n",
    "    ############################################################################\n",
    "    def __getCurrentInput(self):\n",
    "        if self.num_chars_read == len(self.input):\n",
    "            raise ValueError(\"Expected to read another input character but no inputs left to read\")\n",
    "        return self.input[self.num_chars_read]\n",
    "    def __advanceInput(self):\n",
    "        if self.num_chars_read == len(self.input):\n",
    "            raise ValueError(\"Expected to advance to next input character but no inputs left to read\")\n",
    "        self.num_chars_read += 1\n",
    "    def __current_input_matches_target(self,target_input):\n",
    "        return self.__getCurrentInput() == target_input\n",
    "\n",
    "    ########################\n",
    "    # Other public methods #\n",
    "    ########################\n",
    "    def Reset(self):\n",
    "        self.num_chars_read = 0\n",
    "        self.input = \"\"\n",
    "\n",
    "    ###############################\n",
    "    # Parse tree printing methods #\n",
    "    ###############################\n",
    "    def __printEntryMessage(self,method_name):\n",
    "        print(self.__getTabString(),\"In\", method_name,\"method.\")\n",
    "        self.tree_depth += 1\n",
    "    def __printExitMessage(self,method_name):\n",
    "        self.tree_depth -= 1\n",
    "        print(self.__getTabString(),\"Returning from\", method_name,\".\")\n",
    "    def __getTabString(self):\n",
    "        tab_string = \"\"\n",
    "        for d in range(self.tree_depth):\n",
    "            tab_string+=\"\\t\"\n",
    "        return tab_string"
   ]
  },
  {
   "cell_type": "code",
   "execution_count": 67,
   "metadata": {},
   "outputs": [
    {
     "name": "stdout",
     "output_type": "stream",
     "text": [
      "Parsing string +12\n",
      " In E method.\n",
      "\t Trying to read input +\n",
      "\t In O method.\n",
      "\t\t Trying to read input +\n",
      "\t Returning from O .\n",
      "\t In E method.\n",
      "\t\t Trying to read input 1\n",
      "\t\t In N method.\n",
      "\t\t\t Trying to read input 1\n",
      "\t\t Returning from N .\n",
      "\t Returning from E .\n",
      "\t In E method.\n",
      "\t\t Trying to read input 2\n",
      "\t\t In N method.\n",
      "\t\t\t Trying to read input 2\n",
      "\t\t Returning from N .\n",
      "\t Returning from E .\n",
      " Returning from E .\n",
      "Successfully parsed string\n"
     ]
    }
   ],
   "source": [
    "my_RDP = RDP()\n",
    "try:\n",
    "    my_RDP.ParseInput('+12')\n",
    "except ValueError as inst:\n",
    "    message = inst.args\n",
    "    print(message)\n"
   ]
  },
  {
   "cell_type": "code",
   "execution_count": 60,
   "metadata": {},
   "outputs": [
    {
     "name": "stdout",
     "output_type": "stream",
     "text": [
      "Parsing string +123\n",
      " In E method.\n",
      "\t Trying to read input +\n",
      "\t In O method.\n",
      "\t\t Trying to read input +\n",
      "\t Returning from O .\n",
      "\t In E method.\n",
      "\t\t Trying to read input 1\n",
      "\t\t In N method.\n",
      "\t\t\t Trying to read input 1\n",
      "\t\t Returning from N .\n",
      "\t Returning from E .\n",
      "\t In E method.\n",
      "\t\t Trying to read input 2\n",
      "\t\t In N method.\n",
      "\t\t\t Trying to read input 2\n",
      "\t\t Returning from N .\n",
      "\t Returning from E .\n",
      " Returning from E .\n",
      "(\"End of parse and these characters have't been read: 3\",)\n"
     ]
    }
   ],
   "source": [
    "my_RDP.Reset()\n",
    "try:\n",
    "    my_RDP.ParseInput('+123')\n",
    "except ValueError as inst:\n",
    "    message = inst.args\n",
    "    print(message)"
   ]
  },
  {
   "cell_type": "code",
   "execution_count": 61,
   "metadata": {},
   "outputs": [
    {
     "name": "stdout",
     "output_type": "stream",
     "text": [
      "Parsing string +1\n",
      " In E method.\n",
      "\t Trying to read input +\n",
      "\t In O method.\n",
      "\t\t Trying to read input +\n",
      "\t Returning from O .\n",
      "\t In E method.\n",
      "\t\t Trying to read input 1\n",
      "\t\t In N method.\n",
      "\t\t\t Trying to read input 1\n",
      "\t\t Returning from N .\n",
      "\t Returning from E .\n",
      "\t In E method.\n",
      "('Expected to read another input character but no inputs left to read',)\n"
     ]
    }
   ],
   "source": [
    "my_RDP.Reset()\n",
    "try:\n",
    "    my_RDP.ParseInput('+1')\n",
    "except ValueError as inst:\n",
    "    message = inst.args\n",
    "    print(message)"
   ]
  },
  {
   "cell_type": "code",
   "execution_count": 68,
   "metadata": {},
   "outputs": [
    {
     "name": "stdout",
     "output_type": "stream",
     "text": [
      "Parsing string +1A\n",
      " In E method.\n",
      "\t Trying to read input +\n",
      "\t In O method.\n",
      "\t\t Trying to read input +\n",
      "\t Returning from O .\n",
      "\t In E method.\n",
      "\t\t Trying to read input 1\n",
      "\t\t In N method.\n",
      "\t\t\t Trying to read input 1\n",
      "\t\t Returning from N .\n",
      "\t Returning from E .\n",
      "\t In E method.\n",
      "\t\t Trying to read input A\n",
      "(\"Current input is A, which cannot be produced by 'E'\",)\n"
     ]
    }
   ],
   "source": [
    "my_RDP.Reset()\n",
    "try:\n",
    "    my_RDP.ParseInput('+1A')\n",
    "except ValueError as inst:\n",
    "    message = inst.args\n",
    "    print(message)"
   ]
  },
  {
   "cell_type": "code",
   "execution_count": null,
   "metadata": {},
   "outputs": [],
   "source": [
    "my_RDP.Reset()\n",
    "try:\n",
    "    my_RDP.ParseInput('-31')\n",
    "except ValueError as inst:\n",
    "    message = inst.args\n",
    "    print(message)"
   ]
  }
 ],
 "metadata": {
  "kernelspec": {
   "display_name": "Python 3",
   "language": "python",
   "name": "python3"
  },
  "language_info": {
   "codemirror_mode": {
    "name": "ipython",
    "version": 3
   },
   "file_extension": ".py",
   "mimetype": "text/x-python",
   "name": "python",
   "nbconvert_exporter": "python",
   "pygments_lexer": "ipython3",
   "version": "3.11.3"
  },
  "orig_nbformat": 4,
  "vscode": {
   "interpreter": {
    "hash": "aee8b7b246df8f9039afb4144a1f6fd8d2ca17a180786b69acc140d282b71a49"
   }
  }
 },
 "nbformat": 4,
 "nbformat_minor": 2
}
