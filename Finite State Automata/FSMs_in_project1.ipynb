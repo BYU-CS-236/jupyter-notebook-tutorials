{
 "cells": [
  {
   "cell_type": "markdown",
   "metadata": {},
   "source": [
    "### Using FSMs to Lex in Project 1 ##\n",
    "\n",
    "Let's implement the following FSM.\n",
    "\n",
    "[![colon-dash FSM](colon-dash_fsm.png)](https://www.dropbox.com/scl/fi/fzyo4nqfty84hpjmdefnz/colon-dash_fsm.png?rlkey=c8xn514yhua8s2px1nn0t8ytj&dl=0)\n",
    "\n"
   ]
  },
  {
   "cell_type": "markdown",
   "metadata": {},
   "source": [
    "First, notice what is output by the FSM: some outputs are Token types and others use the None type in Python. We'll have to deal with this when we define the class.\n",
    "\n",
    "Second, let's discuss the notation for the transitions. The input set $I$ is the set of all legal characters. A symbol inside the quotation marks means that the transition occurs if that single character is seen. Thus, ':' means transition from state $s_0$ to state $s_1$ when the colon character is read. When the input set symbol $I$ is used on a transition (see the self loop on state $s_{\\rm err}$) it means the transition occurs for any input character. Finally, when the transition is labeled with $I-\\{c\\}$ it means the transition occurs for any character in the set produced by the set difference operator. In other words, the transition occurs on any character except the $c$. For example, $I-\\{':'\\}$ means the transition occurs on any character except the colon charater.\n",
    "\n",
    "Stated simply, this FSM outputs  the _colon-dash_ token when it knows that it has seen the \":-\" pattern and otherwise outputs nothing.  We can implement it, but first we'll copy and paste the token.py file from the starter code for Project 1.\n"
   ]
  },
  {
   "cell_type": "markdown",
   "metadata": {},
   "source": [
    "The code below defines a TokenType, which is a list of the token types from the Project 1 description. The code below also defines the Token class, which creates the data structure seen in the slides: a tuple of token type, token value, and line number."
   ]
  },
  {
   "cell_type": "code",
   "execution_count": 14,
   "metadata": {},
   "outputs": [],
   "source": [
    "############\n",
    "## Cell 1 ##\n",
    "############\n",
    "\n",
    "from typing import Literal, Any\n",
    "\n",
    "TokenType = Literal[\n",
    "    \"COLON\",\n",
    "    \"COLON_DASH\",\n",
    "    \"COMMA\",\n",
    "    \"COMMENT\",\n",
    "    \"UNDEFINED\",\n",
    "    \"EOF\",\n",
    "    \"FACTS\",\n",
    "    \"ID\",\n",
    "    \"LEFT_PAREN\",\n",
    "    \"PERIOD\",\n",
    "    \"QUERIES\",\n",
    "    \"Q_MARK\",\n",
    "    \"RIGHT_PAREN\",\n",
    "    \"RULES\",\n",
    "    \"SCHEMES\",\n",
    "    \"STRING\",\n",
    "    \"WHITESPACE\",\n",
    "]\n",
    "\n",
    "\n",
    "class Token:\n",
    "    __slots__ = [\"token_type\", \"value\", \"line_num\"]\n",
    "\n",
    "    def __init__(self, token_type: TokenType, value: str, line_num: int = 0):\n",
    "        self.token_type: TokenType = token_type\n",
    "        self.value: str = value\n",
    "        self.line_num: int = line_num\n",
    "\n",
    "    def __str__(self) -> str:\n",
    "        return (\n",
    "            \"(\" + self.token_type + ',\"' + self.value + '\",' + str(self.line_num) + \")\"\n",
    "        )\n",
    "\n",
    "    def __eq__(self, other: Any) -> bool:\n",
    "        if isinstance(other, Token):\n",
    "            return (\n",
    "                self.token_type == other.token_type\n",
    "                and self.value == other.value\n",
    "                and self.line_num == other.line_num\n",
    "            )\n",
    "        return False\n",
    "\n",
    "    @staticmethod\n",
    "    def colon(value: Literal[\":\"]) -> \"Token\":\n",
    "        return Token(\"COLON\", value)\n",
    "\n",
    "    @staticmethod\n",
    "    def colon_dash(value: Literal[\":-\"]) -> \"Token\":\n",
    "        return Token(\"COLON_DASH\", value)\n",
    "\n",
    "    @staticmethod\n",
    "    def comma(value: Literal[\",\"]) -> \"Token\":\n",
    "        return Token(\"COMMA\", value)\n",
    "\n",
    "    @staticmethod\n",
    "    def comment(value: str) -> \"Token\":\n",
    "        return Token(\"COMMENT\", value)\n",
    "\n",
    "    @staticmethod\n",
    "    def undefined(value: str) -> \"Token\":\n",
    "        return Token(\"UNDEFINED\", value)\n",
    "\n",
    "    @staticmethod\n",
    "    def eof(value: Literal[\"\"]) -> \"Token\":\n",
    "        return Token(\"EOF\", value)\n",
    "\n",
    "    @staticmethod\n",
    "    def facts(value: Literal[\"Facts\"]) -> \"Token\":\n",
    "        return Token(\"FACTS\", value)\n",
    "\n",
    "    @staticmethod\n",
    "    def id(value: str) -> \"Token\":\n",
    "        return Token(\"ID\", value)\n",
    "\n",
    "    @staticmethod\n",
    "    def left_paren(value: Literal[\"(\"]) -> \"Token\":\n",
    "        return Token(\"LEFT_PAREN\", value)\n",
    "\n",
    "    @staticmethod\n",
    "    def period(value: Literal[\".\"]) -> \"Token\":\n",
    "        return Token(\"PERIOD\", value)\n",
    "\n",
    "    @staticmethod\n",
    "    def queries(value: Literal[\"Queries\"]) -> \"Token\":\n",
    "        return Token(\"QUERIES\", value)\n",
    "\n",
    "    @staticmethod\n",
    "    def q_mark(value: Literal[\"?\"]) -> \"Token\":\n",
    "        return Token(\"Q_MARK\", value)\n",
    "\n",
    "    @staticmethod\n",
    "    def right_paren(value: Literal[\")\"]) -> \"Token\":\n",
    "        return Token(\"RIGHT_PAREN\", value)\n",
    "\n",
    "    @staticmethod\n",
    "    def rules(value: Literal[\"Rules\"]) -> \"Token\":\n",
    "        return Token(\"RULES\", value)\n",
    "\n",
    "    @staticmethod\n",
    "    def schemes(value: Literal[\"Schemes\"]) -> \"Token\":\n",
    "        return Token(\"SCHEMES\", value)\n",
    "\n",
    "    @staticmethod\n",
    "    def string(value: str) -> \"Token\":\n",
    "        return Token(\"STRING\", value)\n",
    "\n",
    "    @staticmethod\n",
    "    def whitespace(value: str) -> \"Token\":\n",
    "        for i in value:\n",
    "            assert i == \" \" or i == \"\\t\" or i == \"\\n\" or i == \"\\r\"\n",
    "        return Token(\"WHITESPACE\", value)"
   ]
  },
  {
   "cell_type": "markdown",
   "metadata": {},
   "source": [
    "Let's now create the FSM class."
   ]
  },
  {
   "cell_type": "code",
   "execution_count": 15,
   "metadata": {},
   "outputs": [],
   "source": [
    "############\n",
    "## Cell 2 ##\n",
    "############\n",
    "\n",
    "from typing import Callable as function\n",
    "\n",
    "# Define a type for State\n",
    "State = function[[str], tuple[function, Token]]\n",
    "\n",
    "class ColonDashFSM:\n",
    "    def __init__(self) -> None:\n",
    "        self.start_state: State = self.s_0\n",
    "        self.terminating_states: set[State] = {self.s_acc, self.s_rej}\n",
    "\n",
    "    ######################################\n",
    "    ## Define a Function for each state ##\n",
    "    ######################################\n",
    "    def s_0(self, input_symbol: str) -> tuple[State, Token | None]:\n",
    "        # return the next state and return the output as a tuple (next state, output operator)\n",
    "        match input_symbol:\n",
    "            case \":\": # Colon\n",
    "                return (self.s_1, None)\n",
    "            case _: # Anything else\n",
    "                return (self.s_rej, None)\n",
    "    \n",
    "    def s_1(self, input_symbol: str) -> tuple[State, Token | None]:\n",
    "        # return the next state and return the output as a tuple (next state, output operator)\n",
    "        match input_symbol:\n",
    "            case \"-\": # Dash\n",
    "                return (self.s_acc, Token.colon_dash(\":-\"))\n",
    "            case _: # Anything else\n",
    "                return (self.s_rej, None)\n",
    "    \n",
    "    def s_rej(self, input_symbol: str) -> tuple[State, Token | None]:\n",
    "        # return the next state and return the output as a tuple (next state, output operator)\n",
    "        return (self.s_rej, None)\n",
    "\n",
    "    def s_acc(self, input_symbol: str) -> tuple[State, Token | None]:\n",
    "        # return the next state and return the output as a tuple (next state, output operator)\n",
    "        return (self.s_acc, None)"
   ]
  },
  {
   "cell_type": "markdown",
   "metadata": {},
   "source": [
    "We'll talk about what the terminating\\_states attribute does in class.\n",
    "\n",
    "Note that each state function returns a next state, which is denoted by the \"State\" in the return type \"[State, Token | None]\". Finally, that each state function returns an output that can have a Nonetype or a Token type, which is denoted by the \"Token | None\" in the return type. "
   ]
  },
  {
   "cell_type": "code",
   "execution_count": 16,
   "metadata": {},
   "outputs": [],
   "source": [
    "#############################################\n",
    "## Define a function that runs the machine ##\n",
    "#############################################\n",
    "def run(input_sequence: str, fsm: ColonDashFSM) -> Token:\n",
    "    # Use a C++ style declaration of local variables\n",
    "    present_state: State = fsm.start_state\n",
    "    next_state: State\n",
    "    token: Token\n",
    "\n",
    "    # We'll talk about what this line does when we discuss the whitespace FSM\n",
    "    input_sequence += \"#\"\n",
    "\n",
    "    # Step through each input symbol\n",
    "    for symbol in list(input_sequence):\n",
    "        # Ask the present state what the next state and output should be\n",
    "        next_state, token = present_state(symbol)\n",
    "        #print(f\"present state = {present_state}, symbol = {symbol}, next_state = {next_state}\")\n",
    "        # Update the state\n",
    "        present_state = next_state\n",
    "        # Don't keep running if you know you've succeeded or failed\n",
    "        if present_state in fsm.terminating_states: \n",
    "            break\n",
    "        \n",
    "    return token"
   ]
  },
  {
   "cell_type": "code",
   "execution_count": 17,
   "metadata": {},
   "outputs": [
    {
     "name": "stdout",
     "output_type": "stream",
     "text": [
      "All tests of the colon-dash fsms succeeded\n"
     ]
    }
   ],
   "source": [
    "fsm: ColonDashFSM = ColonDashFSM()\n",
    "def test_fsm(fsm):\n",
    "    assert run(\":-\", fsm).token_type == \"COLON_DASH\", \"\\':-\\' failed\"\n",
    "    assert run(\":\", fsm) is None, \": failed\"\n",
    "    assert run(\":---\", fsm).token_type == \"COLON_DASH\", \"\\':---\\' failed\"\n",
    "    assert run(\"-:\", fsm) is None, \"\\'-:\\' failed\"\n",
    "    print(\"All tests of the colon-dash fsms succeeded\")\n",
    "\n",
    "test_fsm(fsm)"
   ]
  },
  {
   "cell_type": "markdown",
   "metadata": {},
   "source": [
    "---"
   ]
  },
  {
   "cell_type": "markdown",
   "metadata": {},
   "source": [
    "### Inheritance ###\n",
    "\n",
    "Since we are going to create a lot of FSMs, let's use inheritance to provide a consistent interface for the _run_ method. The base class should specify required elements of all FSMs."
   ]
  },
  {
   "cell_type": "code",
   "execution_count": 18,
   "metadata": {},
   "outputs": [],
   "source": [
    "############\n",
    "## Cell 3 ##\n",
    "############\n",
    "\n",
    "class FiniteStateMachine:\n",
    "    def __init__(self, start_state: State, terminating_states: set[State]) -> None:\n",
    "        self.start_state = start_state\n",
    "        self.terminating_states = terminating_states # To be explained later\n",
    "\n",
    "    # The starter code has a few more elements in the base class"
   ]
  },
  {
   "cell_type": "markdown",
   "metadata": {},
   "source": [
    "Let's now redo the colon-dash FSM so that it inherits from the FiniteStateMachine base class."
   ]
  },
  {
   "cell_type": "code",
   "execution_count": 19,
   "metadata": {},
   "outputs": [],
   "source": [
    "############\n",
    "## Cell 4 ##\n",
    "############\n",
    "\n",
    "class ColonDashFSM(FiniteStateMachine):\n",
    "    def __init__(self) -> None:\n",
    "        start_state: State = self.s_0\n",
    "        terminating_states: set[State] = {self.s_acc, self.s_rej}\n",
    "        super().__init__(start_state, terminating_states)\n",
    "\n",
    "    ######################################\n",
    "    ## Define a Function for each state ##\n",
    "    ######################################\n",
    "    def s_0(self, input_symbol: str) -> tuple[State, Token | None]:\n",
    "        # return the next state and return the output as a tuple (next state, output operator)\n",
    "        match input_symbol:\n",
    "            case \":\": # Colon\n",
    "                return (self.s_1, None)\n",
    "            case _: # Anything else\n",
    "                return (self.s_rej, None)\n",
    "    \n",
    "    def s_1(self, input_symbol: str) -> tuple[State, Token | None]:\n",
    "        # return the next state and return the output as a tuple (next state, output operator)\n",
    "        match input_symbol:\n",
    "            case \"-\": # Dash\n",
    "                return (self.s_acc, Token.colon_dash(\":-\"))\n",
    "            case _: # Anything else\n",
    "                return (self.s_rej, None)\n",
    "    \n",
    "    def s_rej(self, input_symbol: str) -> tuple[State, Token | None]:\n",
    "        # return the next state and return the output as a tuple (next state, output operator)\n",
    "        return (self.s_rej, None)\n",
    "\n",
    "    def s_acc(self, input_symbol: str) -> tuple[State, Token | None]:\n",
    "        # return the next state and return the output as a tuple (next state, output operator)\n",
    "        return (self.s_acc, None)"
   ]
  },
  {
   "cell_type": "markdown",
   "metadata": {},
   "source": [
    "We won't see a lot of benefit from inheritance yet, but hang on.  A small benefit is that we can change the _run_ function to run on any FSM we design as long as the FSM inherits from the base class. The only difference is the type of the fsm. Notice that the colon-dash FSM class inherits from the FiniteStateMachine class, so we list the type of this class as _FiniteStateMachine_ in the arguments of the _run_ method."
   ]
  },
  {
   "cell_type": "code",
   "execution_count": 20,
   "metadata": {},
   "outputs": [],
   "source": [
    "############\n",
    "## Cell 5 ##\n",
    "############\n",
    "\n",
    "#############################################\n",
    "## Define a function that runs the machine ##\n",
    "#############################################\n",
    "del run\n",
    "def run(input_sequence: str, fsm: FiniteStateMachine) -> Token:\n",
    "    # Use a C++ style declaration of local variables\n",
    "    present_state: State = fsm.start_state\n",
    "    next_state: State\n",
    "    token: Token\n",
    "\n",
    "    # We'll talk about what this line does when we discuss the whitespace FSM\n",
    "    input_sequence += \"#\"\n",
    "\n",
    "    # Step through each input symbol\n",
    "    for symbol in list(input_sequence):\n",
    "        # Ask the present state what the next state and output should be\n",
    "        next_state, token = present_state(symbol)\n",
    "        # Update the state\n",
    "        present_state = next_state\n",
    "        # Don't keep running if you know you've succeeded or failed\n",
    "        if present_state in fsm.terminating_states: \n",
    "            break\n",
    "        \n",
    "    return token"
   ]
  },
  {
   "cell_type": "markdown",
   "metadata": {},
   "source": [
    "And test"
   ]
  },
  {
   "cell_type": "code",
   "execution_count": 21,
   "metadata": {},
   "outputs": [
    {
     "name": "stdout",
     "output_type": "stream",
     "text": [
      "All tests of the colon-dash fsms succeeded\n"
     ]
    }
   ],
   "source": [
    "def test_colondash_fsm() -> None: # How define the type passes to this test function\n",
    "    fsm: ColonDashFSM = ColonDashFSM()\n",
    "    assert run(\":-\", fsm).token_type == \"COLON_DASH\", \"\\':-\\' failed\"\n",
    "    assert run(\":\", fsm) is None, \": failed\"\n",
    "    assert run(\":---\", fsm).token_type == \"COLON_DASH\", \"\\':---\\' failed\"\n",
    "    assert run(\"-:\", fsm) is None, \"\\'-:\\' failed\"\n",
    "    print(\"All tests of the colon-dash fsms succeeded\")\n",
    "\n",
    "test_colondash_fsm()"
   ]
  },
  {
   "cell_type": "markdown",
   "metadata": {},
   "source": [
    "---"
   ]
  },
  {
   "cell_type": "markdown",
   "metadata": {},
   "source": [
    "Let's repeat the exercise but with a FSM that counts whitespace. Recall that white space includes spaces (' '), tabs ('\\\\t'), carriage returns ('\\\\r'), and newlines ('\\n'). Define the set $W = ${' ', '\\\\t\\', '\\\\r', '\\\\n'}.\n",
    "\n",
    "We can implement the following FSM that counts the whitespaces until it finds a character that is not a whitespace. Let's try to implement it in the same way as the previous machine.\n",
    "\n",
    "[![whitespace FSM](whitespace-token_fsm.png)](https://www.dropbox.com/scl/fi/4vqh101flb1ajvjr204jw/whitespace-token_fsm.png?rlkey=h2pfjjz8tacr4zsip0d7octnd&dl=0)"
   ]
  },
  {
   "cell_type": "markdown",
   "metadata": {},
   "source": [
    "The class for this whitespace FSM follows the same pattern as the colon-dash FSM."
   ]
  },
  {
   "cell_type": "code",
   "execution_count": 22,
   "metadata": {},
   "outputs": [],
   "source": [
    "class WhitespaceFSM(FiniteStateMachine):\n",
    "    def __init__(self) -> None:\n",
    "        start_state: State = self.s_0\n",
    "        terminating_states: set[State] = {self.s_acc, self.s_rej}\n",
    "        super().__init__(start_state, terminating_states)\n",
    "\n",
    "    ######################################\n",
    "    ## Define a Function for each state ##\n",
    "    ######################################\n",
    "    def s_0(self, input_symbol: str) -> tuple[State, Token | None]:\n",
    "        if input_symbol in {' ', '\\t', '\\r', '\\n'}:\n",
    "            return (self.s_1, None)\n",
    "        else:\n",
    "            return (self.s_rej, None)\n",
    "    \n",
    "    def s_1(self, input_symbol: str) -> tuple[State, Token | None]:\n",
    "        if input_symbol in {' ', '\\t', '\\r', '\\n'}:\n",
    "            return (self.s_1, None)\n",
    "        else:\n",
    "            return (self.s_acc, Token.whitespace(\" \")) # This is where the problem is\n",
    "    \n",
    "    def s_rej(self, input_symbol: str) -> tuple[State, Token | None]:\n",
    "        # return the next state and return the output as a tuple (next state, output operator)\n",
    "        return (self.s_rej, None)\n",
    "\n",
    "    def s_acc(self, input_symbol: str) -> tuple[State, Token | None]:\n",
    "        # return the next state and return the output as a tuple (next state, output operator)\n",
    "        return (self.s_acc, None)"
   ]
  },
  {
   "cell_type": "markdown",
   "metadata": {},
   "source": [
    "The whitespace FSM is very similar to the colon-dash FSM. There are two problems.\n",
    " - __Problem 1:__ The transition from $s_1$ to $s_{\\rm acc}$ says to output a whitespace token; see line 20. The problem is that in order to create a token we must not only specify the token type but also the token value. In this case, the token value is the sequence of whitespace characters encountered. How will the FSM know this?\n",
    " - __Problem 2:__ The transition from $s_1$ to $s_{\\rm acc}$ must read a character. What happens if the whitespace occurs at the end of the string so that there are no more characters to read? We'd still be in state s1 (see line 18) and never get a chance to output the whitespace token.\n",
    "\n",
    "Solving the second problem is easy -- concatenate an extra symbol to the end of the string so that there is always one character to read. I'll concatenate a #. This is done on line 12 of the _run_ function.\n",
    "\n",
    "Solving the first problem is harder. The value of the token should equal the sequence of whitespace characters read. Unfortunately, because of the way the FSM is defined, only a space is returned. Let's confirm this by writing tests for the whitespace fsm."
   ]
  },
  {
   "cell_type": "code",
   "execution_count": 23,
   "metadata": {},
   "outputs": [],
   "source": [
    "def test_whitespace_fsm():\n",
    "    fsm: WhitespaceFSM = WhitespaceFSM()\n",
    "    # Test that None is returned if string doesn't start with whitespace\n",
    "    assert run(\":\", fsm) is None, \": type failed\"\n",
    "    print(\"Test that whitespace fsm returns None if string does not begin with whitespace char succeeded\")\n",
    "\n",
    "    # Test for correct token types\n",
    "    assert run(\" \", fsm).token_type == \"WHITESPACE\", \"' ' type failed\"\n",
    "    assert run(\" \\n\\t\\r\", fsm).token_type == \"WHITESPACE\", \"' \\\\n\\\\t\\\\r' type failed\"\n",
    "    assert run(\" \\n\\t hi \\n\\t\", fsm).token_type == \"WHITESPACE\", \"' \\\\n\\\\t hi \\\\n\\\\t' type failed\"\n",
    "    print(\"All tests of the whitespace token types succeeded\")\n",
    "\n",
    "    # Test for correct token values\n",
    "    assert run(\" \", fsm).value == \" \", \"' ' value failed\"\n",
    "    assert run(\" \\n\\t\\r\", fsm).value == \" \\n\\t\\r\", \"' \\\\n\\\\t\\\\r' value failed\"\n",
    "    assert run(\" \\n\\t hi \\n\\t\", fsm).value == \" \\n\\t \", \"' \\\\n\\\\t hi \\\\n\\\\t' value failed\"\n",
    "    print(\"All tests of the whitespace fsm succeeded\")"
   ]
  },
  {
   "cell_type": "markdown",
   "metadata": {},
   "source": [
    "And now run the tests"
   ]
  },
  {
   "cell_type": "code",
   "execution_count": 24,
   "metadata": {},
   "outputs": [
    {
     "name": "stdout",
     "output_type": "stream",
     "text": [
      "Test that whitespace fsm returns None if string does not begin with whitespace char succeeded\n",
      "All tests of the whitespace token types succeeded\n"
     ]
    },
    {
     "ename": "AssertionError",
     "evalue": "' \\n\\t\\r' value failed",
     "output_type": "error",
     "traceback": [
      "\u001b[0;31m---------------------------------------------------------------------------\u001b[0m",
      "\u001b[0;31mAssertionError\u001b[0m                            Traceback (most recent call last)",
      "Cell \u001b[0;32mIn[24], line 1\u001b[0m\n\u001b[0;32m----> 1\u001b[0m \u001b[43mtest_whitespace_fsm\u001b[49m\u001b[43m(\u001b[49m\u001b[43m)\u001b[49m\n",
      "Cell \u001b[0;32mIn[23], line 15\u001b[0m, in \u001b[0;36mtest_whitespace_fsm\u001b[0;34m()\u001b[0m\n\u001b[1;32m     13\u001b[0m \u001b[38;5;66;03m# Test for correct token values\u001b[39;00m\n\u001b[1;32m     14\u001b[0m \u001b[38;5;28;01massert\u001b[39;00m run(\u001b[38;5;124m\"\u001b[39m\u001b[38;5;124m \u001b[39m\u001b[38;5;124m\"\u001b[39m, fsm)\u001b[38;5;241m.\u001b[39mvalue \u001b[38;5;241m==\u001b[39m \u001b[38;5;124m\"\u001b[39m\u001b[38;5;124m \u001b[39m\u001b[38;5;124m\"\u001b[39m, \u001b[38;5;124m\"\u001b[39m\u001b[38;5;124m'\u001b[39m\u001b[38;5;124m \u001b[39m\u001b[38;5;124m'\u001b[39m\u001b[38;5;124m value failed\u001b[39m\u001b[38;5;124m\"\u001b[39m\n\u001b[0;32m---> 15\u001b[0m \u001b[38;5;28;01massert\u001b[39;00m run(\u001b[38;5;124m\"\u001b[39m\u001b[38;5;124m \u001b[39m\u001b[38;5;130;01m\\n\u001b[39;00m\u001b[38;5;130;01m\\t\u001b[39;00m\u001b[38;5;130;01m\\r\u001b[39;00m\u001b[38;5;124m\"\u001b[39m, fsm)\u001b[38;5;241m.\u001b[39mvalue \u001b[38;5;241m==\u001b[39m \u001b[38;5;124m\"\u001b[39m\u001b[38;5;124m \u001b[39m\u001b[38;5;130;01m\\n\u001b[39;00m\u001b[38;5;130;01m\\t\u001b[39;00m\u001b[38;5;130;01m\\r\u001b[39;00m\u001b[38;5;124m\"\u001b[39m, \u001b[38;5;124m\"\u001b[39m\u001b[38;5;124m'\u001b[39m\u001b[38;5;124m \u001b[39m\u001b[38;5;130;01m\\\\\u001b[39;00m\u001b[38;5;124mn\u001b[39m\u001b[38;5;130;01m\\\\\u001b[39;00m\u001b[38;5;124mt\u001b[39m\u001b[38;5;130;01m\\\\\u001b[39;00m\u001b[38;5;124mr\u001b[39m\u001b[38;5;124m'\u001b[39m\u001b[38;5;124m value failed\u001b[39m\u001b[38;5;124m\"\u001b[39m\n\u001b[1;32m     16\u001b[0m \u001b[38;5;28;01massert\u001b[39;00m run(\u001b[38;5;124m\"\u001b[39m\u001b[38;5;124m \u001b[39m\u001b[38;5;130;01m\\n\u001b[39;00m\u001b[38;5;130;01m\\t\u001b[39;00m\u001b[38;5;124m hi \u001b[39m\u001b[38;5;130;01m\\n\u001b[39;00m\u001b[38;5;130;01m\\t\u001b[39;00m\u001b[38;5;124m\"\u001b[39m, fsm)\u001b[38;5;241m.\u001b[39mvalue \u001b[38;5;241m==\u001b[39m \u001b[38;5;124m\"\u001b[39m\u001b[38;5;124m \u001b[39m\u001b[38;5;130;01m\\n\u001b[39;00m\u001b[38;5;130;01m\\t\u001b[39;00m\u001b[38;5;124m \u001b[39m\u001b[38;5;124m\"\u001b[39m, \u001b[38;5;124m\"\u001b[39m\u001b[38;5;124m'\u001b[39m\u001b[38;5;124m \u001b[39m\u001b[38;5;130;01m\\\\\u001b[39;00m\u001b[38;5;124mn\u001b[39m\u001b[38;5;130;01m\\\\\u001b[39;00m\u001b[38;5;124mt hi \u001b[39m\u001b[38;5;130;01m\\\\\u001b[39;00m\u001b[38;5;124mn\u001b[39m\u001b[38;5;130;01m\\\\\u001b[39;00m\u001b[38;5;124mt\u001b[39m\u001b[38;5;124m'\u001b[39m\u001b[38;5;124m value failed\u001b[39m\u001b[38;5;124m\"\u001b[39m\n\u001b[1;32m     17\u001b[0m \u001b[38;5;28mprint\u001b[39m(\u001b[38;5;124m\"\u001b[39m\u001b[38;5;124mAll tests of the whitespace fsm succeeded\u001b[39m\u001b[38;5;124m\"\u001b[39m)\n",
      "\u001b[0;31mAssertionError\u001b[0m: ' \\n\\t\\r' value failed"
     ]
    }
   ],
   "source": [
    "test_whitespace_fsm()"
   ]
  },
  {
   "cell_type": "markdown",
   "metadata": {},
   "source": [
    "Each test of the token type succeeds, but the tests on sequences of whitespace characters all fail. The problem is that the FSM above cannot \"remember\" which characters it has seen. Let's try to solve this by (incorrectly) adding a class attribute to which we write the sequence of characters. "
   ]
  },
  {
   "cell_type": "code",
   "execution_count": 25,
   "metadata": {},
   "outputs": [],
   "source": [
    "del WhitespaceFSM\n",
    "class WhitespaceFSM(FiniteStateMachine):\n",
    "    def __init__(self) -> None:\n",
    "        start_state: State = self.s_0\n",
    "        terminating_states: set[State] = {self.s_acc, self.s_rej}\n",
    "        super().__init__(start_state, terminating_states)\n",
    "        self.characters_seen: str\n",
    "\n",
    "    ######################################\n",
    "    ## Define a Function for each state ##\n",
    "    ######################################\n",
    "    def s_0(self, input_symbol: str) -> tuple[State, Token | None]:\n",
    "        self.characters_seen = \"\" # Initialize the character memory to the empty string\n",
    "        if input_symbol in {' ', '\\t', '\\r', '\\n'}:\n",
    "            self.characters_seen += input_symbol\n",
    "            return (self.s_1, None)\n",
    "        else:\n",
    "            return (self.s_rej, None)\n",
    "    \n",
    "    def s_1(self, input_symbol: str) -> tuple[State, Token | None]:\n",
    "        if input_symbol in {' ', '\\t', '\\r', '\\n'}:\n",
    "            self.characters_seen += input_symbol\n",
    "            return (self.s_1, None)\n",
    "        else:\n",
    "            return (self.s_acc, Token.whitespace(self.characters_seen)) # This is where the problem is\n",
    "    \n",
    "    def s_rej(self, input_symbol: str) -> tuple[State, Token | None]:\n",
    "        # return the next state and return the output as a tuple (next state, output operator)\n",
    "        return (self.s_rej, None)\n",
    "\n",
    "    def s_acc(self, input_symbol: str) -> tuple[State, Token | None]:\n",
    "        # return the next state and return the output as a tuple (next state, output operator)\n",
    "        return (self.s_acc, None)"
   ]
  },
  {
   "cell_type": "markdown",
   "metadata": {},
   "source": [
    "Notice the five differences in this definition of rhe FSM from the previous definition.\n",
    "- line 7 defines a class attribute that remembers what characters have been read as a string\n",
    "- line 13 initializes the sequence of characters read to the empty string before anything else is done.\n",
    "- lines 15 and 22 add the character read to the end of the sequence of characters read so far\n",
    "- line 25 passes the string to the token function\n",
    "\n",
    "Let's test!\n"
   ]
  },
  {
   "cell_type": "code",
   "execution_count": 26,
   "metadata": {},
   "outputs": [
    {
     "name": "stdout",
     "output_type": "stream",
     "text": [
      "Test that whitespace fsm returns None if string does not begin with whitespace char succeeded\n",
      "All tests of the whitespace token types succeeded\n",
      "All tests of the whitespace fsm succeeded\n"
     ]
    }
   ],
   "source": [
    "test_whitespace_fsm()"
   ]
  },
  {
   "cell_type": "markdown",
   "metadata": {},
   "source": [
    "This seems like a good result since all tests passed, but there is a problem. Specifically, the machine we created is no longer a finite state machine. Recall the elements in the definition of a FSM\n",
    "- set of states\n",
    "- set of inputs\n",
    "- set ouf outputs\n",
    "- start state\n",
    "- transition function\n",
    "- output function\n",
    "\n",
    "There isn't anything in the definition that allows the machine to remember what inputs have been seen. In fact, the only form of memory in a FSM is the state. This limited form of FSM memory is important. Indeed, limiting memory to \"what state am I in\" is both the strength and the weakness of the FSM. It is the strength of the FSM because it means we can keep these machines simple. It is the weakness because it means there are certain kinds of patterns that an FSM can't detect.\n",
    "\n",
    "Fortunately, a sequence of whitespace characters is a pattern that can be detected by the FSM. We just need to be a bit more clever in how we define the FSM.\n",
    "\n",
    "---"
   ]
  },
  {
   "cell_type": "markdown",
   "metadata": {},
   "source": [
    "We can create a FSM that we can use to recognize the whitespace pattern. There are a couple of tricks to understanding this new FSM.\n",
    "- First, the FSM won't create and output the token. Instead, it gives instructions to the world.\n",
    "- Second, the instructions to the world say things like\n",
    " - The string starts with a whitespace character, so if you are counting then you should set the number of whitespace characters read to one. See the transition from $s_0$ to $s_1$.\n",
    " - I've successfully read another whitespace character, so if you are counting then you should increment the number of whitespace characters that have been read. See the self loop on state $s_1$.\n",
    " - I've read a new character from the input string but it's not a whitespace character, so if you are counting don't increment. See the transitions on $s_{\\rm rej}$ and $s_{\\rm acc}$.\n",
    " - I've not read any whitespace characters at the start of the input so if you are counting then set the value to zero. See the transition from state $s_0$ to state $s_{\\rm rej}$.\n",
    "- Third, it's the responsibility of whatever is running the FSM to create the token. It's like a contract between the FSM and whatever is running it. We'll use a _run_ function to run the FSM.\n",
    " - The _run_ method is responsible for remembering how many whitespace characters were actually read.\n",
    " - The _run_ method is responsible for creating the token. It can create the token value because it knows how many whitespace characters it has read.\n",
    " - The FSM is responsible for telling the whatever is calling it what how it should count.\n",
    " "
   ]
  },
  {
   "cell_type": "markdown",
   "metadata": {},
   "source": [
    "Here's the FSM.\n",
    "\n",
    "[![whitespace FSM](revised-whitespace_fsm.png)](https://www.dropbox.com/scl/fi/dcrrgp10mp8wll5bho0q2/revised-whitespace_fsm.png?rlkey=xkoe3uvsukyelrp9yszkzmgvw&dl=0)\n",
    "\n",
    "\n",
    "The FSM outputs instructions to the _run_ method. These instructions are of the form \"whatever your variable $o$ is, map it to something else.\" These instructions are written as mappings \"$o$ gets something else.\"\n",
    "- The instruction on the transition from $s_0$ to $s_{\\rm rej}$ says \"no whitespace characters were found at the start of the input.\"\n",
    "- The instruction on the transition from $s_0$ to $s_1$ says \"the input starts with a whitespace character.\"\n",
    "- The instruction on the selfloop on $s_1$ says \"I've read another whitespace character in the input sequence.\"\n",
    "- The instruction on the transition from $s_1$ to $s_{\\rm acc}$ says \"I've reached the end of the whitespaces at the start of the input so you don't need to do anything.\"\n",
    "- The instructions on the selfloop on $s_{\\rm rej}$ and $s_{\\rm acc}$ say \"I'm still reading input characters but you don't need to do anything.\""
   ]
  },
  {
   "cell_type": "code",
   "execution_count": 27,
   "metadata": {},
   "outputs": [],
   "source": [
    "from typing import Callable as function\n",
    "\n",
    "# Define a type for State and the Output operator\n",
    "State = function[[str], tuple[function, function]] # Notice that the State return type has changed\n",
    "OutputOperator = function[[int], int] # This defines a type for the instructions to the run method\n",
    "\n",
    "del WhitespaceFSM\n",
    "class WhitespaceFSM(FiniteStateMachine):\n",
    "    def __init__(self) -> None:\n",
    "        start_state: State = self.s_0\n",
    "        terminating_states: set[State] = {self.s_acc, self.s_rej}\n",
    "        super().__init__(start_state, terminating_states)\n",
    "\n",
    "    ######################################\n",
    "    ## Define a Function for each state ##\n",
    "    ######################################\n",
    "    def s_0(self, input_symbol: str) -> tuple[State, OutputOperator]:\n",
    "        # return the next state and return the output as a tuple (next state, output operator)\n",
    "        if input_symbol in {' ', '\\t', '\\r', '\\n'}:\n",
    "            return (self.s_1, lambda x: 1)\n",
    "        else:\n",
    "            return (self.s_rej, lambda x: 0)\n",
    "    \n",
    "    def s_1(self, input_symbol: str) -> tuple[State, OutputOperator]:\n",
    "        # return the next state and return the output as a tuple (next state, output operator)\n",
    "        if input_symbol in {' ', '\\t', '\\r', '\\n'}:\n",
    "            return (self.s_1, lambda x: x+1)\n",
    "        else:\n",
    "            return (self.s_acc, lambda x: x)\n",
    "    \n",
    "    def s_rej(self, input_symbol: str) -> tuple[State, OutputOperator]:\n",
    "        # return the next state and return the output as a tuple (next state, output operator)\n",
    "        return (self.s_rej, lambda x: x)\n",
    "\n",
    "    def s_acc(self, input_symbol: str) -> tuple[State, OutputOperator]:\n",
    "        # return the next state and return the output as a tuple (next state, output operator)\n",
    "        return (self.s_acc, lambda x: x)"
   ]
  },
  {
   "cell_type": "markdown",
   "metadata": {},
   "source": [
    "Many of you will not have used lambda functions. I haven't used them a lot but thought they were really useful here.  The following can help you learn what a lambda function is and what each of the lambda functions above does.\n",
    "- Do an internet search on \"geeksforgeeks lambda functions python\" to find a good tutorial on lambda functions.\n",
    "- Ask an LLM \"What does the following expression do lambda x: x + 1?\""
   ]
  },
  {
   "cell_type": "markdown",
   "metadata": {},
   "source": [
    "The _run_ method needs to be redefined since it is now part of a new contract with the FSM. Specifically, it must now keep track of the number of characters read by applying the operator returned from each state. Once it knows how many characters were read, it can create the correct token."
   ]
  },
  {
   "cell_type": "code",
   "execution_count": 28,
   "metadata": {},
   "outputs": [],
   "source": [
    "#############################################\n",
    "## Define a function that runs the machine ##\n",
    "#############################################\n",
    "del run\n",
    "def run(input_sequence: str, fsm: FiniteStateMachine) -> Token | None:\n",
    "    # Use a C++ style declaration of local variables\n",
    "    present_state: State = fsm.start_state\n",
    "    next_state: State\n",
    "    num_chars_read: int = 0\n",
    "    operator: OutputOperator\n",
    "    token: Token\n",
    "\n",
    "    # Added so we don't terminate in state s_1\n",
    "    input_sequence += \"#\"\n",
    "\n",
    "    # Step through each input symbol\n",
    "    for symbol in list(input_sequence):\n",
    "        # Ask the present state what the next state and output should be\n",
    "        next_state, operator = present_state(symbol)\n",
    "        # Update the state\n",
    "        present_state = next_state\n",
    "        # Apply the operator to update the number of characters read\n",
    "        num_chars_read = operator(num_chars_read)\n",
    "        # Don't keep running if you know you've succeeded or failed\n",
    "        if present_state in fsm.terminating_states: \n",
    "            break\n",
    "\n",
    "    # Create the token \n",
    "    if num_chars_read == 0:\n",
    "        return None\n",
    "    else:\n",
    "        token = Token.whitespace(input_sequence[:num_chars_read])\n",
    "        return token"
   ]
  },
  {
   "cell_type": "code",
   "execution_count": 29,
   "metadata": {},
   "outputs": [
    {
     "data": {
      "text/plain": [
       "'(WHITESPACE,\"\\n\\n  \\n\\n\",0)'"
      ]
     },
     "execution_count": 29,
     "metadata": {},
     "output_type": "execute_result"
    }
   ],
   "source": [
    "fsm: WhitespaceFSM = WhitespaceFSM()\n",
    "returned_token = run(\"\\n\\n  \\n\\n\", fsm)\n",
    "returned_token.__str__()"
   ]
  },
  {
   "cell_type": "markdown",
   "metadata": {},
   "source": [
    "Test"
   ]
  },
  {
   "cell_type": "code",
   "execution_count": 30,
   "metadata": {},
   "outputs": [
    {
     "name": "stdout",
     "output_type": "stream",
     "text": [
      "Test that whitespace fsm returns None if string does not begin with whitespace char succeeded\n",
      "All tests of the whitespace token types succeeded\n",
      "All tests of the whitespace fsm succeeded\n"
     ]
    }
   ],
   "source": [
    "test_whitespace_fsm()"
   ]
  },
  {
   "cell_type": "markdown",
   "metadata": {},
   "source": [
    "All tests pass! \n",
    "\n",
    "Since lambda functions might be really new to you, the starter code uses a different approach for counting the number of whitespace characters read. The key idea in the starter code is to create an int that is treated as an input to the FSM and which outputs an updated value of the int."
   ]
  }
 ],
 "metadata": {
  "kernelspec": {
   "display_name": "Python 3",
   "language": "python",
   "name": "python3"
  },
  "language_info": {
   "codemirror_mode": {
    "name": "ipython",
    "version": 3
   },
   "file_extension": ".py",
   "mimetype": "text/x-python",
   "name": "python",
   "nbconvert_exporter": "python",
   "pygments_lexer": "ipython3",
   "version": "3.12.5"
  }
 },
 "nbformat": 4,
 "nbformat_minor": 2
}
