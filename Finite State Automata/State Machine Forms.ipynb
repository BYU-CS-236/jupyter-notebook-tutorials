{
 "cells": [
  {
   "cell_type": "markdown",
   "metadata": {},
   "source": [
    "### FSM definition\n",
    "\n",
    "The textbook defines a Finite State Machine (FSM) as a tuple. Think of a _tuple_ as an ordered pair with more than two elements. The tuple for an FSA is $(S,I,s_0,f,g)$ where \n",
    "* A finite set of states $S$\n",
    "* A set of input characters $I$\n",
    "* A set of output characters $O$\n",
    "* A start state $s_0$\n",
    "* A transition function $f:S\\times I \\rightarrow S$\n",
    "* An output function $g:S\\times I \\rightarrow O$\n"
   ]
  },
  {
   "cell_type": "markdown",
   "metadata": {},
   "source": [
    "We often draw FSMs by representing each state $s\\in S$ with a circle, representing the start state by a circle with an arrow pointing toward it, representing the transition function as labeled arrows connecting one state to another, and representing the output function by adding an additional label to each arrow. Arrow labels are represented as $i, o$ pairs where $i\\in I$ is the input character and $o\\in O$ is the output character. The label $i$ of the arrow connecting one state to another is the input that causes the FSA to _transition_from one state to another.  The label $o$ on an arrow indicates what is _output_ while the state transition occurs."
   ]
  },
  {
   "cell_type": "markdown",
   "metadata": {},
   "source": [
    "---"
   ]
  },
  {
   "cell_type": "markdown",
   "metadata": {},
   "source": [
    "### Implementations of FSMs ###\n",
    "\n",
    "The purpose of this tutorial is to explore different ways of implementing state machines in Python.\n",
    "\n",
    "Consider Figure 2 from Section 13.2.2 of the textbook.\n",
    "I've modified Figure 2 by changing output set from $O = \\{0,1\\}$ to $O = \\{a,b\\}$ because I think it makes it easier to tell what is an input and what is an output.\n",
    "\n",
    "[![Finite state machine](Table2_Section13.2.2.png)](https://www.dropbox.com/scl/fi/25a8xhn1vojf20pqbeern/Table2_Section13.2.2.png?rlkey=6bhh5j81g1ba03a86os69za4o&dl=0)\n",
    "\n",
    "Let's look at three different ways to program this FSM."
   ]
  },
  {
   "cell_type": "markdown",
   "metadata": {},
   "source": [
    "---"
   ]
  },
  {
   "cell_type": "markdown",
   "metadata": {},
   "source": [
    "### Method 1: if-then structure ##\n",
    "\n",
    "The state transition is defined as a function $f: S\\times I \\rightarrow S$ that maps the present state and input to a next state. If I let $s$ and $i$ denote the state of the machine and the input at the curren time, respectively, and if we let $s'$ denote the next state, then we can write the next state as a function of the present state, $s' = f(s, i)$. \n",
    "\n",
    "We can think of this function as an if statement: \n",
    "\n",
    "    if the present state is s and the current input is i then the next state is s'\n",
    "\n",
    " We can use this idea to create a class for the FSM in the figure above. Let's ignore the output."
   ]
  },
  {
   "cell_type": "code",
   "execution_count": 155,
   "metadata": {},
   "outputs": [],
   "source": [
    "############\n",
    "## Cell 1 ##\n",
    "############\n",
    "\n",
    "class StateMachine:\n",
    "    \"\"\" Represent states with strings: 's0', 's1', 's2', 's3' \n",
    "    Represent inputs with strings '0', '1' \"\"\"\n",
    "    def __init__(self) -> None:\n",
    "        self._present_state: str = 's0'\n",
    "        self._states: set[str] = {'s0', 's1', 's2', 's3'}\n",
    "\n",
    "    def get_next_state(self, input_symbol:str) -> str:\n",
    "        next_state: str \n",
    "        ## Transitions from state s0\n",
    "        if self._present_state == 's0':\n",
    "            if input_symbol == '0':\n",
    "                next_state = 's1'\n",
    "            elif input_symbol == '1':\n",
    "                next_state = 's0'\n",
    "            else: raise ValueError(\"Illegal input to the state machine \" + str(input_symbol))\n",
    "        ## Transitions from state s1\n",
    "        elif self._present_state == 's1':\n",
    "            if input_symbol == '0': \n",
    "                next_state = 's3'\n",
    "            elif input_symbol == '1':\n",
    "                next_state = 's0'\n",
    "            else: raise ValueError(\"Illegal input to the state machine \" + str(input_symbol))\n",
    "        ## Transitions from state s2\n",
    "        elif self._present_state == 's2':\n",
    "            if input_symbol == '0': \n",
    "                next_state = 's1'\n",
    "            elif input_symbol == '1':\n",
    "                next_state = 's2'\n",
    "            else: raise ValueError(\"Illegal input to the state machine \" + str(input_symbol))\n",
    "        ## Transitions from state s3\n",
    "        elif self._present_state == 's3':\n",
    "            if input_symbol == '0': \n",
    "                next_state = 's2'\n",
    "            elif input_symbol == '1':\n",
    "                next_state = 's1'\n",
    "            else: raise ValueError(\"Illegal input to the state machine \" + str(input_symbol))\n",
    "        ## Illegal state handling\n",
    "        else: raise ValueError(\"How did you get into state \" + self._present_state)\n",
    "        return next_state\n",
    "    \n",
    "    ### Getters and Setters ###\n",
    "    def set_state(self, next_state: str) -> None:\n",
    "        if next_state in self._states: \n",
    "            self._present_state = next_state\n",
    "        else: \n",
    "            raise ValueError(\"Trying to move to illegal state \" + next_state)\n",
    "\n",
    "    def get_state(self) -> str: return self._present_state"
   ]
  },
  {
   "cell_type": "markdown",
   "metadata": {},
   "source": [
    "The implementation is straightforward. The outer if statements check current state. The inner if statements check the input. And I threw in some error handling just for fun.\n",
    "\n",
    "Let's see if it works. Consider going through the state transitions by hand for the input 01000. The state sequence should be s0 -> s1 -> s0 -> s1 -> s3 -> s2."
   ]
  },
  {
   "cell_type": "code",
   "execution_count": 156,
   "metadata": {},
   "outputs": [
    {
     "name": "stdout",
     "output_type": "stream",
     "text": [
      "Start state is s0\n",
      "Present state: s0, Input: 0, Next state: s1\n",
      "Present state: s1, Input: 1, Next state: s0\n",
      "Present state: s0, Input: 0, Next state: s1\n",
      "Present state: s1, Input: 0, Next state: s3\n",
      "Present state: s3, Input: 0, Next state: s2\n"
     ]
    }
   ],
   "source": [
    "############\n",
    "## Cell 2 ##\n",
    "############\n",
    "\n",
    "fsm: StateMachine = StateMachine()\n",
    "\n",
    "input_sequence: list[str] = ['0', '1', '0', '0', '0']\n",
    "\n",
    "print(f\"Start state is {fsm.get_state()}\")\n",
    "for symbol in input_sequence:\n",
    "    present_state:str = fsm.get_state()\n",
    "    next_state = fsm.get_next_state(symbol)\n",
    "    fsm.set_state(next_state)\n",
    "    print(f\"Present state: {present_state}, Input: {symbol}, Next state: {next_state}\")"
   ]
  },
  {
   "cell_type": "markdown",
   "metadata": {},
   "source": [
    "Although conceptually simple, the code is not modular and would be very difficult to maintain if the state machine were very large. A colleague worked for a company that implemented a FSM as part of a website. The FSM had hundreds of transitions. Nobody dared changed the code for fear of messing up the code.\n",
    "\n",
    "Let's try an approach that is also conceptually simple and allows us to instantiate any FSM of our choosing."
   ]
  },
  {
   "cell_type": "markdown",
   "metadata": {},
   "source": [
    "---"
   ]
  },
  {
   "cell_type": "markdown",
   "metadata": {},
   "source": [
    "### Method 2: State transition table ###\n",
    "\n",
    "Let's represent this FSM using something like Table 2. We'll split the table into two pieces: a table that handles state transitions and a table that handles outputs. The first table is a present-state, next-state table. It implements the finite state machine mapping $f:S\\times I \\rightarrow S$. \n",
    "\n",
    "I typed \"how do i represent a present state next state table for a finite state machine in python?\" into copilot and am using the code from there because it matches what I want to teach. I'm making six changes to the code\n",
    " - I'm adding types to each variable, which is what the Python style guide suggests\n",
    " - I'm adding comments where I think it will help. \n",
    " - I'm changing the name of the variable _self.state_ to _self.\\_present\\_state_ since that variable name matches better what we've talked about in class.\n",
    " - I'm adding a getter method to access the current state variable. I'm doing this because I like the way that C++ allows us specify whether a class's member variable is public or private. I try to never access a member variable directly and instead use getters and setters.\n",
    " - I'm adding a single underscore as a prefix to each class member variable. This is a common convention to indicate that the variable is intended to be private and not used outside of the scope of the class.\n",
    " - I'm adding a method that prints out the present-state, next-state table\n",
    "\n",
    "The basic building block of this implementation is the _transition_ object, which is implemented as a dictionary. More precisely, it is a dictionary of dictionaries. More on that later."
   ]
  },
  {
   "cell_type": "code",
   "execution_count": 157,
   "metadata": {},
   "outputs": [],
   "source": [
    "############\n",
    "## Cell 3 ##\n",
    "############\n",
    "\n",
    "class StateMachine:\n",
    "    def __init__(self) -> None:\n",
    "        self._present_state: str \n",
    "        self._transitions: dict[str,dict[str,str]]= {}\n",
    "\n",
    "    def add_transition(self, state: str, input_symbol: str, next_state: str) -> None:\n",
    "        if state not in self._transitions:\n",
    "            self._transitions[state] = {}\n",
    "        self._transitions[state][input_symbol] = next_state\n",
    "\n",
    "    def set_start_state(self, state: str) -> None:\n",
    "        self._present_state = state\n",
    "\n",
    "    def get_next_state(self, input_symbol:str) -> str:\n",
    "        if self._present_state in self._transitions and input_symbol in self._transitions[self._present_state]:\n",
    "            self._present_state = self._transitions[self._present_state][input_symbol]\n",
    "        return self._present_state\n",
    "    \n",
    "    def get_state(self) -> str: return self._present_state\n",
    "\n",
    "    def show_table(self) -> None:\n",
    "        \"\"\" Show present state next state table \"\"\"\n",
    "        header = f\"{'Present State':^15} | {'Input':^8} | {'Next State':^12}\"\n",
    "        line = \"\"\n",
    "        for _ in header:\n",
    "            line += \"_\"\n",
    "        print(header)\n",
    "        print(line)\n",
    "        for present_state  in self._transitions.keys():\n",
    "            for input in self._transitions[present_state].keys():\n",
    "                next_state = self._transitions[present_state][input]\n",
    "                print(f\"{present_state:^15} | {input:^8} | {next_state:^12}\")\n"
   ]
  },
  {
   "cell_type": "markdown",
   "metadata": {},
   "source": [
    "Let's discuss the line \n",
    "\n",
    "    if self._present_state in self._transitions \n",
    "\n",
    "Suppose that you have a Python dictionary D = {'a': 1, 'b': 2}. The keys in the dictionary are 'a' and 'b'. When you write \n",
    "\n",
    "    if 'a' in D: \n",
    "\n",
    "you are asking whether 'a' is in the keys of the dictionary. Let's confirm with an aside."
   ]
  },
  {
   "cell_type": "code",
   "execution_count": 158,
   "metadata": {},
   "outputs": [
    {
     "name": "stdout",
     "output_type": "stream",
     "text": [
      "'a' is in D\n"
     ]
    }
   ],
   "source": [
    "D = {'a':1, 'b': 2}\n",
    "if 'a' in D: \n",
    "    print('\\'a\\' is in D')\n",
    "else:\n",
    "    print('\\'a\\' is not in D')"
   ]
  },
  {
   "cell_type": "markdown",
   "metadata": {},
   "source": [
    "Try with something that is not a key in the dictionary."
   ]
  },
  {
   "cell_type": "code",
   "execution_count": 159,
   "metadata": {},
   "outputs": [
    {
     "name": "stdout",
     "output_type": "stream",
     "text": [
      "'c' is not in D\n"
     ]
    }
   ],
   "source": [
    "D = {'a':1, 'b': 2}\n",
    "if 'c' in D: \n",
    "    print('\\'c\\' is in D')\n",
    "else:\n",
    "    print('\\'c\\' is not in D')"
   ]
  },
  {
   "cell_type": "markdown",
   "metadata": {},
   "source": [
    "Returning to the FSM, let's instantiate the class and add the state transitions for the FSM shown above."
   ]
  },
  {
   "cell_type": "code",
   "execution_count": 160,
   "metadata": {},
   "outputs": [],
   "source": [
    "############\n",
    "## Cell 4 ##\n",
    "############\n",
    "\n",
    "# Example usage\n",
    "fsm: StateMachine = StateMachine()\n",
    "\n",
    "fsm.add_transition('s0', '0', 's1')\n",
    "fsm.add_transition('s0', '1', 's0')\n",
    "fsm.add_transition('s1', '0', 's3')\n",
    "fsm.add_transition('s1', '1', 's0')\n",
    "fsm.add_transition('s2', '0', 's1')\n",
    "fsm.add_transition('s2', '1', 's2')\n",
    "fsm.add_transition('s3', '0', 's2')\n",
    "fsm.add_transition('s3', '1', 's1')\n"
   ]
  },
  {
   "cell_type": "markdown",
   "metadata": {},
   "source": [
    "Let's talk about what each call to _add\\_transition_ does. Recall from the definition of a FSM (section 13.2.2, def 1 of the textbook) that a transition is a function that maps present states and inputs to next states, $f: S\\times I \\rightarrow S$. When the domain and co-domain are finite, we can represent functions as a set of tuples. The tuple $(s0, 0, s1)$ represents what happens to the function $f$ when we pass it $s0$ and $0$. In other words, $f(s0,0) = s1$. Stated simply, the first two elements of each tuple are the present state and input, respectively, and the output is the next state. Thus, each tuple is (present state, input, next state).\n",
    "\n",
    "Following the textbook, we can represent the transition function using a present state, next state table. What does the present-state, next-state table look like?"
   ]
  },
  {
   "cell_type": "code",
   "execution_count": 161,
   "metadata": {},
   "outputs": [
    {
     "name": "stdout",
     "output_type": "stream",
     "text": [
      " Present State  |  Input   |  Next State \n",
      "_________________________________________\n",
      "      s0        |    0     |      s1     \n",
      "      s0        |    1     |      s0     \n",
      "      s1        |    0     |      s3     \n",
      "      s1        |    1     |      s0     \n",
      "      s2        |    0     |      s1     \n",
      "      s2        |    1     |      s2     \n",
      "      s3        |    0     |      s2     \n",
      "      s3        |    1     |      s1     \n"
     ]
    }
   ],
   "source": [
    "############\n",
    "## Cell 5 ##\n",
    "############\n",
    "\n",
    "fsm.show_table()"
   ]
  },
  {
   "cell_type": "markdown",
   "metadata": {},
   "source": [
    "Although in a different format than Table 2 in Section 13.2.2, it contains the same information.\n",
    "\n",
    "We can now specify the start state and do a trace through the FSM.  If the input is 01001 the state sequence should be s0 -> s1 -> s0 -> s1 -> s2. Let's test."
   ]
  },
  {
   "cell_type": "code",
   "execution_count": 162,
   "metadata": {},
   "outputs": [
    {
     "name": "stdout",
     "output_type": "stream",
     "text": [
      "The start state is s0\n",
      "Present state: s0, Input: 0, Next state: s1\n",
      "Present state: s1, Input: 1, Next state: s0\n",
      "Present state: s0, Input: 0, Next state: s1\n",
      "Present state: s1, Input: 0, Next state: s3\n",
      "Present state: s3, Input: 0, Next state: s2\n"
     ]
    }
   ],
   "source": [
    "############\n",
    "## Cell 6 ##\n",
    "############\n",
    "\n",
    "fsm.set_start_state('s0')\n",
    "\n",
    "input_sequence: list[str] = ['0', '1', '0', '0', '0']\n",
    "\n",
    "print(f\"The start state is {fsm.get_state()}\")\n",
    "for symbol in input_sequence:\n",
    "    present_state:str = fsm.get_state()\n",
    "    next_state = fsm.get_next_state(symbol)\n",
    "    print(f\"Present state: {present_state}, Input: {symbol}, Next state: {next_state}\")\n"
   ]
  },
  {
   "cell_type": "markdown",
   "metadata": {},
   "source": [
    "The key idea in this implementation is to represent the state transition as a dictionary of dictionaries. The out dictionary is keyed by the present state. Then, the inner dictionary is keyed by the input. \n",
    "\n",
    "I like this implementation and wouldn't have a problem if you chose to use something like this on project 1. I prefer a different approach\n",
    "\n",
    "---"
   ]
  },
  {
   "cell_type": "markdown",
   "metadata": {},
   "source": [
    "### Method 3: States as Functions ###\n",
    "\n",
    "The key idea in this third method for representing FSMs is to represent each state as a function and then ask it what should happen when we pass it a given input. For example, we can represent state $s0$ as a function and then ask \"state $s0$, what should the next state be if the input is $i$?\" Before giving example code, we need to review a programing concept.\n"
   ]
  },
  {
   "cell_type": "markdown",
   "metadata": {},
   "source": [
    "\n",
    "\n",
    "Recall from CS 111 that everything is an object in Python: strings, integers, classes, and functions. And every object is assigned to a location in memory. Let me illustrate with a simple function."
   ]
  },
  {
   "cell_type": "code",
   "execution_count": 163,
   "metadata": {},
   "outputs": [],
   "source": [
    "def square(x: float) -> float: return x*x"
   ]
  },
  {
   "cell_type": "markdown",
   "metadata": {},
   "source": [
    "Let's inspect this function."
   ]
  },
  {
   "cell_type": "code",
   "execution_count": 164,
   "metadata": {},
   "outputs": [
    {
     "name": "stdout",
     "output_type": "stream",
     "text": [
      "<function square at 0x10c004180>\n"
     ]
    }
   ],
   "source": [
    "print(square)"
   ]
  },
  {
   "cell_type": "markdown",
   "metadata": {},
   "source": [
    "When you run the cell above you should see something like\n",
    "\n",
    "    <function square at 0x1158cc2c0>\n",
    "\n",
    "Let's break down what this means.\n",
    "- The first thing you see inside the angle brackets is the word _function_. This simply says that the type of the object is a function.\n",
    "- The second thing you see is the word _square_. This simply says that the name of the function is \"square\".\n",
    "- The next thing you see is _at 0x..._. The _0x_ tells you that you're going to see a number written in hexadecimal. (Think of the _x_ in _0x_ as the third letter of hexadecimal.)  The numbers and letters after the _0x_ are the address in memory in which the function is stored. Your numbers will be different than what I show above because the address is assigned when we create the function and depends on what else is in memory on your computer.\n",
    "\n",
    "Python lets us pass around objects including _function objects_. That means we can pass a function object to another function, return a function from another function, etc. Let's illustrate."
   ]
  },
  {
   "cell_type": "code",
   "execution_count": 165,
   "metadata": {},
   "outputs": [],
   "source": [
    "# This import gives us the type hint \"function\". It is renamed from \"Callable\"\n",
    "from typing import Callable as function\n",
    "\n",
    "def cube(x: float) -> float: return x*x*x\n",
    "def quad(x: float) -> float: return x*x*x*x\n",
    "\n",
    "def pick_a_function(choice: str) -> function[[float], float]:\n",
    "    if choice == \"square\": return square\n",
    "    elif choice == \"cube\": return cube\n",
    "    elif choice == \"quad\": return quad\n",
    "    else: raise ValueError(choice = \" is not a valid function type\")\n"
   ]
  },
  {
   "cell_type": "markdown",
   "metadata": {},
   "source": [
    "Note the import at the top of the block. It just defines the keyword _function_ so that we can tell Python that _pick\\_a\\_function_ returns a Python function. Let's break down what the following line of code means.\n",
    "\n",
    "    def pick_a_function(choice: str) -> function[[float], float]:\n",
    "\n",
    "The line says that we are defining a function called _pick\\_a\\_function_ that takes a string named _choice_ as input and returns a function. The things in the square brackets next to function\n",
    "\n",
    "    function[[float], float]\n",
    "\n",
    "tells us type information about the function being returned. More specifically, the function that is being returned takes as input a float, which is indicated by the _[float]_ and returns an output that is also a float, which is indicated by the _float_ not in brackets. \n"
   ]
  },
  {
   "cell_type": "markdown",
   "metadata": {},
   "source": [
    "\n",
    "Let's call _pick\\_a\\_function_, observe that it returns a function, and then call the function it calls."
   ]
  },
  {
   "cell_type": "code",
   "execution_count": 166,
   "metadata": {},
   "outputs": [
    {
     "name": "stdout",
     "output_type": "stream",
     "text": [
      "<function square at 0x10c004180>\n",
      "my function returned 4\n"
     ]
    }
   ],
   "source": [
    "my_function = pick_a_function(\"square\")\n",
    "print(my_function)\n",
    "print(f\"my function returned {my_function(2)}\")\n"
   ]
  },
  {
   "cell_type": "markdown",
   "metadata": {},
   "source": [
    "The _square_ function was returned. Let's try the other options as well."
   ]
  },
  {
   "cell_type": "code",
   "execution_count": 167,
   "metadata": {},
   "outputs": [
    {
     "name": "stdout",
     "output_type": "stream",
     "text": [
      "<function cube at 0x10c0044a0>\n",
      "my function returned 8\n",
      "<function quad at 0x10b8efe20>\n",
      "my function returned 16\n"
     ]
    }
   ],
   "source": [
    "my_function = pick_a_function(\"cube\")\n",
    "print(my_function)\n",
    "print(f\"my function returned {my_function(2)}\")\n",
    "\n",
    "my_function = pick_a_function(\"quad\")\n",
    "print(my_function)\n",
    "print(f\"my function returned {my_function(2)}\")"
   ]
  },
  {
   "cell_type": "markdown",
   "metadata": {},
   "source": [
    "So, functions can call and return functions. That can be confusing, but we can use it to define a different kind of FSM. The key idea is that we'll treat each state as a function that takes an input and returns the next state. Let's use that idea to write a FSM that treats states like functions.\n"
   ]
  },
  {
   "cell_type": "markdown",
   "metadata": {},
   "source": [
    "\n",
    "Referring to the figure of the FSM above, our job is to create a function _s0_ that we can ask \"what will you do on a specific input?\" In other words, we let $s_0$ make its own decisions. We pass it an input and it decides where it will go. For now, let's only ask it about the state transition function $f: S\\times I \\rightarrow S$. We'll add the output function in a later cell."
   ]
  },
  {
   "cell_type": "code",
   "execution_count": 168,
   "metadata": {},
   "outputs": [],
   "source": [
    "############\n",
    "## Cell 7 ##\n",
    "############\n",
    "\n",
    "# This import allows us to return a \"function\". \n",
    "# It is renamed from \"Callable\"\n",
    "from typing import Callable as function\n",
    "\n",
    "class StateMachine:\n",
    "    def __init__(self) -> None:\n",
    "        self._present_state: function[[str],function] = self.s0\n",
    "        self._states: set[function[[str], function]] = {self.s0, self.s1, self.s2, self.s3}\n",
    "    \n",
    "    ######################################\n",
    "    ## Define a Function for each state ##\n",
    "    ######################################\n",
    "    def s0(self, input_symbol: str) -> function[[str],function]:\n",
    "        next_state: function\n",
    "        if input_symbol == \"0\": next_state = self.s1\n",
    "        elif input_symbol == \"1\": next_state = self.s0\n",
    "        else: raise ValueError(\"Illegal input to the state machine \" + input_symbol)\n",
    "        return next_state\n",
    "    \n",
    "    def s1(self, input_symbol: str) -> function[[str],function]:\n",
    "        next_state: function\n",
    "        if input_symbol == \"0\": next_state = self.s3\n",
    "        elif input_symbol == \"1\": next_state = self.s0\n",
    "        else: raise ValueError(\"Illegal input to the state machine \" + input_symbol)\n",
    "        return next_state\n",
    "    \n",
    "    def s2(self, input_symbol: str) -> function[[str],function]:\n",
    "        next_state: function\n",
    "        if input_symbol == \"0\": next_state = self.s1\n",
    "        elif input_symbol == \"1\": next_state = self.s2\n",
    "        else: raise ValueError(\"Illegal input to the state machine \" + input_symbol)\n",
    "        return next_state\n",
    "    \n",
    "    def s3(self, input_symbol: str) -> function[[str],function]:\n",
    "        next_state: function\n",
    "        if input_symbol == \"0\": next_state = self.s2\n",
    "        elif input_symbol == \"1\": next_state = self.s1\n",
    "        else: raise ValueError(\"Illegal input to the state machine \" + input_symbol)\n",
    "        return next_state\n",
    "    \n",
    "    #########################\n",
    "    ## Getters and Setters ##\n",
    "    #########################\n",
    "    def set_state(self, next_state: function[[str],function]) -> None:\n",
    "        if next_state in self._states:\n",
    "            self._present_state = next_state\n",
    "        else: \n",
    "            raise ValueError(\"Trying to move to illegal state \" + next_state)\n",
    "        \n",
    "    def get_state(self) -> str: return self._present_state"
   ]
  },
  {
   "cell_type": "markdown",
   "metadata": {},
   "source": [
    "Notice that this code is almost identical to the if-then-else structure. The only differences are\n",
    " - states are represented as functions and not as strings\n",
    " - the code is modular\n",
    "\n",
    " Let's see if it works. Consider going through the state transitions by hand for the input 01000. The state sequence should be s0 -> s1 -> s0 -> s1 -> s3 -> s2."
   ]
  },
  {
   "cell_type": "code",
   "execution_count": 169,
   "metadata": {},
   "outputs": [
    {
     "name": "stdout",
     "output_type": "stream",
     "text": [
      "The start state is <bound method StateMachine.s0 of <__main__.StateMachine object at 0x10bf622d0>>\n",
      "Present state: <bound method StateMachine.s0 of <__main__.StateMachine object at 0x10bf622d0>>, Input: 0, Next state: <bound method StateMachine.s1 of <__main__.StateMachine object at 0x10bf622d0>>\n",
      "Present state: <bound method StateMachine.s1 of <__main__.StateMachine object at 0x10bf622d0>>, Input: 1, Next state: <bound method StateMachine.s0 of <__main__.StateMachine object at 0x10bf622d0>>\n",
      "Present state: <bound method StateMachine.s0 of <__main__.StateMachine object at 0x10bf622d0>>, Input: 0, Next state: <bound method StateMachine.s1 of <__main__.StateMachine object at 0x10bf622d0>>\n",
      "Present state: <bound method StateMachine.s1 of <__main__.StateMachine object at 0x10bf622d0>>, Input: 0, Next state: <bound method StateMachine.s3 of <__main__.StateMachine object at 0x10bf622d0>>\n",
      "Present state: <bound method StateMachine.s3 of <__main__.StateMachine object at 0x10bf622d0>>, Input: 0, Next state: <bound method StateMachine.s2 of <__main__.StateMachine object at 0x10bf622d0>>\n"
     ]
    }
   ],
   "source": [
    "fsm: StateMachine = StateMachine()\n",
    "\n",
    "input_sequence: list[str] = ['0', '1', '0', '0', '0']\n",
    "\n",
    "present_state: function[[str], tuple[function, str]]\n",
    "next_state: function[[str], tuple[function, str]]\n",
    "\n",
    "print(f\"The start state is {fsm.get_state()}\")\n",
    "for symbol in input_sequence:\n",
    "    present_state = fsm.get_state()\n",
    "    next_state = present_state(symbol) # Ask the present state what the next state should be\n",
    "    fsm.set_state(next_state)\n",
    "    print(f\"Present state: {present_state}, Input: {symbol}, Next state: {next_state}\")"
   ]
  },
  {
   "cell_type": "markdown",
   "metadata": {},
   "source": [
    "The state sequence is correct. Of course, the things that are printed out are not strings but rather functions along with information about to whom those functions belong. The word \"function\" has been replaced by \"bound method\", which is just Python's way of saying that functions that exist inside classes are called \"methods\" and they are _bound_ (i.e., belong to) an instantiated class.\n",
    "\n",
    "---"
   ]
  },
  {
   "cell_type": "markdown",
   "metadata": {},
   "source": [
    "### Outputs ###\n",
    "\n",
    "Let's explore outputs. Suppose we have the FSM in the figure above. How would the code need to be modified to track outputs? Let's think about the mental model we are using in the code. We have created a function for each state so that we can ask the function \"What should happen when you see a particulare input?\" In the cells above, we only asked the function to tell us what the next state should be, i.e., we asked it to implement its part of the transition function $f:S\\times I \\rightarrow S$. We are now also asking it what the output should be, i.e., we are asking it to implement its part of the output function $G:S\\times I \\rightarrow O$."
   ]
  },
  {
   "cell_type": "code",
   "execution_count": 170,
   "metadata": {},
   "outputs": [],
   "source": [
    "############\n",
    "## Cell 8 ##\n",
    "############\n",
    "\n",
    "class StateMachine:\n",
    "    def __init__(self) -> None:\n",
    "        self._present_state: function[[str], function] = self.s0\n",
    "        self._states: set[function[[str], function]] = {self.s0, self.s1, self.s2, self.s3}\n",
    "    \n",
    "    ######################################\n",
    "    ## Define a Function for each state ##\n",
    "    ######################################\n",
    "    def s0(self, input_symbol: str) -> tuple[function[[str], function], str]:\n",
    "        # return the next state and return the output as a tuple (next state, output)\n",
    "        next_state: function[[str], function]\n",
    "        output: str\n",
    "        if input_symbol == \"0\": \n",
    "            next_state = self.s1\n",
    "            output = 'b'\n",
    "        elif input_symbol == \"1\": \n",
    "            next_state = self.s0\n",
    "            output = 'a'\n",
    "        else: raise ValueError(\"Illegal input to the state machine \" + input_symbol)\n",
    "        return (next_state, output)\n",
    "    \n",
    "    def s1(self, input_symbol: str) -> tuple[function[[str], function], str]:\n",
    "        next_state: function[[str], function]\n",
    "        output: str\n",
    "        if input_symbol == \"0\": \n",
    "            next_state = self.s3\n",
    "            output = 'b'\n",
    "        elif input_symbol == \"1\": \n",
    "            next_state = self.s0\n",
    "            output = 'b'\n",
    "        else: raise ValueError(\"Illegal input to the state machine \" + input_symbol)\n",
    "        return (next_state, output)\n",
    "    \n",
    "    def s2(self, input_symbol: str) -> tuple[function[[str], function], str]:\n",
    "        next_state: function[[str], function]\n",
    "        output: str\n",
    "        if input_symbol == \"0\": \n",
    "            next_state = self.s1\n",
    "            output = 'a'\n",
    "        elif input_symbol == \"1\": \n",
    "            next_state = self.s2\n",
    "            output = 'b'\n",
    "        else: raise ValueError(\"Illegal input to the state machine \" + input_symbol)\n",
    "        return (next_state, output)\n",
    "    \n",
    "    def s3(self, input_symbol: str) -> tuple[function[[str], function], str]:\n",
    "        next_state: function[[str], function]\n",
    "        output: str\n",
    "        if input_symbol == \"0\": \n",
    "            next_state = self.s2\n",
    "            output = 'a'\n",
    "        elif input_symbol == \"1\": \n",
    "            next_state = self.s1\n",
    "            output = 'a'\n",
    "        else: \n",
    "            raise ValueError(\"Illegal input to the state machine \" + input_symbol)\n",
    "        return (next_state, output)\n",
    "    \n",
    "    #########################\n",
    "    ## Getters and Setters ##\n",
    "    #########################\n",
    "    def set_state(self, next_state: function[[str], function]) -> None:\n",
    "        if next_state in self._states:\n",
    "            self._present_state = next_state\n",
    "        else: \n",
    "            raise ValueError(\"Trying to move to illegal state \" + next_state)\n",
    "    def get_state(self) -> str: return self._present_state"
   ]
  },
  {
   "cell_type": "code",
   "execution_count": 171,
   "metadata": {},
   "outputs": [
    {
     "name": "stdout",
     "output_type": "stream",
     "text": [
      "The start state is <bound method StateMachine.get_state of <__main__.StateMachine object at 0x10ba1c790>>\n",
      "Present state: <bound method StateMachine.s0 of <__main__.StateMachine object at 0x10ba1c790>>, Input: 0, Next state: <bound method StateMachine.s1 of <__main__.StateMachine object at 0x10ba1c790>>, Output: b\n",
      "Present state: <bound method StateMachine.s1 of <__main__.StateMachine object at 0x10ba1c790>>, Input: 1, Next state: <bound method StateMachine.s0 of <__main__.StateMachine object at 0x10ba1c790>>, Output: b\n",
      "Present state: <bound method StateMachine.s0 of <__main__.StateMachine object at 0x10ba1c790>>, Input: 0, Next state: <bound method StateMachine.s1 of <__main__.StateMachine object at 0x10ba1c790>>, Output: b\n",
      "Present state: <bound method StateMachine.s1 of <__main__.StateMachine object at 0x10ba1c790>>, Input: 0, Next state: <bound method StateMachine.s3 of <__main__.StateMachine object at 0x10ba1c790>>, Output: b\n",
      "Present state: <bound method StateMachine.s3 of <__main__.StateMachine object at 0x10ba1c790>>, Input: 0, Next state: <bound method StateMachine.s2 of <__main__.StateMachine object at 0x10ba1c790>>, Output: a\n",
      "['b', 'b', 'b', 'b', 'a']\n"
     ]
    }
   ],
   "source": [
    "fsm: StateMachine = StateMachine()\n",
    "\n",
    "input_sequence: list[str] = ['0', '1', '0', '0', '0']\n",
    "output_sequence: list[str] = []\n",
    "output: str\n",
    "present_state: function[[str], tuple[function, str]]\n",
    "next_state: function[[str], tuple[function, str]]\n",
    "\n",
    "print(f\"The start state is {fsm.get_state}\")\n",
    "for symbol in input_sequence:\n",
    "    present_state= fsm.get_state()\n",
    "    next_state, output = present_state(symbol) # Ask the present state what the next state and output should be\n",
    "    fsm.set_state(next_state)\n",
    "    print(f\"Present state: {present_state}, Input: {symbol}, Next state: {next_state}, Output: {output}\")\n",
    "    output_sequence.append(output)\n",
    "\n",
    "print(output_sequence)\n"
   ]
  },
  {
   "cell_type": "markdown",
   "metadata": {},
   "source": [
    "---"
   ]
  },
  {
   "cell_type": "markdown",
   "metadata": {},
   "source": [
    "Let's recap what we've done.\n",
    "- We implemented a FSM using if-then-else statements. This was based on the mental model that says the transition function operates like \"if the present state is _s_ and the input is _i_ then the next state should be _s'_ \".\n",
    "- We implemented a FSM by constructing a state transition table. This was based on the mental model that says each transition can be encoded as a tuple _(present state, input, next state)_.\n",
    "- We implemented a FSM by creating a function for each state. This was based on the mental model that says \"we can implement the transition function by asking each state (i.e., calling each state function) what its next state and output should be for a given input\".\n",
    "\n",
    "We demonstrated that each of these approaches works fine. I like the last one because (a) it is modular and (b) it allows me to take a state diagram that I've drawn and turn it directly into code. \n",
    "\n",
    "When we apply FSMs to project 1, we'll want a generic method that manages our FSM. Specifically, we'll create a method _run_ that\n",
    "- _manages_ the input \n",
    "- _tracks_ the present state\n",
    "- _runs_ the FSM by asking each state function about the next state and output for a given input\n",
    "- _sets_ the present state to the next state\n",
    "- _returns_ the output\n",
    "\n",
    "Let's also define a State data type so we dont' have to keep writing \"function[[str], tuple[function, str]]\""
   ]
  },
  {
   "cell_type": "code",
   "execution_count": 172,
   "metadata": {},
   "outputs": [],
   "source": [
    "############\n",
    "## Cell 9 ##\n",
    "############\n",
    "\n",
    "VERBOSE = True\n",
    "\n",
    "# Define State Type #\n",
    "State = function[[str], tuple[function, str]]\n",
    "\n",
    "class StateMachine:\n",
    "    def __init__(self) -> None:\n",
    "        self.initial_state: State = self.s0\n",
    "\n",
    "    ######################################\n",
    "    ## Define a Function for each state ##\n",
    "    ######################################\n",
    "    def s0(self, input_symbol: str) -> tuple[function[[str], function], str]:\n",
    "        # return the next state and return the output as a tuple (next state, output)\n",
    "        next_state: function[[str], function]\n",
    "        output: str\n",
    "        if input_symbol == \"0\": \n",
    "            next_state = self.s1\n",
    "            output = 'b'\n",
    "        elif input_symbol == \"1\": \n",
    "            next_state = self.s0\n",
    "            output = 'a'\n",
    "        else: raise ValueError(\"Illegal input to the state machine \" + input_symbol)\n",
    "        return (next_state, output)\n",
    "    \n",
    "    def s1(self, input_symbol: str) -> tuple[function[[str], function], str]:\n",
    "        next_state: function[[str], function]\n",
    "        output: str\n",
    "        if input_symbol == \"0\": \n",
    "            next_state = self.s3\n",
    "            output = 'b'\n",
    "        elif input_symbol == \"1\": \n",
    "            next_state = self.s0\n",
    "            output = 'b'\n",
    "        else: raise ValueError(\"Illegal input to the state machine \" + input_symbol)\n",
    "        return (next_state, output)\n",
    "    \n",
    "    def s2(self, input_symbol: str) -> tuple[function[[str], function], str]:\n",
    "        next_state: function[[str], function]\n",
    "        output: str\n",
    "        if input_symbol == \"0\": \n",
    "            next_state = self.s1\n",
    "            output = 'a'\n",
    "        elif input_symbol == \"1\": \n",
    "            next_state = self.s2\n",
    "            output = 'b'\n",
    "        else: raise ValueError(\"Illegal input to the state machine \" + input_symbol)\n",
    "        return (next_state, output)\n",
    "    \n",
    "    def s3(self, input_symbol: str) -> tuple[function[[str], function], str]:\n",
    "        next_state: function[[str], function]\n",
    "        output: str\n",
    "        if input_symbol == \"0\": \n",
    "            next_state = self.s2\n",
    "            output = 'a'\n",
    "        elif input_symbol == \"1\": \n",
    "            next_state = self.s1\n",
    "            output = 'a'\n",
    "        else: raise ValueError(\"Illegal input to the state machine \" + input_symbol)\n",
    "        return (next_state, output)\n",
    "    \n",
    "\n",
    "#############################################\n",
    "## Define a function that runs the machine ##\n",
    "#############################################\n",
    "def run(input_sequence: str, fsm: StateMachine) -> list[str]:\n",
    "    # Use a C++ style declaration of local variables\n",
    "    present_state: State = fsm.initial_state\n",
    "    next_state: State\n",
    "    output_sequence: list[str] = []\n",
    "\n",
    "    # Step through each input symbol\n",
    "    for symbol in input_sequence:\n",
    "        next_state, output = present_state(symbol)      # Ask the present state what the next state and output should be\n",
    "        present_state = next_state                # Update the state\n",
    "        output_sequence.append(output)                  # Record output\n",
    "        if VERBOSE: \n",
    "            print(f\"Present state: {present_state}, Input: {symbol}, Next state: {next_state}, Output: {output}\")\n",
    "\n",
    "    # return the output\n",
    "    return output_sequence\n"
   ]
  },
  {
   "cell_type": "markdown",
   "metadata": {},
   "source": [
    "The code above tries to use good modular design. The _StateMachine_ class defines an initial state and all transitions. The _run_ method just does what we've been doing in class: it steps through each state consuming inputs and collecting outputs.\n",
    "\n",
    "Let's run the fsm on the same input as above."
   ]
  },
  {
   "cell_type": "code",
   "execution_count": 173,
   "metadata": {},
   "outputs": [
    {
     "name": "stdout",
     "output_type": "stream",
     "text": [
      "Present state: <bound method StateMachine.s1 of <__main__.StateMachine object at 0x10bf64dd0>>, Input: 0, Next state: <bound method StateMachine.s1 of <__main__.StateMachine object at 0x10bf64dd0>>, Output: b\n",
      "Present state: <bound method StateMachine.s0 of <__main__.StateMachine object at 0x10bf64dd0>>, Input: 1, Next state: <bound method StateMachine.s0 of <__main__.StateMachine object at 0x10bf64dd0>>, Output: b\n",
      "Present state: <bound method StateMachine.s1 of <__main__.StateMachine object at 0x10bf64dd0>>, Input: 0, Next state: <bound method StateMachine.s1 of <__main__.StateMachine object at 0x10bf64dd0>>, Output: b\n",
      "Present state: <bound method StateMachine.s3 of <__main__.StateMachine object at 0x10bf64dd0>>, Input: 0, Next state: <bound method StateMachine.s3 of <__main__.StateMachine object at 0x10bf64dd0>>, Output: b\n",
      "Present state: <bound method StateMachine.s2 of <__main__.StateMachine object at 0x10bf64dd0>>, Input: 0, Next state: <bound method StateMachine.s2 of <__main__.StateMachine object at 0x10bf64dd0>>, Output: a\n",
      "['b', 'b', 'b', 'b', 'a']\n"
     ]
    }
   ],
   "source": [
    "fsm: StateMachine = StateMachine()\n",
    "print(run(['0', '1', '0', '0', '0'], fsm))\n"
   ]
  },
  {
   "cell_type": "markdown",
   "metadata": {},
   "source": [
    "---"
   ]
  },
  {
   "cell_type": "markdown",
   "metadata": {},
   "source": [
    "### Testing ###\n",
    "\n",
    "We can use assert statements to test whether the FSM acts like we expect. We'll collect all the assert statements into a single test function. You can ask a LLM what the following code is doing if you've never used assert statements. You can also ask a LLM to explain the difference between a unit test and an integration test.\n",
    "\n",
    "I created the tests by stepping through the FSM by hand."
   ]
  },
  {
   "cell_type": "code",
   "execution_count": 174,
   "metadata": {},
   "outputs": [
    {
     "name": "stdout",
     "output_type": "stream",
     "text": [
      "All test cases passed\n"
     ]
    }
   ],
   "source": [
    "VERBOSE = False\n",
    "\n",
    "def test_fsm():\n",
    "    ################\n",
    "    ## Unit tests ##\n",
    "    ################\n",
    "\n",
    "    # Transitions from state s0 with input '0'\n",
    "    next_state, output = fsm.s0('0')\n",
    "    assert output == 'b', \"Output for f(s0, 0) failed\"\n",
    "    assert next_state == fsm.s1, \"Next state for f(s0,0) failed\"\n",
    "\n",
    "    # Transitions from state s0 with input '1'\n",
    "    next_state, output = fsm.s0('1')\n",
    "    assert output == 'a', \"Output for f(s0, 1) failed\"\n",
    "    assert next_state == fsm.s0, \"Next state for f(s0,1) failed\"\n",
    "\n",
    "    # Transitions from state s1 with input '0'\n",
    "    next_state, output = fsm.s1('0')\n",
    "    assert output == 'b', \"Output for f(s1, 0) failed\"\n",
    "    assert next_state == fsm.s3, \"Next state for f(s1,0) failed\"\n",
    "\n",
    "    # Transitions from state s1 with input '1'\n",
    "    next_state, output = fsm.s1('1')\n",
    "    assert output == 'b', \"Output for f(s1, 1) failed\"\n",
    "    assert next_state == fsm.s0, \"Next state for f(s1,0) failed\"\n",
    "\n",
    "    # Transitions from state s2 with input '0'\n",
    "    next_state, output = fsm.s2('0')\n",
    "    assert output == 'a', \"Output for f(s2, 0) failed\"\n",
    "    assert next_state == fsm.s1, \"Next state for f(s2,0) failed\"\n",
    "\n",
    "    # Transitions from state s2 with input '1'\n",
    "    next_state, output = fsm.s2('1')\n",
    "    assert output == 'b', \"Output for f(s2, 1) failed\"\n",
    "    assert next_state == fsm.s2, \"Next state for f(s2,0) failed\"\n",
    "\n",
    "    # Transitions from state s3 with input '0'\n",
    "    next_state, output = fsm.s3('0')\n",
    "    assert output == 'a', \"Output for f(s3, 0) failed\"\n",
    "    assert next_state == fsm.s2, \"Next state for f(s3,0) failed\"\n",
    "\n",
    "    # Transitions from state s3 with input '1'\n",
    "    next_state, output = fsm.s3('1')\n",
    "    assert output == 'a', \"Output for f(s3, 1) failed\"\n",
    "    assert next_state == fsm.s1, \"Next state for f(s3,0) failed\"\n",
    "\n",
    "    #######################\n",
    "    ## Integration tests ##\n",
    "    #######################\n",
    "    assert run(['0'], fsm) == ['b'], \"Integration test 1 failed\"\n",
    "    assert run(['0', '0'], fsm) == ['b', 'b'], \"Integration test 2 failed\"\n",
    "    assert run(['0', '0', '0'], fsm) == ['b', 'b', 'a'], \"Integration test 3 failed\"\n",
    "    assert run(['0', '0', '0', '0'], fsm) == ['b', 'b', 'a', 'a'], \"Integration test 4 failed\"\n",
    "    assert run(['0', '0', '1', '1'], fsm) == ['b', 'b', 'a', 'b'], \"Integration test 5 failed\"\n",
    "\n",
    "    print(\"All test cases passed\")\n",
    "\n",
    "test_fsm()\n"
   ]
  },
  {
   "cell_type": "markdown",
   "metadata": {},
   "source": [
    "---"
   ]
  }
 ],
 "metadata": {
  "kernelspec": {
   "display_name": "Python 3",
   "language": "python",
   "name": "python3"
  },
  "language_info": {
   "codemirror_mode": {
    "name": "ipython",
    "version": 3
   },
   "file_extension": ".py",
   "mimetype": "text/x-python",
   "name": "python",
   "nbconvert_exporter": "python",
   "pygments_lexer": "ipython3",
   "version": "3.12.5"
  }
 },
 "nbformat": 4,
 "nbformat_minor": 2
}
