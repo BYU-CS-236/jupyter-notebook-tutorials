{
 "cells": [
  {
   "cell_type": "markdown",
   "metadata": {},
   "source": [
    "### Using FSMs to Lex in Project 1 ##\n",
    "\n",
    "Let's implement the following FSM.\n",
    "\n",
    "![colon-dash FSM](colon-dash_fsm_old.png)"
   ]
  },
  {
   "cell_type": "markdown",
   "metadata": {},
   "source": [
    "### UPDATE ###\n",
    "\n",
    "Let's explain the transitions and outputs. This FSM counts the number of characters it reads as long as the sequence of characters begins with \":-\". The variable $o$ holds the number of characters it read. It is initialized to 0. If the input doesn't begin with \":-\" then the output is set to 0. The $\\lambda$ on the output means that the output doesn't change.\n",
    "\n",
    "The input set $I$ contains any legal character that can appear in a program. Labeling an edge with $I$ indicates that the transition is taken for any input. Labeling an edge with $I-\\{c\\}$ means the edge is taken for any input except character $c$."
   ]
  },
  {
   "cell_type": "code",
   "execution_count": 66,
   "metadata": {},
   "outputs": [],
   "source": [
    "from typing import Callable as function\n",
    "import my_token\n",
    "\n",
    "# Define a type for State and the Output operator\n",
    "State = function[[str], tuple[function, function]]\n",
    "OutputOperator = function[[int], int]\n",
    "\n",
    "class ColonDashFSM:\n",
    "    def __init__(self) -> None:\n",
    "        self.terminating_states: set[State] = {self.serr, self.sacc}\n",
    "\n",
    "    #############################################\n",
    "    ## Define a function that runs the machine ##\n",
    "    #############################################\n",
    "    def run(self, input_sequence: str) -> int:\n",
    "        # Use a C++ style declaration of local variables\n",
    "        present_state: State = self.s0\n",
    "        next_state: State\n",
    "        characters_counted: int = 0\n",
    "\n",
    "        # Massage input so that it always has an extra character not in the pattern\n",
    "        # This prevents finishing in something other than the accept or reject state\n",
    "        input_sequence += \"#\"\n",
    "\n",
    "        # Step through each input symbol\n",
    "        for symbol in list(input_sequence):\n",
    "            # Ask the present state what the next state and output should be\n",
    "            next_state, output_operator = present_state(symbol)\n",
    "            # Apply operator to output\n",
    "            characters_counted = output_operator(characters_counted)\n",
    "            # Update the state\n",
    "            present_state = next_state\n",
    "            # Don't keep running if you know you've succeeded or failed\n",
    "            if present_state in self.terminating_states: break\n",
    "\n",
    "        # return the number of characters counted\n",
    "        return characters_counted\n",
    "\n",
    "    ######################################\n",
    "    ## Define a Function for each state ##\n",
    "    ######################################\n",
    "    def s0(self, input_symbol: str) -> tuple[State, OutputOperator]:\n",
    "        # return the next state and return the output as a tuple (next state, output operator)\n",
    "        match input_symbol:\n",
    "            case \":\": # Colon\n",
    "                return (self.s1, lambda x: x+1)\n",
    "            case _: # Anything else\n",
    "                return (self.serr, lambda x: 0)\n",
    "    \n",
    "    def s1(self, input_symbol: str) -> tuple[State, OutputOperator]:\n",
    "        # return the next state and return the output as a tuple (next state, output operator)\n",
    "        match input_symbol:\n",
    "            case \"-\": # Dash\n",
    "                return (self.sacc, lambda x: x+1)\n",
    "            case _: # Anything else\n",
    "                return (self.serr, lambda x: 0)\n",
    "    \n",
    "    def serr(self, input_symbol: str) -> tuple[State, OutputOperator]:\n",
    "        # return the next state and return the output as a tuple (next state, output operator)\n",
    "        return (self.serr, lambda x: 0)\n",
    "\n",
    "    def sacc(self, input_symbol: str) -> tuple[State, OutputOperator]:\n",
    "        # return the next state and return the output as a tuple (next state, output operator)\n",
    "        return (self.sacc, lambda x: x)"
   ]
  },
  {
   "cell_type": "code",
   "execution_count": 67,
   "metadata": {},
   "outputs": [
    {
     "name": "stdout",
     "output_type": "stream",
     "text": [
      "All tests on colon-dash fsm succeeded\n"
     ]
    }
   ],
   "source": [
    "fsm: ColonDashFSM = ColonDashFSM()\n",
    "def test_fsm(fsm):\n",
    "    assert fsm.run(\":-\") == 2, \"\\':-\\' failed\"\n",
    "    assert fsm.run(\":\") == 0, \"\\':\\' failed\"\n",
    "    assert fsm.run(\":---\") == 2, \"\\':---\\' failed\"\n",
    "    assert fsm.run(\"-:\") == 0, \"\\'-:\\' failed\"\n",
    "    print(\"All tests of the colon-dash fsm succeeded\")\n",
    "\n",
    "test_fsm(fsm)"
   ]
  },
  {
   "cell_type": "markdown",
   "metadata": {},
   "source": [
    "---"
   ]
  },
  {
   "cell_type": "markdown",
   "metadata": {},
   "source": [
    "Let's repeat the exercise but with a FSM that counts whitespace. Recall that white space includes spaces (' '), tabs ('\\\\t'), carriage returns ('\\\\r'), and newlines ('\\n'). Define the set $W = ${' ', '\\\\t\\', '\\\\r', '\\\\n'}.\n",
    "\n",
    "We can implement the following FSM that counts the whitespaces until it finds a character that is not a whitespace.\n",
    "\n",
    "![whitespace FSM](whitespace_fsm.png)"
   ]
  },
  {
   "cell_type": "code",
   "execution_count": 68,
   "metadata": {},
   "outputs": [],
   "source": [
    "from typing import Callable as function\n",
    "\n",
    "# Define a type for State and the Output operator\n",
    "State = function[[str], tuple[function, function]]\n",
    "OutputOperator = function[[int], int]\n",
    "\n",
    "class WhitespaceFSM:\n",
    "    def __init__(self) -> None:\n",
    "        self.terminating_states: set[State] = {self.serr, self.sacc}\n",
    "\n",
    "    #############################################\n",
    "    ## Define a function that runs the machine ##\n",
    "    #############################################\n",
    "    def run(self, input_sequence: str) -> int:\n",
    "        # Use a C++ style declaration of local variables\n",
    "        present_state: State = self.s0\n",
    "        next_state: State\n",
    "        characters_counted: int = 0\n",
    "\n",
    "        # Massage input so that it always has an extra character not in the pattern\n",
    "        # This prevents finishing in something other than the accept or reject state\n",
    "        input_sequence += \"#\"\n",
    "\n",
    "        # Step through each input symbol\n",
    "        for symbol in list(input_sequence):\n",
    "            # Ask the present state what the next state and output should be\n",
    "            next_state, output_operator = present_state(symbol)\n",
    "            # Apply operator to output\n",
    "            characters_counted = output_operator(characters_counted)\n",
    "            # Update the state\n",
    "            present_state = next_state\n",
    "            # Don't keep running if you know you've succeeded or failed\n",
    "            if present_state in self.terminating_states: break\n",
    "\n",
    "        # return the number of characters counted\n",
    "        return characters_counted\n",
    "\n",
    "    ######################################\n",
    "    ## Define a Function for each state ##\n",
    "    ######################################\n",
    "    def s0(self, input_symbol: str) -> tuple[State, OutputOperator]:\n",
    "        # return the next state and return the output as a tuple (next state, output operator)\n",
    "        if input_symbol in {' ', '\\t', '\\r', '\\n'}:\n",
    "            return (self.s1, lambda x: x+1)\n",
    "        else:\n",
    "            return (self.serr, lambda x: 0)\n",
    "    \n",
    "    def s1(self, input_symbol: str) -> tuple[State, OutputOperator]:\n",
    "        # return the next state and return the output as a tuple (next state, output operator)\n",
    "        if input_symbol in {' ', '\\t', '\\r', '\\n'}:\n",
    "            return (self.s1, lambda x: x+1)\n",
    "        else:\n",
    "            return (self.sacc, lambda x: x)\n",
    "    \n",
    "    def serr(self, input_symbol: str) -> tuple[State, OutputOperator]:\n",
    "        # return the next state and return the output as a tuple (next state, output operator)\n",
    "        return (self.serr, lambda x: 0)\n",
    "\n",
    "    def sacc(self, input_symbol: str) -> tuple[State, OutputOperator]:\n",
    "        # return the next state and return the output as a tuple (next state, output operator)\n",
    "        return (self.sacc, lambda x: x)"
   ]
  },
  {
   "cell_type": "code",
   "execution_count": 69,
   "metadata": {},
   "outputs": [
    {
     "name": "stdout",
     "output_type": "stream",
     "text": [
      "All tests of the whitespace fsm succeeded\n"
     ]
    }
   ],
   "source": [
    "fsm: WhitespaceFSM = WhitespaceFSM()\n",
    "def test_fsm(fsm):\n",
    "    assert fsm.run(\":-\") == 0, \"\\':-\\' failed\"\n",
    "    assert fsm.run(\" \\n\\t\\r\") == 4, \"\\' \\n\\t\\r' failed\"\n",
    "    assert fsm.run(\"\\n\\n hi \\n\\n\") == 3, \"\\'\\n\\n hi \\n\\n\\' failed\"\n",
    "    print(\"All tests of the whitespace fsm succeeded\")\n",
    "\n",
    "test_fsm(fsm)"
   ]
  },
  {
   "cell_type": "markdown",
   "metadata": {},
   "source": [
    "---"
   ]
  },
  {
   "cell_type": "markdown",
   "metadata": {},
   "source": [
    "### Lexer Algorithm ###\n",
    "\n",
    "The lexer algorithm takes the input string and tries to run every fsm on it. By design, each fsm only returns more than zero characters if the pattern in the input string is the one the fsm is looking for. The key idea of the lexer algorithm is to find the fsm that returns the most characters. When you've identified the fsm that returns the most characters then you know which token to produce.  \n",
    "\n",
    "Let's step through this with a few examples. Suppose the input string is \"(hello world)\". We can visually inspect the input string and see that the sequence of tokens that should be produced when we lex this input string is\n",
    " - LEFT_PAREN\n",
    " - ID\n",
    " - WHITESPACE\n",
    " - RIGHT_PAREN\n",
    "\n",
    "What is the output when we run the colon-dash fsm on the input string? The left parenthesis does not match the colon-dash pattern so it says \"I successfully read 0 characters\". The same thing happens when the colon fsm runs on the input string, the comma fsm, and the rules fsm. In fact, the only fsm that returns more than 0 characters is the left_paren fsm, which returns 1 character. We loop through all the fsms and remember which one successfully read the most characters.  We create a token associated with that fsm. We then remove the \"(\" from the input string and try again.\n",
    "\n",
    "The lexing algorithm has the following steps\n",
    "\n",
    "- while the input string still has characters to read\n",
    "  - see which fsm reads the most characters, and call the number of characters $m$\n",
    "  - create a token for that fsm\n",
    "  - advance the input string $m$ characters so that we are now looking at the input after we've processed the token\n",
    "\n",
    "Exactly one fsm returns more than one character except for the following cases\n",
    "- Both the colon and colon-dash fsm read a character. This means that the pattern is \":-\". Since the colon-dash machine reads two characters and the colon fsm reads only one, we say that the correct token is COLON-DASH because that is the correct pattern\n",
    "- No fsm returns more than 0 characters. This means that whatever was in the input string didn't match any of our patterns. For example, the input string was \"123\". That input doesn't match anything. For this special case, we say that an undefined token was found and stop lexing.\n",
    "- The input string is a keyword or begins with a keyword. For example,\n",
    "  - The input string is \"Rules\".  Both the ID fsm and the Rules FSM say that five characters were read. It can't be an ID if it is a keyword, so we choose the Rules FSM. This can be done by making sure that the Rules FSM runs before the ID FSM. That way, when we do the comparison that selects the maximum value the Rules FSM wins.\n",
    "  - The input string is \"RulesRock\". The Rules FSM returns five characters and the ID FSM returns 9. That means that the pattern is an ID, which is correct. We can have IDs that look a lot like keywords as long as they also include stuff at the end of the keyword."
   ]
  }
 ],
 "metadata": {
  "kernelspec": {
   "display_name": "Python 3",
   "language": "python",
   "name": "python3"
  },
  "language_info": {
   "codemirror_mode": {
    "name": "ipython",
    "version": 3
   },
   "file_extension": ".py",
   "mimetype": "text/x-python",
   "name": "python",
   "nbconvert_exporter": "python",
   "pygments_lexer": "ipython3",
   "version": "3.11.2"
  }
 },
 "nbformat": 4,
 "nbformat_minor": 2
}
