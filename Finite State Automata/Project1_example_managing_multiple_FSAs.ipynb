{
 "cells": [
  {
   "attachments": {},
   "cell_type": "markdown",
   "metadata": {},
   "source": [
    "Project 1 requires you to create a set of FSAs, one for each legal token type allowed in the _Datalog_ database language. Here are the description of the first token types from the project description.\n",
    "\n",
    "| Token Type    | Description           |  \n",
    "| :--           | :--                   |  \n",
    "| COMMA         | The ',' character     |\n",
    "| PERIOD        | The '.' character     |\n",
    "| Q_MARK        | The '?' character     |\n",
    "| LEFT_PAREN    | The '(' character     |\n",
    "| RIGHT_PAREN   | The ')' character     |\n",
    "| COLON         | The ':' character     |\n",
    "| COLON-DASH    | The string \":-\"       |\n",
    "\n",
    "This means that you will have a collection of FSAs that you will need to manage. "
   ]
  },
  {
   "attachments": {},
   "cell_type": "markdown",
   "metadata": {},
   "source": [
    "***\n",
    "\n",
    "One way to implement project 1 is to run each FSA on the same input string and see what each FSA returns, as illustrated in the left side of the figure. \n",
    "\n",
    "![image](Managing_project1_FSAs.drawio.svg)\n",
    "\n",
    "Each FSA outputs accept or reject, represented by the T or F. Each output can be collected into some sort of data structure like a list. That list is the input to a completely new finite state machine (FSM), one that decides which token to output based on the behaviors of all the FSAs. \n",
    "\n",
    "Recall from the textook and from the discussion in class that a FSM behaves differently from an FSA. Whereas an FSA only outputs T or F, depending on whether it accepts or not, FSMs give some kind of output each time a transition is taken. Thus, notice how the arrows on the FSM (right half of figure above) have two components: an input, which is the list represented by the sequence of true/false values in the square brackets, and an output, which is the token that the lexer should outpu. The input and output are separated by a comma, which is how the textbook differentiates between the input and output in the FSMs it draws.\n",
    "\n",
    "The way this FSM operates is that it reads the list of true/false values and outputs the correct token. The top loop in the FSM says that the FSA for the left parenthesis succeeded and all others failed [TFFF], so the output should be the LEFT_PAREN token. The bottom right loop says that both the colon and colon-dash FSAs succeeded [FFTT], so the output should be the COLON-DASH token."
   ]
  },
  {
   "attachments": {},
   "cell_type": "markdown",
   "metadata": {},
   "source": [
    "***\n",
    "We can now start to think about how to program the collection of FSAs and the manager FSM.  First, define the base_class from which all FSAs inherit. The code below is copied straigh from the previous Jupyter notebook tutorial."
   ]
  },
  {
   "cell_type": "code",
   "execution_count": 30,
   "metadata": {},
   "outputs": [],
   "source": [
    "class FSA:\n",
    "    \"\"\" FSA Base or Super class\"\"\"\n",
    "    def __init__(self,name):\n",
    "        \"\"\" Class constructor \"\"\"\n",
    "        ###############################################################\n",
    "        # Define the five elements of the FSA\n",
    "        ###############################################################\n",
    "        # Set of states: Each state S0, S1, S2, Serr will be represented by its own method\n",
    "        # Set of inputs: I is the set of alphanumeric characters, checked by isalnum()\n",
    "        self.start_state = self.S0  # We'll always have the start state named S0\n",
    "        self.accept_states = set()  # No accept states defined\n",
    "        # Transition function: Each transition will be defined in the state methods\n",
    "        \n",
    "        ###############################################################\n",
    "        # Define four variables that are used within the FSA, some\n",
    "        # to make the FSA run and some that help us understand how \n",
    "        # the FSA works\n",
    "        ###############################################################\n",
    "        self.input_string = \"\"      # Default empty input\n",
    "        self.FSA_name = name\n",
    "        self.num_chars_read = 0\n",
    "            \n",
    "    #########################################################\n",
    "    # Define each state as a function                       #\n",
    "    # Within each function, define the transition function. #\n",
    "    # Each transition function reads the current input and  #\n",
    "    # choose the next state based on the input              #\n",
    "    #########################################################\n",
    "    def S0(self):\n",
    "        \"\"\" Every FSA must have a start state, and we'll always name \n",
    "        it S0. The method for the start state must be defined in the\n",
    "        derived class since it's not defined here. \"\"\"\n",
    "        raise NotImplementedError()     # This line causes an error to \n",
    "                                        # occur if the child classes don't implement this method\n",
    "\n",
    "    ############################\n",
    "    # Public Manager Functions\n",
    "    ############################\n",
    "    def Run(self,input_string):\n",
    "        ###############################################################\n",
    "        # This function will be called to make the FSA execute\n",
    "        # It records the input string,\n",
    "        # sets the current state to the start state\n",
    "        # and then calls a state method that returns the next state\n",
    "        # Each state method accesses the input_string\n",
    "        ###############################################################\n",
    "            # Remember input_string\n",
    "        self.input_string = input_string\n",
    "            # Set current state to start state\n",
    "        current_state = self.start_state\n",
    "            # Call current state, which starts the FSA\n",
    "        while self.num_chars_read < len(self.input_string):\n",
    "            current_state = current_state()\n",
    "            # Check whether the FSA ended in an accept state\n",
    "        outcome = False \n",
    "        if current_state in self.accept_states: outcome = True # Accept if the FSA ended in an accept state\n",
    "        return outcome\n",
    "    def Reset(self):\n",
    "        self.num_chars_read = 0\n",
    "        self.history = []\n",
    "    \n",
    "    ############################\n",
    "    # Public Getters and Setters\n",
    "    ############################\n",
    "    def get_Name(self): return self.FSA_name\n",
    "    def set_Name(self,FSA_name): self.FSA_name = FSA_name\n",
    "    \n",
    "    ############################\n",
    "    # Private Helper functions\n",
    "    ############################\n",
    "    def __getCurrentInput(self):  # The double underscore makes the method private\n",
    "        current_input = self.input_string[self.num_chars_read]\n",
    "        self.num_chars_read += 1\n",
    "        return current_input"
   ]
  },
  {
   "attachments": {},
   "cell_type": "markdown",
   "metadata": {},
   "source": [
    "***\n",
    "We now define an FSA class for each of the FSAs in the figure above. The Colon and ColonDash FSAs are copied from the previous tutorial."
   ]
  },
  {
   "cell_type": "code",
   "execution_count": 31,
   "metadata": {},
   "outputs": [],
   "source": [
    "class ColonDash_FSA(FSA):\n",
    "    def __init__(self):\n",
    "        FSA.__init__(self,\"colonDash_FSA\") # You must invoke the __init__ of the parent class\n",
    "        self.accept_states.add(self.S2) # Since self.accept_states is defined in parent class, I can use it here\n",
    "    \n",
    "    def S0(self):\n",
    "        current_input = self._FSA__getCurrentInput()\n",
    "        if current_input == ':': next_state = self.S1\n",
    "        else: next_state = self.Serr\n",
    "        return next_state\n",
    "    def S1(self):\n",
    "        current_input = self._FSA__getCurrentInput()\n",
    "        if current_input == '-': next_state = self.S2\n",
    "        else: next_state = self.Serr\n",
    "        return next_state\n",
    "    def S2(self):\n",
    "        current_input = self._FSA__getCurrentInput()\n",
    "        next_state = self.S2 # loop in state S2\n",
    "        return next_state\n",
    "    def Serr(self):\n",
    "        current_input = self._FSA__getCurrentInput()\n",
    "        next_state = self.Serr # loop in state Serr\n",
    "        return next_state"
   ]
  },
  {
   "attachments": {},
   "cell_type": "markdown",
   "metadata": {},
   "source": [
    "***"
   ]
  },
  {
   "cell_type": "code",
   "execution_count": 32,
   "metadata": {},
   "outputs": [],
   "source": [
    "class Colon_FSA(FSA):\n",
    "    def __init__(self):\n",
    "        FSA.__init__(self,\"colon_FSA\") # You must invoke the __init__ of the parent class\n",
    "        self.accept_states.add(self.S1) # Since self.accept_states is defined in parent class, I can use it here\n",
    "    \n",
    "    def S0(self):\n",
    "        current_input = self._FSA__getCurrentInput()\n",
    "        if current_input == ':': next_state = self.S1\n",
    "        else: next_state = self.Serr\n",
    "        return next_state\n",
    "    def S1(self):\n",
    "        current_input = self._FSA__getCurrentInput()\n",
    "        next_state = self.S1 # loop in state S1\n",
    "        return next_state\n",
    "    def Serr(self):\n",
    "        current_input = self._FSA__getCurrentInput()\n",
    "        next_state = self.Serr # loop in state Serr\n",
    "        return next_state"
   ]
  },
  {
   "attachments": {},
   "cell_type": "markdown",
   "metadata": {},
   "source": [
    "***\n",
    "The FSA for left and right parentheses tokens follow the pattern for the colon, but they look for either the left or right parenthesis instead of the colon."
   ]
  },
  {
   "cell_type": "code",
   "execution_count": 37,
   "metadata": {},
   "outputs": [],
   "source": [
    "class LeftParen_FSA(FSA):\n",
    "    def __init__(self):\n",
    "        FSA.__init__(self,\"leftParen_FSA\") # You must invoke the __init__ of the parent class\n",
    "        self.accept_states.add(self.S1) # Since self.accept_states is defined in parent class, I can use it here\n",
    "    \n",
    "    def S0(self):\n",
    "        current_input = self._FSA__getCurrentInput()\n",
    "        if current_input == '(': next_state = self.S1\n",
    "        else: next_state = self.Serr\n",
    "        return next_state\n",
    "    def S1(self):\n",
    "        current_input = self._FSA__getCurrentInput()\n",
    "        next_state = self.S1 # loop in state S1\n",
    "        return next_state\n",
    "    def Serr(self):\n",
    "        current_input = self._FSA__getCurrentInput()\n",
    "        next_state = self.Serr # loop in state Serr\n",
    "        return next_state\n"
   ]
  },
  {
   "attachments": {},
   "cell_type": "markdown",
   "metadata": {},
   "source": [
    "***"
   ]
  },
  {
   "cell_type": "code",
   "execution_count": 38,
   "metadata": {},
   "outputs": [],
   "source": [
    "class RightParen_FSA(FSA):\n",
    "    def __init__(self):\n",
    "        FSA.__init__(self,\"rightParen_FSA\") # You must invoke the __init__ of the parent class\n",
    "        self.accept_states.add(self.S1) # Since self.accept_states is defined in parent class, I can use it here\n",
    "    def S0(self):\n",
    "        current_input = self._FSA__getCurrentInput()\n",
    "        if current_input == ')': next_state = self.S1\n",
    "        else: next_state = self.Serr\n",
    "        return next_state\n",
    "    def S1(self):\n",
    "        current_input = self._FSA__getCurrentInput()\n",
    "        next_state = self.S1 # loop in state S1\n",
    "        return next_state\n",
    "    def Serr(self):\n",
    "        current_input = self._FSA__getCurrentInput()\n",
    "        next_state = self.Serr # loop in state Serr\n",
    "        return next_state"
   ]
  },
  {
   "attachments": {},
   "cell_type": "markdown",
   "metadata": {},
   "source": [
    "I'm going to do a quick sanity check here. It's a simple set of tests to see if my code works like I expect."
   ]
  },
  {
   "cell_type": "code",
   "execution_count": 39,
   "metadata": {},
   "outputs": [
    {
     "name": "stdout",
     "output_type": "stream",
     "text": [
      "The  colonDash_FSA FSA did not accept the input string ' :ab '\n",
      "The  colon_FSA FSA accepted the input string ' :ab '\n",
      "The  rightParen_FSA FSA did not accept the input string ' :ab '\n",
      "The  leftParen_FSA FSA did not accept the input string ' :ab '\n"
     ]
    }
   ],
   "source": [
    "my_colonDash_FSA = ColonDash_FSA()\n",
    "my_colon_FSA = Colon_FSA()\n",
    "my_rightParen_FSA = RightParen_FSA()\n",
    "my_leftParen_FSA = LeftParen_FSA()\n",
    "input_string = \"()\"\n",
    "accept_status_colonDash = my_colonDash_FSA.Run(input_string)\n",
    "accept_status_colon = my_colon_FSA.Run(input_string)\n",
    "accept_status_rightParen = my_rightParen_FSA.Run(input_string)\n",
    "accept_status_leftParen = my_leftParen_FSA.Run(input_string)\n",
    "\n",
    "if accept_status_colonDash: print(\"The \", my_colonDash_FSA.get_Name(), \"FSA accepted the input string '\",input_string,\"'\")\n",
    "else: print(\"The \", my_colonDash_FSA.get_Name(), \"FSA did not accept the input string '\",input_string,\"'\")\n",
    "if accept_status_colon: print(\"The \", my_colon_FSA.get_Name(), \"FSA accepted the input string '\",input_string,\"'\")\n",
    "else: print(\"The \", my_colon_FSA.get_Name(), \"FSA did not accept the input string '\",input_string,\"'\")\n",
    "if accept_status_rightParen: print(\"The \", my_rightParen_FSA.get_Name(), \"FSA accepted the input string '\",input_string,\"'\")\n",
    "else: print(\"The \", my_rightParen_FSA.get_Name(), \"FSA did not accept the input string '\",input_string,\"'\")\n",
    "if accept_status_leftParen: print(\"The \", my_leftParen_FSA.get_Name(), \"FSA accepted the input string '\",input_string,\"'\")\n",
    "else: print(\"The \", my_leftParen_FSA.get_Name(), \"FSA did not accept the input string '\",input_string,\"'\")\n"
   ]
  },
  {
   "attachments": {},
   "cell_type": "markdown",
   "metadata": {},
   "source": [
    "*** \n",
    "We've implemented each FSA on the lefthand side of the figure above in their own classes using inheritance. Now we need to figure out how to run each FSA on the same input and collect the outputs. Let's use a _dictionary_ data structure to represent the collection of FSAs. Begin by creating instances of each FSA type.\n"
   ]
  },
  {
   "cell_type": "code",
   "execution_count": 7,
   "metadata": {},
   "outputs": [],
   "source": [
    "right_paren_FSA = RightParen_FSA()   # I'm using my own made up naming convention. It's not very good. Look up better styles online.\n",
    "left_paren_FSA = LeftParen_FSA()     # The convention is that classes have capital letters and instances use all lower case. uggh\n",
    "colon_FSA = Colon_FSA()\n",
    "colon_dash_FSA = ColonDash_FSA()"
   ]
  },
  {
   "attachments": {},
   "cell_type": "markdown",
   "metadata": {},
   "source": [
    "The dictionary will be indexed (keyed) by the instances of the FSAs, and the dictionary values will be the return status of each FSA when run on the input. Chat GPT gives a good response to the prompt _how do i create a dictionary with only keys in python_, but something kinda bugs me about Chat GPT: it's using data generated by people who have posted information on the internet but it doesn't attribute credit to them. So, I put the same prompt into google and am using one of the responses from the geeksforgeeks tutorial https://www.geeksforgeeks.org/python-initialize-a-dictionary-with-only-keys-from-a-list/ ."
   ]
  },
  {
   "cell_type": "code",
   "execution_count": 8,
   "metadata": {},
   "outputs": [
    {
     "name": "stdout",
     "output_type": "stream",
     "text": [
      "{<__main__.RightParen_FSA object at 0x10f2821d0>: False, <__main__.LeftParen_FSA object at 0x10f691f90>: False, <__main__.Colon_FSA object at 0x10f693fd0>: False, <__main__.ColonDash_FSA object at 0x113b6b390>: False}\n"
     ]
    }
   ],
   "source": [
    "FSA_keys = [right_paren_FSA,left_paren_FSA,colon_FSA,colon_dash_FSA]\n",
    "FSADict = dict.fromkeys(FSA_keys, False)  # Initialize the outputs from each FSA to false\n",
    "print(FSADict)"
   ]
  },
  {
   "attachments": {},
   "cell_type": "markdown",
   "metadata": {},
   "source": [
    "I'm taking advantage of something that I like in Python, specifically that methods and instantiated classes are treated as _first-class objects_. Quoting from Chat GPT in response to the prompt _why can we call methods first order elements in python_:\n",
    "\n",
    "    In Python, methods are first-class objects, which means that they can be treated as any other object, such as variables, data types, and functions. This means that we can pass methods as arguments to other functions, return methods from functions, and store methods in data structures like lists and dictionaries.\n",
    "\n",
    "That means that we can use the name of the FSA objects as keys to the dictionary. The output looks something like\n",
    "\n",
    "    {<_main.RightParen_FSA object at 0x???????>: False, ...}\n",
    "\n",
    "The keys in the dictionary look like\n",
    "\n",
    "    <_main.RightParen_FSA object at 0x???????>\n",
    "\n",
    "which is just how Python says \"You created an instance of the RightParen_FSA. I call that instance and object. And the object resides in the computer memory at location 0x???????.\"\n",
    "\n",
    "***"
   ]
  },
  {
   "attachments": {},
   "cell_type": "markdown",
   "metadata": {},
   "source": [
    "We can iterate through each element in the dictionary and print out the values. I used the prompt \n",
    "\n",
    "    print all key value pairs in python using list comprehensions\n"
   ]
  },
  {
   "cell_type": "code",
   "execution_count": 19,
   "metadata": {},
   "outputs": [
    {
     "name": "stdout",
     "output_type": "stream",
     "text": [
      "value for FSA <__main__.RightParen_FSA object at 0x10f2821d0>  is  False\n",
      "value for FSA <__main__.LeftParen_FSA object at 0x10f691f90>  is  False\n",
      "value for FSA <__main__.Colon_FSA object at 0x10f693fd0>  is  False\n",
      "value for FSA <__main__.ColonDash_FSA object at 0x113b6b390>  is  False\n"
     ]
    }
   ],
   "source": [
    "[print(\"value for FSA\", key, \" is \",value) for key,value in FSADict.items()];"
   ]
  },
  {
   "attachments": {},
   "cell_type": "markdown",
   "metadata": {},
   "source": [
    "***\n",
    "\n",
    "Let's choose an input string, run it through each FSA in our FSA dictionary, and print out the results. We'll be smart and print out the name of the FSA rather than the actual key."
   ]
  },
  {
   "cell_type": "code",
   "execution_count": 28,
   "metadata": {},
   "outputs": [
    {
     "name": "stdout",
     "output_type": "stream",
     "text": [
      "False\n",
      "False\n",
      "value for FSA rightPAren_FSA  is  False\n",
      "value for FSA leftPAren_FSA  is  False\n",
      "value for FSA colon_FSA  is  False\n",
      "value for FSA colonDash_FSA  is  False\n"
     ]
    }
   ],
   "source": [
    "input_string = \":\"\n",
    "print(left_paren_FSA.Run(input_string))\n",
    "print(colon_FSA.Run(input_string))\n",
    "\n",
    "for FSA in FSADict.keys():\n",
    "    FSADict[FSA] = FSA.Run(input_string)\n",
    "[print(\"value for FSA\", key.get_Name(), \" is \",value) for key,value in FSADict.items()];\n"
   ]
  }
 ],
 "metadata": {
  "kernelspec": {
   "display_name": "Python 3",
   "language": "python",
   "name": "python3"
  },
  "language_info": {
   "codemirror_mode": {
    "name": "ipython",
    "version": 3
   },
   "file_extension": ".py",
   "mimetype": "text/x-python",
   "name": "python",
   "nbconvert_exporter": "python",
   "pygments_lexer": "ipython3",
   "version": "3.11.2"
  },
  "orig_nbformat": 4
 },
 "nbformat": 4,
 "nbformat_minor": 2
}
