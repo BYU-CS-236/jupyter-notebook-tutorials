{
 "cells": [
  {
   "attachments": {},
   "cell_type": "markdown",
   "metadata": {},
   "source": [
    "Project 1 requires you to create a set of FSAs, one for each legal token type allowed in the _Datalog_ database language. Here are the description of the first token types from the project description.\n",
    "\n",
    "| Token Type    | Description           |  \n",
    "| :--           | :--                   |  \n",
    "| COMMA         | The ',' character     |\n",
    "| PERIOD        | The '.' character     |\n",
    "| Q_MARK        | The '?' character     |\n",
    "| LEFT_PAREN    | The '(' character     |\n",
    "| RIGHT_PAREN   | The ')' character     |\n",
    "| COLON         | The ':' character     |\n",
    "| COLON-DASH    | The string \":-\"       |\n",
    "\n",
    "This means that you will have a collection of FSAs that you will need to manage. "
   ]
  },
  {
   "attachments": {},
   "cell_type": "markdown",
   "metadata": {},
   "source": [
    "***\n",
    "\n",
    "One way to implement project 1 is to run each FSA on the same input string and see what each FSA returns, as illustrated in the left side of the figure. \n",
    "\n",
    "![image](Managing_project1_FSAs.drawio.svg)\n",
    "\n",
    "Each FSA outputs accept or reject, represented by the T or F. Each output can be collected into some sort of data structure like a list. That list is the input to a completely new finite state machine (FSM), one that decides which token to output based on the behaviors of all the FSAs. \n",
    "\n",
    "Recall from the textook and from the discussion in class that a FSM behaves differently from an FSA. Whereas an FSA only outputs T or F, depending on whether it accepts or not, FSMs give some kind of output each time a transition is taken. Thus, notice how the arrows on the FSM (right half of figure above) have two components: an input, which is the list represented by the sequence of true/false values in the square brackets, and an output, which is the token that the lexer should outpu. The input and output are separated by a comma, which is how the textbook differentiates between the input and output in the FSMs it draws.\n",
    "\n",
    "The way this FSM operates is that it reads the list of true/false values and outputs the correct token. The top loop in the FSM says that the FSA for the left parenthesis succeeded and all others failed [TFFF], so the output should be the LEFT_PAREN token. The bottom right loop says that both the colon and colon-dash FSAs succeeded [FFTT], so the output should be the COLON-DASH token."
   ]
  },
  {
   "attachments": {},
   "cell_type": "markdown",
   "metadata": {},
   "source": [
    "***\n",
    "We can now start to think about how to program the collection of FSAs and the manager FSM.  First, define the base_class from which all FSAs inherit. The code below is copied straigh from the previous Jupyter notebook tutorial."
   ]
  },
  {
   "cell_type": "code",
   "execution_count": 22,
   "metadata": {},
   "outputs": [],
   "source": [
    "from typing import Callable as function\n",
    "class FSA:\n",
    "    \"\"\" FSA Base or Super class\"\"\"\n",
    "    def __init__(self, name: str) -> None:\n",
    "        \"\"\"Class constructor\"\"\"\n",
    "        ###############################################################\n",
    "        # Define the five elements of the FSA\n",
    "        ###############################################################\n",
    "        # Set of states: Each state S0, S1, S2, Serr will be represented by its own method\n",
    "        # Set of inputs: I is the set of alphanumeric characters, checked by isalnum()\n",
    "        self.start_state: function = self.s0  # We'll always have the start state named S0\n",
    "        self.accept_states: set[function] = set()  # No accept states defined\n",
    "        \n",
    "        ###############################################################\n",
    "        # Define four variables that are used within the FSA, some\n",
    "        # to make the FSA run and some that help us understand how \n",
    "        # the FSA works\n",
    "        ###############################################################\n",
    "        self.input_string: str = \"\"  # Default empty input\n",
    "        self.fsa_name: str = name\n",
    "        self.num_chars_read: int = 0\n",
    "\n",
    "    #########################################################\n",
    "    # Define each state as a function                       #\n",
    "    # Within each function, define the transition function. #\n",
    "    # Each transition function reads the current input and  #\n",
    "    # choose the next state based on the input              #\n",
    "    #########################################################\n",
    "    def s0(self) -> None:\n",
    "        \"\"\"Every FSA must have a start state, and we'll always name \n",
    "        it S0. The method for the start state must be defined in the\n",
    "        derived class since it's not defined here.\"\"\"\n",
    "        raise NotImplementedError()  # This line causes an error to \n",
    "                                    # occur if the child classes don't implement this method\n",
    "\n",
    "    ############################\n",
    "    # Public Manager Functions\n",
    "    ############################\n",
    "    def run(self, input_string: str) -> bool:\n",
    "        ###############################################################\n",
    "        # This function will be called to make the FSA execute\n",
    "        # It records the input string,\n",
    "        # sets the current state to the start state\n",
    "        # and then calls a state method that returns the next state\n",
    "        # Each state method accesses the input_string\n",
    "        ###############################################################\n",
    "        # Remember input_string\n",
    "        self.input_string = input_string\n",
    "        # Set current state to start state\n",
    "        current_state: function = self.start_state\n",
    "        # Call current state, which starts the FSA\n",
    "        while self.num_chars_read < len(self.input_string):\n",
    "            current_state = current_state()\n",
    "        # Check whether the FSA ended in an accept state\n",
    "        outcome: bool = False\n",
    "        if current_state in self.accept_states:\n",
    "            outcome = True  # Accept if the FSA ended in an accept state\n",
    "        return outcome\n",
    "\n",
    "    def reset(self) -> None:\n",
    "        self.num_chars_read = 0\n",
    "        self.history = []\n",
    "\n",
    "    ############################\n",
    "    # Public Getters and Setters\n",
    "    ############################\n",
    "    def get_name(self) -> str:\n",
    "        return self.fsa_name\n",
    "\n",
    "    def set_name(self, fsa_name: str) -> None:\n",
    "        self.fsa_name = fsa_name\n",
    "\n",
    "    ############################\n",
    "    # Private Helper functions\n",
    "    ############################\n",
    "    def __get_current_input(self) -> str:\n",
    "        current_input: str = self.input_string[self.num_chars_read]\n",
    "        self.num_chars_read += 1\n",
    "        return current_input"
   ]
  },
  {
   "attachments": {},
   "cell_type": "markdown",
   "metadata": {},
   "source": [
    "***\n",
    "We now define an FSA class for each of the FSAs in the figure above. The Colon and ColonDash FSAs are copied from the previous tutorial."
   ]
  },
  {
   "cell_type": "code",
   "execution_count": 21,
   "metadata": {},
   "outputs": [],
   "source": [
    "class ColonDashFSA(FSA):\n",
    "    def __init__(self):\n",
    "        FSA.__init__(self,\"ColonDashFSA\") # You must invoke the __init__ of the parent class\n",
    "        self.accept_states.add(self.s2) # Since self.accept_states is defined in parent class, I can use it here\n",
    "    \n",
    "    def s0(self):\n",
    "        current_input: str = self._FSA__get_current_input()\n",
    "        next_state: function = None\n",
    "        if current_input == ':':\n",
    "            next_state: function = self.s1\n",
    "        else:\n",
    "            next_state: function = self.s_err\n",
    "        return next_state\n",
    "\n",
    "    def s1(self):\n",
    "        current_input: str = self._FSA__get_current_input()\n",
    "        next_state: function = None\n",
    "        if current_input == '-':\n",
    "            next_state: function = self.s2\n",
    "        else:\n",
    "            next_state: function = self.s_err\n",
    "        return next_state\n",
    "\n",
    "    def s2(self):\n",
    "        current_input: str = self._FSA__get_current_input()\n",
    "        next_state: function = self.s2  # loop in state s2\n",
    "        return next_state\n",
    "\n",
    "    def s_err(self):\n",
    "        current_input: str = self._FSA__get_current_input()\n",
    "        next_state: function = self.s_err  # loop in state serr\n",
    "        return next_state"
   ]
  },
  {
   "attachments": {},
   "cell_type": "markdown",
   "metadata": {},
   "source": [
    "***"
   ]
  },
  {
   "cell_type": "code",
   "execution_count": 20,
   "metadata": {},
   "outputs": [],
   "source": [
    "class ColonFSA(FSA):\n",
    "    def __init__(self):\n",
    "        FSA.__init__(self,\"ColonFSA\") # You must invoke the __init__ of the parent class\n",
    "        self.accept_states.add(self.s1) # Since self.accept_states is defined in parent class, I can use it here\n",
    "    \n",
    "    def s0(self):\n",
    "        current_input: str = self._FSA__get_current_input()\n",
    "        next_state: function = None\n",
    "        if current_input == ':':\n",
    "            next_state: function = self.s1\n",
    "        else:\n",
    "            next_state: function = self.s_err\n",
    "        return next_state\n",
    "\n",
    "    def s1(self):\n",
    "        current_input: str = self._FSA__get_current_input()\n",
    "        next_state: function = self.s1  # loop in state s1\n",
    "        return next_state\n",
    "\n",
    "    def s_err(self):\n",
    "        current_input: str = self._FSA__get_current_input()\n",
    "        next_state: function = self.s_err  # loop in state serr\n",
    "        return next_state"
   ]
  },
  {
   "attachments": {},
   "cell_type": "markdown",
   "metadata": {},
   "source": [
    "***\n",
    "The FSA for left and right parentheses tokens follow the pattern for the colon, but they look for either the left or right parenthesis instead of the colon."
   ]
  },
  {
   "cell_type": "code",
   "execution_count": 19,
   "metadata": {},
   "outputs": [],
   "source": [
    "class LeftParenFSA(FSA):\n",
    "    def __init__(self):\n",
    "        FSA.__init__(self,\"LeftParenFSA\") # You must invoke the __init__ of the parent class\n",
    "        self.accept_states.add(self.s1) # Since self.accept_states is defined in parent class, I can use it here\n",
    "    \n",
    "    def s0(self):\n",
    "        current_input: str = self._FSA__get_current_input()\n",
    "        next_state: function = None\n",
    "        if current_input == '(':\n",
    "            next_state: function = self.s1\n",
    "        else:\n",
    "            next_state: function = self.s_err\n",
    "        return next_state\n",
    "\n",
    "    def s1(self):\n",
    "        current_input: str = self._FSA__get_current_input()\n",
    "        next_state: function = self.s1  # loop in state s1\n",
    "        return next_state\n",
    "\n",
    "    def s_err(self):\n",
    "        current_input: str = self._FSA__get_current_input()\n",
    "        next_state: function = self.s_err  # loop in state serr\n",
    "        return next_state\n"
   ]
  },
  {
   "attachments": {},
   "cell_type": "markdown",
   "metadata": {},
   "source": [
    "***"
   ]
  },
  {
   "cell_type": "code",
   "execution_count": 18,
   "metadata": {},
   "outputs": [],
   "source": [
    "class RightParenFSA(FSA):\n",
    "    def __init__(self):\n",
    "        FSA.__init__(self,\"RightParenFSA\") # You must invoke the __init__ of the parent class\n",
    "        self.accept_states.add(self.s1) # Since self.accept_states is defined in parent class, I can use it here\n",
    "    \n",
    "    def s0(self):\n",
    "        current_input: str = self._FSA__get_current_input()\n",
    "        next_state: function = None\n",
    "        if current_input == ')':\n",
    "            next_state: function = self.s1\n",
    "        else:\n",
    "            next_state: function = self.s_err\n",
    "        return next_state\n",
    "\n",
    "    def s1(self):\n",
    "        current_input: str = self._FSA__get_current_input()\n",
    "        next_state: function = self.s1  # loop in state s1\n",
    "        return next_state\n",
    "\n",
    "    def s_err(self):\n",
    "        current_input: str = self._FSA__get_current_input()\n",
    "        next_state: function = self.s_err  # loop in state serr\n",
    "        return next_state"
   ]
  },
  {
   "attachments": {},
   "cell_type": "markdown",
   "metadata": {},
   "source": [
    "I'm going to do a quick sanity check here. It's a simple set of tests to see if my code works like I expect."
   ]
  },
  {
   "cell_type": "code",
   "execution_count": 17,
   "metadata": {},
   "outputs": [
    {
     "name": "stdout",
     "output_type": "stream",
     "text": [
      "The  ColonDashFSA FSA did not accept the input string ' () '\n",
      "The  ColonFSA FSA did not accept the input string ' () '\n",
      "The  RightParenFSA FSA did not accept the input string ' () '\n",
      "The  LeftParenFSA FSA accepted the input string ' () '\n"
     ]
    }
   ],
   "source": [
    "my_colon_dash_fsa: ColonDashFSA = ColonDashFSA()\n",
    "my_colon_fsa: ColonFSA = ColonFSA()\n",
    "my_right_paren_fsa: RightParenFSA = RightParenFSA()\n",
    "my_left_paren_fsa: LeftParenFSA = LeftParenFSA()\n",
    "input_string: str = \"()\"\n",
    "accept_status_colon_dash: bool = my_colon_dash_fsa.run(input_string)\n",
    "accept_status_colon: bool = my_colon_fsa.run(input_string)\n",
    "accept_status_right_paren: bool = my_right_paren_fsa.run(input_string)\n",
    "accept_status_left_paren: bool = my_left_paren_fsa.run(input_string)\n",
    "\n",
    "if accept_status_colon_dash: print(\"The \", my_colon_dash_fsa.get_name(), \"FSA accepted the input string '\",input_string,\"'\")\n",
    "else: print(\"The \", my_colon_dash_fsa.get_name(), \"FSA did not accept the input string '\",input_string,\"'\")\n",
    "if accept_status_colon: print(\"The \", my_colon_fsa.get_name(), \"FSA accepted the input string '\",input_string,\"'\")\n",
    "else: print(\"The \", my_colon_fsa.get_name(), \"FSA did not accept the input string '\",input_string,\"'\")\n",
    "if accept_status_right_paren: print(\"The \", my_right_paren_fsa.get_name(), \"FSA accepted the input string '\",input_string,\"'\")\n",
    "else: print(\"The \", my_right_paren_fsa.get_name(), \"FSA did not accept the input string '\",input_string,\"'\")\n",
    "if accept_status_left_paren: print(\"The \", my_left_paren_fsa.get_name(), \"FSA accepted the input string '\",input_string,\"'\")\n",
    "else: print(\"The \", my_left_paren_fsa.get_name(), \"FSA did not accept the input string '\",input_string,\"'\")\n"
   ]
  },
  {
   "attachments": {},
   "cell_type": "markdown",
   "metadata": {},
   "source": [
    "*** \n",
    "We've implemented each FSA on the lefthand side of the figure above in their own classes using inheritance. Now we need to figure out how to run each FSA on the same input and collect the outputs. Let's use a _dictionary_ data structure to represent the collection of FSAs. Begin by creating instances of each FSA type.\n"
   ]
  },
  {
   "cell_type": "code",
   "execution_count": 16,
   "metadata": {},
   "outputs": [],
   "source": [
    "right_paren_fsa: RightParenFSA = RightParenFSA()   # I'm using my own made up naming convention. It's not very good. Look up better styles online.\n",
    "left_paren_fsa: LeftParenFSA = LeftParenFSA()     # The convention is that classes have capital letters and instances use all lower case. uggh\n",
    "colon_fsa: ColonFSA = ColonFSA()\n",
    "colon_dash_fsa: ColonDashFSA = ColonDashFSA()"
   ]
  },
  {
   "attachments": {},
   "cell_type": "markdown",
   "metadata": {},
   "source": [
    "The dictionary will be indexed (keyed) by the instances of the FSAs, and the dictionary values will be the return status of each FSA when run on the input. Chat GPT gives a good response to the prompt _how do i create a dictionary with only keys in python_, but something kinda bugs me about Chat GPT: it's using data generated by people who have posted information on the internet but it doesn't attribute credit to them. So, I put the same prompt into google and am using one of the responses from the geeksforgeeks tutorial https://www.geeksforgeeks.org/python-initialize-a-dictionary-with-only-keys-from-a-list/ ."
   ]
  },
  {
   "cell_type": "code",
   "execution_count": 23,
   "metadata": {},
   "outputs": [
    {
     "name": "stdout",
     "output_type": "stream",
     "text": [
      "{<__main__.RightParenFSA object at 0x1052652d0>: False, <__main__.LeftParenFSA object at 0x105280b90>: False, <__main__.ColonFSA object at 0x105282990>: False, <__main__.ColonDashFSA object at 0x105283710>: False}\n"
     ]
    }
   ],
   "source": [
    "fsa_keys: list[function] = [right_paren_fsa,left_paren_fsa,colon_fsa,colon_dash_fsa]\n",
    "fsa_dict: dict[function, bool] = dict.fromkeys(fsa_keys, False)  # Initialize the outputs from each FSA to false\n",
    "print(fsa_dict)"
   ]
  },
  {
   "attachments": {},
   "cell_type": "markdown",
   "metadata": {},
   "source": [
    "I'm taking advantage of something that I like in Python, specifically that methods and instantiated classes are treated as _first-class objects_. Quoting from Chat GPT in response to the prompt _why can we call methods first order elements in python_:\n",
    "\n",
    "    In Python, methods are first-class objects, which means that they can be treated as any other object, such as variables, data types, and functions. This means that we can pass methods as arguments to other functions, return methods from functions, and store methods in data structures like lists and dictionaries.\n",
    "\n",
    "That means that we can use the name of the FSA __objects__ as keys to the dictionary. As a reminder, the word __object__ in this context means an instance of a class, that is, the \"thing\" we create when we do something like:\n",
    "\n",
    "    right_paren_FSA = RightParen_FSA()\n",
    "\n",
    "The \"RightParen_FSA()\" is the way we create an object from a class, and the \"right_paren_FSA\" is the object we create.\n",
    "\n",
    "The output of \"print(fsa_dict)\" should look something like (notice the word \"object\")\n",
    "\n",
    "    {<_main.RightParen_FSA object at 0x???????>: False, ...}\n",
    "\n",
    "The keys in the dictionary look like\n",
    "\n",
    "    <_main.RightParen_FSA object at 0x???????>\n",
    "\n",
    "which is just how Python says \"You created an instance of the RightParen_FSA. I call that instance and object. And the object resides in the computer memory at location 0x???????.\"\n",
    "\n",
    "***"
   ]
  },
  {
   "attachments": {},
   "cell_type": "markdown",
   "metadata": {},
   "source": [
    "We can iterate through each element in the dictionary and print out the values. I used the prompt \n",
    "\n",
    "    print all key value pairs in python using list comprehensions\n"
   ]
  },
  {
   "cell_type": "code",
   "execution_count": 24,
   "metadata": {},
   "outputs": [
    {
     "name": "stdout",
     "output_type": "stream",
     "text": [
      "value for FSA <__main__.RightParenFSA object at 0x1052652d0>  is  False\n",
      "value for FSA <__main__.LeftParenFSA object at 0x105280b90>  is  False\n",
      "value for FSA <__main__.ColonFSA object at 0x105282990>  is  False\n",
      "value for FSA <__main__.ColonDashFSA object at 0x105283710>  is  False\n"
     ]
    }
   ],
   "source": [
    "for key,value in fsa_dict.items():\n",
    "    print(\"value for FSA\", key, \" is \",value)"
   ]
  },
  {
   "attachments": {},
   "cell_type": "markdown",
   "metadata": {},
   "source": [
    "***\n",
    "\n",
    "Let's choose an input string, run it through each FSA in our FSA dictionary, and print out the results. We'll be smart and print out the name of the FSA rather than the actual key."
   ]
  },
  {
   "cell_type": "code",
   "execution_count": 25,
   "metadata": {},
   "outputs": [
    {
     "name": "stdout",
     "output_type": "stream",
     "text": [
      "********\n",
      "Input string is )\n",
      "value for FSA <__main__.RightParenFSA object at 0x1052652d0>  is  True\n",
      "value for FSA <__main__.LeftParenFSA object at 0x105280b90>  is  False\n",
      "value for FSA <__main__.ColonFSA object at 0x105282990>  is  False\n",
      "value for FSA <__main__.ColonDashFSA object at 0x105283710>  is  False\n",
      "\n",
      "\n",
      "********\n",
      "Input string is :-\n",
      "value for FSA <__main__.RightParenFSA object at 0x1052652d0>  is  False\n",
      "value for FSA <__main__.LeftParenFSA object at 0x105280b90>  is  False\n",
      "value for FSA <__main__.ColonFSA object at 0x105282990>  is  True\n",
      "value for FSA <__main__.ColonDashFSA object at 0x105283710>  is  True\n",
      "\n",
      "\n"
     ]
    }
   ],
   "source": [
    "input_string: str = \")\"\n",
    "for FSA in fsa_dict.keys():\n",
    "    FSA.reset() # Better make sure I reset things before I try this\n",
    "    fsa_dict[FSA] = FSA.run(input_string)\n",
    "print(\"********\\nInput string is\",input_string)\n",
    "for key,value in fsa_dict.items():\n",
    "    print(\"value for FSA\", key, \" is \",value)\n",
    "print(\"\\n\")\n",
    "\n",
    "input_string = \":-\"\n",
    "for FSA in fsa_dict.keys():\n",
    "    FSA.reset() # Better make sure I reset things before I try this\n",
    "    fsa_dict[FSA] = FSA.run(input_string)\n",
    "print(\"********\\nInput string is\",input_string)\n",
    "for key,value in fsa_dict.items():\n",
    "    print(\"value for FSA\", key, \" is \",value)\n",
    "print(\"\\n\")\n"
   ]
  },
  {
   "attachments": {},
   "cell_type": "markdown",
   "metadata": {},
   "source": [
    "***\n",
    "\n",
    "We've built some pieces for assembling the FSAs into a list that can be managed by a FSM but we haven't built the FSM yet. I've collected all the FSAs that we've built into a single file for convenience, so the FSM manager begins by importing these FSAs.\n",
    "\n",
    "Let's look at the figure we created to describe the relationships between the token-specific FSAs and the managing FSM.\n",
    "\n",
    "![image](Managing_project1_FSAs.drawio.svg)\n"
   ]
  },
  {
   "attachments": {},
   "cell_type": "markdown",
   "metadata": {},
   "source": [
    "\n",
    "Look at how the order in which the token-specific FSAs are evaluated determines the logic we use in our management FSM. We want our code to match this. The figure says to run the FSAs in the following order\n",
    "\n",
    " 1. left parenthesis\n",
    " 2. right parenthesis\n",
    " 3. colon\n",
    " 4. colon dash\n",
    "\n",
    " We can implement this order in our initialization of the manager FSM and order the elements of our dictionary elements.\n",
    "\n",
    "    self.FSA_keys = [self.left_paren_FSA,self.right_paren_FSA,self.colon_FSA,self.colon_dash_FSA]\n",
    "\n",
    "and then initialize our dictionary using these keys\n",
    "\n",
    "    self.fsa_dict = dict.fromkeys(self.FSA_keys, False)\n",
    "\n",
    "\n",
    "***"
   ]
  },
  {
   "attachments": {},
   "cell_type": "markdown",
   "metadata": {},
   "source": [
    "We'll then run each of the FSAs (see the Lex method)\n",
    "\n",
    "    # Run each FSA on the input and collect their outputs\n",
    "    for FSA in self.fsa_dict.keys():\n",
    "        self.fsa_dict[FSA] = FSA.Run(input_string)\n",
    "\n",
    "and the output token will be selected using the logic shown in the figure above:\n",
    "\n",
    "    if output == [True,False,False,False]: output_token = \"LEFT_PAREN\"\n",
    "    elif output == [False,True,False,False]: output_token = \"RIGHT_PAREN\"\n",
    "    elif output == [False,False,True,False]: output_token = \"COLON\"\n",
    "    elif output == [False,False,True,True]: output_token = \"COLON_DASH\"\n",
    "        \n",
    "\n",
    "    "
   ]
  },
  {
   "attachments": {},
   "cell_type": "markdown",
   "metadata": {},
   "source": [
    "\n",
    "__TODO: make this match our style guide for project 1__"
   ]
  },
  {
   "cell_type": "code",
   "execution_count": 30,
   "metadata": {},
   "outputs": [],
   "source": [
    "from fsa_classes_definitions import * \n",
    "from typing import Callable as function\n",
    "\n",
    "class LexerFSM():\n",
    "    def __init__(self) -> None:\n",
    "        ##########################\n",
    "        # Create each needed FSA #\n",
    "        ##########################\n",
    "        self.right_paren_fsa: RightParenFSA = RightParenFSA()   # I'm using my own made up naming convention. It's not very good. Look up better styles online.\n",
    "        self.left_paren_fsa: LeftParenFSA = LeftParenFSA()     # The convention is that classes have capital letters and instances use all lower case. uggh\n",
    "        self.colon_fsa: ColonFSA = ColonFSA()\n",
    "        self.colon_dash_fsa: ColonDashFSA = ColonDashFSA()\n",
    "        #####################################\n",
    "        # Create the FSA manager dictionary #\n",
    "        #####################################\n",
    "        self.fsa_keys: list[function] = [self.left_paren_fsa,self.right_paren_fsa,self.colon_fsa,self.colon_dash_fsa]\n",
    "        self.fsa_dict: dict[function, bool] = dict.fromkeys(self.fsa_keys, False)  # Initialize the outputs from each FSA to false\n",
    "    \n",
    "    ################\n",
    "    # Lexer method #\n",
    "    ################\n",
    "    def lex(self, input_string: str) -> function:\n",
    "        # Run each FSA on the input and collect their outputs\n",
    "        for FSA in self.fsa_dict.keys():\n",
    "            self.fsa_dict[FSA] = FSA.run(input_string)\n",
    "        # Run the FSM that decides what to do with the outputs of the FSAs\n",
    "        return self.__manager_fsm__()\n",
    "\n",
    "    ###################\n",
    "    # Private Methods #\n",
    "    ###################\n",
    "    def __manager_fsm__(self) -> str:\n",
    "        # A finite state machine implemented as a sequence of if statements\n",
    "        output_token: str = \"UNDEFINED\"\n",
    "        # Turn the dictionary values into a list\n",
    "        output_list: list[bool] = [value for value in self.fsa_dict.values()]\n",
    "        if output_list == [True,False,False,False]: output_token = \"LEFT_PAREN\"\n",
    "        elif output_list == [False,True,False,False]: output_token = \"RIGHT_PAREN\"\n",
    "        elif output_list == [False,False,True,False]: output_token = \"COLON\"\n",
    "        elif output_list == [False,False,True,True]: output_token = \"COLON_DASH\"\n",
    "        return output_token\n",
    "\n",
    "    ###################\n",
    "    # Utility Methods #\n",
    "    ###################\n",
    "    def reset(self) -> None:\n",
    "        for FSA in self.fsa_dict.keys(): FSA.reset()\n",
    "    "
   ]
  },
  {
   "attachments": {},
   "cell_type": "markdown",
   "metadata": {},
   "source": [
    "***\n",
    "\n",
    "WARNING: The code above is not efficient and is easy to mess up since it uses implicit order in the dictionary. I wrote the code to make it easy to understand where the FSMs and FSAs belong and how they fit together, not to make the code efficient.\n",
    "\n",
    "Let's test it on some inputs."
   ]
  },
  {
   "cell_type": "code",
   "execution_count": 31,
   "metadata": {},
   "outputs": [
    {
     "name": "stdout",
     "output_type": "stream",
     "text": [
      "On input : The lexer output  COLON\n",
      "On input :- The lexer output  COLON_DASH\n",
      "On input ( The lexer output  LEFT_PAREN\n",
      "On input ) The lexer output  RIGHT_PAREN\n",
      "On input (:-:) The lexer output  LEFT_PAREN\n"
     ]
    }
   ],
   "source": [
    "my_lexer: LexerFSM = LexerFSM()\n",
    "input_string: str = \":\"\n",
    "my_lexer.reset()\n",
    "print(\"On input\",input_string, \"The lexer output \",my_lexer.lex(input_string))\n",
    "\n",
    "input_string = \":-\"\n",
    "my_lexer.reset()\n",
    "print(\"On input\",input_string, \"The lexer output \",my_lexer.lex(input_string))\n",
    "\n",
    "input_string = \"(\"\n",
    "my_lexer.reset()\n",
    "print(\"On input\",input_string, \"The lexer output \",my_lexer.lex(input_string))\n",
    "\n",
    "input_string = \")\"\n",
    "my_lexer.reset()\n",
    "print(\"On input\",input_string, \"The lexer output \",my_lexer.lex(input_string))\n",
    "\n",
    "input_string = \"(:-:)\"\n",
    "my_lexer.reset()\n",
    "print(\"On input\",input_string, \"The lexer output \",my_lexer.lex(input_string))\n",
    "\n"
   ]
  }
 ],
 "metadata": {
  "kernelspec": {
   "display_name": "Python 3",
   "language": "python",
   "name": "python3"
  },
  "language_info": {
   "codemirror_mode": {
    "name": "ipython",
    "version": 3
   },
   "file_extension": ".py",
   "mimetype": "text/x-python",
   "name": "python",
   "nbconvert_exporter": "python",
   "pygments_lexer": "ipython3",
   "version": "3.11.2"
  },
  "orig_nbformat": 4
 },
 "nbformat": 4,
 "nbformat_minor": 2
}
