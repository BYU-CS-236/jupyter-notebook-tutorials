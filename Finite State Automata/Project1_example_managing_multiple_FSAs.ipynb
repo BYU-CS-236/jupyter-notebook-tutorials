{
 "cells": [
  {
   "attachments": {},
   "cell_type": "markdown",
   "metadata": {},
   "source": [
    "Project 1 requires you to create a set of FSAs, one for each legal token type allowed in the _Datalog_ database language. Here are the first several token types from the project.\n",
    "\n",
    "| Token Type    | Description           |  \n",
    "| :--           | :--                   |  \n",
    "| COMMA         | The ',' character     |\n",
    "| PERIOD        | The '.' character     |\n",
    "| Q_MARK        | The '?' character     |\n",
    "| LEFT_PAREN    | The '(' character     |\n",
    "| RIGHT_PAREN   | The ')' character     |\n",
    "| COLON         | The ':' character     |\n",
    "| COLON-DASH    | The string \":-\"       |\n",
    "\n",
    "This means that you will have a collection of FSAs that you will need to manage. "
   ]
  },
  {
   "attachments": {},
   "cell_type": "markdown",
   "metadata": {},
   "source": [
    "***\n",
    "\n",
    "One way to implement project 1 is to run each FSA on the input string, as illustrated in the left side of the figure. \n",
    "\n",
    "![image](Managing_project1_FSAs.drawio.svg)\n",
    "\n",
    "Each FSA outputs accept or reject, represented by the T or F, respectively on the rightside of the collection of FSAs.\n",
    "\n",
    "Each output can be collected into some sort of list, and that list is the input to a finite state machine (FSM) that decides which token is output. Notice how the arrows on the FSM on the right have two components: an input, which is the list represented by the sequence of true/false values in the square brackets, and an output, which is the token. The input and output are separated by a comma, which is how the textbook differentiates between the input and output in the FSMs it draws.\n",
    "\n",
    "The way this FSM operates is that it reads the list of true/false values and outputs the correct token. The top loop in the FSM says that the FSA for the left parenthesis succeeded and all others failed [TFFF], so the output should be the LEFT_PAREN token. The bottom right loop says that both the colon and colon-dash FSAs succeeded [FFTT], so the output should be the COLON-DASH token."
   ]
  },
  {
   "attachments": {},
   "cell_type": "markdown",
   "metadata": {},
   "source": [
    "***\n",
    "We can now start to think about how to program the collection of FSAs and the manager FSM.  First, define the base_class from which all FSAs inherit. The code below is copied straigh from the previous Jupyter notebook tutorial."
   ]
  },
  {
   "cell_type": "code",
   "execution_count": 7,
   "metadata": {},
   "outputs": [],
   "source": [
    "class FSA:\n",
    "    \"\"\" FSA Base or Super class\"\"\"\n",
    "    def __init__(self,name):\n",
    "        \"\"\" Class constructor \"\"\"\n",
    "        ###############################################################\n",
    "        # Define the five elements of the FSA\n",
    "        ###############################################################\n",
    "        # Set of states: Each state S0, S1, S2, Serr will be represented by its own method\n",
    "        # Set of inputs: I is the set of alphanumeric characters, checked by isalnum()\n",
    "        self.start_state = self.S0  # We'll always have the start state named S0\n",
    "        self.accept_states = set()  # No accept states defined\n",
    "        # Transition function: Each transition will be defined in the state methods\n",
    "        \n",
    "        ###############################################################\n",
    "        # Define four variables that are used within the FSA, some\n",
    "        # to make the FSA run and some that help us understand how \n",
    "        # the FSA works\n",
    "        ###############################################################\n",
    "        self.input_string = \"\"      # Default empty input\n",
    "        self.FSA_name = name\n",
    "        self.num_chars_read = 0\n",
    "            \n",
    "    #########################################################\n",
    "    # Define each state as a function                       #\n",
    "    # Within each function, define the transition function. #\n",
    "    # Each transition function reads the current input and  #\n",
    "    # choose the next state based on the input              #\n",
    "    #########################################################\n",
    "    def S0(self):\n",
    "        \"\"\" Every FSA must have a start state, and we'll always name \n",
    "        it S0. The method for the start state must be defined in the\n",
    "        derived class since it's not defined here. \"\"\"\n",
    "        raise NotImplementedError()     # This line causes an error to \n",
    "                                        # occur if the child classes don't implement this method\n",
    "\n",
    "    ############################\n",
    "    # Public Manager Functions\n",
    "    ############################\n",
    "    def Run(self,input_string):\n",
    "        ###############################################################\n",
    "        # This function will be called to make the FSA execute\n",
    "        # It records the input string,\n",
    "        # sets the current state to the start state\n",
    "        # and then calls a state method that returns the next state\n",
    "        # Each state method accesses the input_string\n",
    "        ###############################################################\n",
    "            # Remember input_string\n",
    "        self.input_string = input_string\n",
    "            # Set current state to start state\n",
    "        current_state = self.start_state\n",
    "            # Call current state, which starts the FSA\n",
    "        while self.num_chars_read < len(self.input_string):\n",
    "            current_state = current_state()\n",
    "            # Check whether the FSA ended in an accept state\n",
    "        outcome = False \n",
    "        if current_state in self.accept_states: outcome = True # Accept if the FSA ended in an accept state\n",
    "        return outcome\n",
    "    def Reset(self):\n",
    "        self.num_chars_read = 0\n",
    "        self.history = []\n",
    "    \n",
    "    ############################\n",
    "    # Public Getters and Setters\n",
    "    ############################\n",
    "    def get_Name(self): return self.FSA_name\n",
    "    def set_Name(self,FSA_name): self.FSA_name = FSA_name\n",
    "    \n",
    "    ############################\n",
    "    # Private Helper functions\n",
    "    ############################\n",
    "    def __getCurrentInput(self):  # The double underscore makes the method private\n",
    "        current_input = self.input_string[self.num_chars_read]\n",
    "        self.num_chars_read += 1\n",
    "        return current_input"
   ]
  },
  {
   "attachments": {},
   "cell_type": "markdown",
   "metadata": {},
   "source": [
    "***\n",
    "We now define an FSA class for each of the FSAs in the figure above. The Colon and ColonDash FSAs are copied from the previous tutorial."
   ]
  },
  {
   "cell_type": "code",
   "execution_count": 8,
   "metadata": {},
   "outputs": [],
   "source": [
    "class ColonDash_FSA(FSA):\n",
    "    def __init__(self):\n",
    "        FSA.__init__(self,\"colonDash_FSA\") # You must invoke the __init__ of the parent class\n",
    "        self.accept_states.add(self.S2) # Since self.accept_states is defined in parent class, I can use it here\n",
    "    \n",
    "    def S0(self):\n",
    "        current_input = self._FSA__getCurrentInput()\n",
    "        if current_input == ':': next_state = self.S1\n",
    "        else: next_state = self.Serr\n",
    "        return next_state\n",
    "    def S1(self):\n",
    "        current_input = self._FSA__getCurrentInput()\n",
    "        if current_input == '-': next_state = self.S2\n",
    "        else: next_state = self.Serr\n",
    "        return next_state\n",
    "    def S2(self):\n",
    "        current_input = self._FSA__getCurrentInput()\n",
    "        next_state = self.S2 # loop in state S2\n",
    "        return next_state\n",
    "    def Serr(self):\n",
    "        current_input = self._FSA__getCurrentInput()\n",
    "        next_state = self.Serr # loop in state Serr\n",
    "        return next_state"
   ]
  },
  {
   "attachments": {},
   "cell_type": "markdown",
   "metadata": {},
   "source": [
    "***"
   ]
  },
  {
   "cell_type": "code",
   "execution_count": 9,
   "metadata": {},
   "outputs": [],
   "source": [
    "class Colon_FSA(FSA):\n",
    "    def __init__(self):\n",
    "        FSA.__init__(self,\"colon_FSA\") # You must invoke the __init__ of the parent class\n",
    "        self.accept_states.add(self.S1) # Since self.accept_states is defined in parent class, I can use it here\n",
    "    \n",
    "    def S0(self):\n",
    "        current_input = self._FSA__getCurrentInput()\n",
    "        if current_input == ':': next_state = self.S1\n",
    "        else: next_state = self.Serr\n",
    "        return next_state\n",
    "    def S1(self):\n",
    "        current_input = self._FSA__getCurrentInput()\n",
    "        next_state = self.S1 # loop in state S1\n",
    "        return next_state\n",
    "    def Serr(self):\n",
    "        current_input = self._FSA__getCurrentInput()\n",
    "        next_state = self.Serr # loop in state Serr\n",
    "        return next_state"
   ]
  },
  {
   "attachments": {},
   "cell_type": "markdown",
   "metadata": {},
   "source": [
    "***\n",
    "The FSA for left and right parentheses tokens follow the pattern for the colon token exactly"
   ]
  },
  {
   "cell_type": "code",
   "execution_count": 10,
   "metadata": {},
   "outputs": [],
   "source": [
    "class LeftParen_FSA(FSA):\n",
    "    def __init__(self):\n",
    "        FSA.__init__(self,\"leftPAren_FSA\") # You must invoke the __init__ of the parent class\n",
    "        self.accept_states.add(self.S1) # Since self.accept_states is defined in parent class, I can use it here\n",
    "    \n",
    "    def S0(self):\n",
    "        current_input = self._FSA__getCurrentInput()\n",
    "        if current_input == '(': next_state = self.S1\n",
    "        else: next_state = self.Serr\n",
    "        return next_state\n",
    "    def S1(self):\n",
    "        current_input = self._FSA__getCurrentInput()\n",
    "        next_state = self.S1 # loop in state S1\n",
    "        return next_state\n",
    "    def Serr(self):\n",
    "        current_input = self._FSA__getCurrentInput()\n",
    "        next_state = self.Serr # loop in state Serr\n",
    "        return next_state\n"
   ]
  },
  {
   "attachments": {},
   "cell_type": "markdown",
   "metadata": {},
   "source": [
    "***"
   ]
  },
  {
   "cell_type": "code",
   "execution_count": 11,
   "metadata": {},
   "outputs": [],
   "source": [
    "class RightParen_FSA(FSA):\n",
    "    def __init__(self):\n",
    "        FSA.__init__(self,\"rightPAren_FSA\") # You must invoke the __init__ of the parent class\n",
    "        self.accept_states.add(self.S1) # Since self.accept_states is defined in parent class, I can use it here\n",
    "    def S0(self):\n",
    "        current_input = self._FSA__getCurrentInput()\n",
    "        if current_input == ')': next_state = self.S1\n",
    "        else: next_state = self.Serr\n",
    "        return next_state\n",
    "    def S1(self):\n",
    "        current_input = self._FSA__getCurrentInput()\n",
    "        next_state = self.S1 # loop in state S1\n",
    "        return next_state\n",
    "    def Serr(self):\n",
    "        current_input = self._FSA__getCurrentInput()\n",
    "        next_state = self.Serr # loop in state Serr\n",
    "        return next_state"
   ]
  },
  {
   "attachments": {},
   "cell_type": "markdown",
   "metadata": {},
   "source": [
    "*** \n",
    "We've implemented each FSA on the lefthand side of the figure above in their own classes using inheritance. Now we need to figure out how to run each FSA on the same input and collect the outputs. Let's use a _dictionary_ data structure to represent the collection of FSAs. Begin by creating instances of each FSA type.\n"
   ]
  },
  {
   "cell_type": "code",
   "execution_count": 12,
   "metadata": {},
   "outputs": [],
   "source": [
    "right_paren_FSA = RightParen_FSA()   # I'm using my own made up naming convention. It's not very good. Look for better styles.\n",
    "left_paren_FSA = LeftParen_FSA()     # The convention is that classes have capital letters and instances use all lower case. uggh\n",
    "colon_FSA = Colon_FSA()\n",
    "colon_dash_FSA = ColonDash_FSA()"
   ]
  },
  {
   "attachments": {},
   "cell_type": "markdown",
   "metadata": {},
   "source": [
    "The dictionary will be indexed (keyed) by the instances of the FSAs, and the dictionary values will be the return status of each FSA when run on the input. Chat GPT gives a good response to the prompt _how do i create a dictionary with only keys in python_, but something kinda bugs me about Chat GPT: it's using data generated by people who have posted information on the internet but it doesn't attribute credit to them. So, I put the same prompt into google and am using one of the responses from the geeksforgeeks tutorial https://www.geeksforgeeks.org/python-initialize-a-dictionary-with-only-keys-from-a-list/ ."
   ]
  },
  {
   "cell_type": "code",
   "execution_count": 13,
   "metadata": {},
   "outputs": [
    {
     "name": "stdout",
     "output_type": "stream",
     "text": [
      "{<__main__.RightParen_FSA object at 0x10d59f950>: False, <__main__.LeftParen_FSA object at 0x10d59ef90>: False, <__main__.Colon_FSA object at 0x10d59f650>: False, <__main__.ColonDash_FSA object at 0x10d548490>: False}\n"
     ]
    }
   ],
   "source": [
    "FSA_keys = [right_paren_FSA,left_paren_FSA,colon_FSA,colon_dash_FSA]\n",
    "FSADict = dict.fromkeys(FSA_keys, False)  # Initialize the outputs from each FSA to false\n",
    "print(FSADict)"
   ]
  },
  {
   "attachments": {},
   "cell_type": "markdown",
   "metadata": {},
   "source": [
    "I'm taking advantage of something that I like in Python, specifically that methods and instantiated classes are treated as _first-class objects_. Quoting from Chat GPT in response to the prompt _why can we call methods first order elements in python_:\n",
    "\n",
    "    In Python, methods are first-class objects, which means that they can be treated as any other object, such as variables, data types, and functions. This means that we can pass methods as arguments to other functions, return methods from functions, and store methods in data structures like lists and dictionaries.\n",
    "\n",
    "That means that we can use the name of the FSA objects as keys to the dictionary. "
   ]
  }
 ],
 "metadata": {
  "kernelspec": {
   "display_name": "Python 3",
   "language": "python",
   "name": "python3"
  },
  "language_info": {
   "codemirror_mode": {
    "name": "ipython",
    "version": 3
   },
   "file_extension": ".py",
   "mimetype": "text/x-python",
   "name": "python",
   "nbconvert_exporter": "python",
   "pygments_lexer": "ipython3",
   "version": "3.11.2"
  },
  "orig_nbformat": 4
 },
 "nbformat": 4,
 "nbformat_minor": 2
}
