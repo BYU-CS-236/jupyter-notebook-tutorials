{
 "cells": [
  {
   "cell_type": "markdown",
   "metadata": {},
   "source": [
    "### Approaches to finite state machine design in Python\n",
    "\n",
    "CS 236 <br>\n",
    "Fall 2024\n",
    "\n",
    "Michael A. Goodrich <br>\n",
    "Brigham Young University <br>\n",
    "***"
   ]
  },
  {
   "cell_type": "markdown",
   "metadata": {},
   "source": [
    "### A Note About Python Style\n",
    "\n",
    "Please use the python style guide linked on Learning Suite under the _Content -> Style Guide_ tab. Since example code and jupyter notebook tutorials will use the style guide, we review the style elements in this tutorial here.\n",
    "\n",
    " * __Variable types__. The format for specifying a variable and a type is \"name: type = initial_value\" as in:\n",
    " ```\n",
    "        my_integer: int = 0\n",
    "        my string: str = \"hello world\"\n",
    "``` \n",
    "By contrast, the format that doesn't use the style guide is\n",
    "```\n",
    "        my_integer = 0\n",
    "        my_string = \"hello world\"\n",
    "```\n",
    "* __List, sets, dictionaries__. The format for specifyng a list type is \"name: list[type] = initial_value\" as in\n",
    "```\n",
    "        my_integer_list: list[int] = [1,2,3]\n",
    "        my_string_integer_dictionary: dict[str,int] = {\"a\":1, \"b\":2, \"c\":3}\n",
    "        my_string_set: set[str] = set() \n",
    "```\n",
    "By contrast, the format that doesn't use the style guide is\n",
    "```\n",
    "        my_integer_list = [1,2,3]\n",
    "        my_string_integer_dictionary = {\"a\":1, \"b\":2, \"c\":3}\n",
    "        my_string_set = set() \n",
    "```\n",
    "* __Function argument types__. The format for specifying an argument in a function is \"def function_name(argument_name: type)\" as in:\n",
    "```\n",
    "        def my_function(first_argument: str, second_argument: int)\n",
    "```\n",
    "By contrast, the format that doesn't use the style guide is\n",
    "```\n",
    "        def my_function(first_argument, second_argument)\n",
    "```\n",
    "* __Function return values__. The format for specifying the return type is \"def my_function(argument: type) -> return_type:\" as in\n",
    "```\n",
    "        def my_function(first_argument: str, second_argument: int) -> bool:\n",
    "```\n",
    "By contrast, the format that doesn't use the style guide is\n",
    "```\n",
    "        def my_function(first_argument, second_argument):\n",
    "```\n"
   ]
  },
  {
   "cell_type": "markdown",
   "metadata": {},
   "source": [
    "___\n",
    "\n",
    "### What is a Finite State Machine ###\n",
    "\n",
    "The textbook defines a Finite State Machine (FSM) as a tuple (see Def 3 in section 13.3.3). Think of a _tuple_ as an ordered pair with more than two elements. The tuple for an FSA is $(S,I,O,s_0,f,g)$ where \n",
    "* A finite set of states $S$\n",
    "* A set of input characters $I$\n",
    "* A set of output characters $O$\n",
    "* A start state $s_0$\n",
    "* A transition function $f:S\\times I \\rightarrow S$\n",
    "* An output function $g:S\\times I \\rightarrow O$\n",
    "\n",
    "Recall from the reading and the lecture that when a function is defined like $f:S\\times I \\rightarrow S$ the domain of the function is $S\\times I$ and the range of the function is $S$. Saying that the domain is the Cartesian product is $S\\times I$ means that the input to the function is a tuple $(s,i)$ where $s\\in S$ and $i\\in I$. In other words, the transition function $f$ maps a _current state_ and an _input_ into a next state yielding $s_{\\rm next\\_state} = f(s_{\\rm current\\_state},i)$.\n",
    "\n",
    "Similarly, the output function $g:S\\times I\\rightarrow O$ takes maps the tuple of the current state and the input into an output yielding $o = g(s_{\\rm current\\_state},i)$.\n",
    "\n",
    "---\n"
   ]
  },
  {
   "cell_type": "markdown",
   "metadata": {},
   "source": [
    "We often draw FSMs by representing each state $s\\in S$ with a circle, representing the start state by a circle with an arrow pointing toward it, and representing transition functions as arrows connecting one state to another. The labels on the arrow connecting one state to another have two parts: an input $i\\in I$ that causes the FSA to transition from one state to another, and the output $o\\in O$ that is generated during the transition. \n",
    "\n",
    "___\n"
   ]
  },
  {
   "cell_type": "markdown",
   "metadata": {},
   "source": [
    "\n",
    "Consider the following finite state machine. \n",
    "\n",
    "![cow FSA](cow-fsm.png)\n",
    "\n",
    "This FSM reads letters from a string one by one. If it reads the string \"cow\" followed by a new line \"\\n\" then the FSM outputs the number 3. This number represents the number of characters that it has read, minus the new line. It it reads anything else, it outputs the number 0. The greek letter $\\lambda$ is called _lambda_. It is used in the figure to indicate that nothing is output. We read $\\neg$'c' as _any character except 'c'_. And we read the capital $I$ as any character in the set of possible inputs."
   ]
  },
  {
   "cell_type": "markdown",
   "metadata": {},
   "source": [
    "The elements of the FSM tuple for the figure shown above are:\n",
    "* The finite set of states is $S=\\{s_0,s_1,s_2,s_3, s_4,s_{\\rm err}\\}$\n",
    "* The finite set of input characters is $I=\\{$'$a$'$,$ '$b$', '$c$',$\\ldots$, '$y$',  '$z$','\\\\ n'$\\}$\n",
    "* The finite set of output characters is $O=\\{0,1,2,3\\}$\n",
    "* The start state is $s_0$\n",
    "* The transition function $f:S\\times I \\rightarrow S$ are all the states connected by the labeled arrows:\n",
    "\n",
    "| present state | input             | next state |\n",
    "| :-:           | :-:               | :-:        |\n",
    "| $s_0$         | 'c'               | $s_1$      |\n",
    "| $s_0$         | anything but 'c'               | $s_{\\rm err}$      |\n",
    "| $s_1$         | 'o'               | $s_2$      |\n",
    "| $s_1$         | anything but 'o'               | $s_{\\rm err}$      |\n",
    "| $s_2$         | 'w'               | $s_3$      |\n",
    "| $s_2$         | anything but 'w'               | $s_{\\rm err}$      |\n",
    "| $s_3$         | '\\\\n'             | $s_4$      |\n",
    "| $s_3$         | anything but '\\\\n'               | $s_{\\rm err}$      |\n",
    "| $s_4$         | any input from $I$  | $s_4$      |\n",
    "| $s_{err}$     | any input from $I$         | $s_{err}$  |\n",
    "\n",
    "* The output function $g:S\\times I \\rightarrow O$ is represented in the figure as the number after the comma on the arrow labels:\n",
    "\n",
    "| present state | input             | output |\n",
    "| :-:           | :-:               | :-:        |\n",
    "| $s_0$         | 'c'               | nothing (e.g., $\\lambda$)      |\n",
    "| $s_0$         | anything but 'c'               | $0$      |\n",
    "| $s_1$         | 'o'               | nothing (e.g., $\\lambda$)     |\n",
    "| $s_1$         | anything but 'o'               | $0$      |\n",
    "| $s_2$         | 'w'               | nothing (e.g., $\\lambda$)     |\n",
    "| $s_2$         | anything but 'w'               | $0$      |\n",
    "| $s_3$         | '\\\\n'             | $3$     |\n",
    "| $s_3$         | anything but '\\\\n'               | $0$      |\n",
    "| $s_4$         | any input from $I$  | nothing (e.g., $\\lambda$)     |\n",
    "| $s_{err}$     | any input from $I$         | nothing (e.g., $\\lambda$) |\n",
    "\n",
    "There is a reason for outputting 0 or 3 that will be explained later. For now, just think of these outputs as something arbitrary.\n"
   ]
  },
  {
   "cell_type": "markdown",
   "metadata": {},
   "source": [
    "___\n",
    "\n",
    "### How to Implement a FSM in Python -- Approach 1\n",
    "\n",
    "The problem we want to solve in this notebook is \"What is the best way to write Python code that implements a state machine?\" There is no perfect \"best way\", so let's explore. We'll begin with the one that is probably easiest to understand and probably the worst code."
   ]
  },
  {
   "cell_type": "code",
   "execution_count": 36,
   "metadata": {},
   "outputs": [],
   "source": [
    "# Define a function that takes the current state and the current input\n",
    "# and returns the next state and an output.\n",
    "# This function implements the FSM by a sequence of if then else statements\n",
    "# The input set, output set, transition function, and output function\n",
    "# are defined implicitly in the function\n",
    "\n",
    "# This function takes two strings as input and returns information about\n",
    "# what the next state and output are. Both the next state and the output\n",
    "# are returned as strings. The \"def\" keyword tells Python that you are\n",
    "# defining a new function.\n",
    "def finite_state_machine(current_state: str, current_input: str) -> [str,str]:\n",
    "    \n",
    "    # These are the two variables that the function will return\n",
    "    next_state: str\n",
    "    output: str\n",
    "    \n",
    "    # This part implements transitions and outputs from state s0\n",
    "    if current_state == \"s0\":\n",
    "        if current_input == \"c\": \n",
    "            next_state = \"s1\"\n",
    "            output = \"\"\n",
    "        else:\n",
    "            next_state = \"serr\"\n",
    "            output = \"0\"\n",
    "    \n",
    "    # This part implements transitions and outputs from state s1\n",
    "    elif current_state == \"s1\":\n",
    "        if current_input == \"o\":\n",
    "            next_state = \"s2\"\n",
    "            output = \"\"\n",
    "        else:\n",
    "            next_state = \"serr\"\n",
    "            output = \"0\"\n",
    "    \n",
    "    # This part implements transitions and outputs from state s2\n",
    "    elif current_state == \"s2\":\n",
    "        if current_input == \"w\":\n",
    "            next_state = \"s3\"\n",
    "            output = \"\"\n",
    "        else:\n",
    "            next_state = \"serr\"\n",
    "            output = \"0\"\n",
    "    \n",
    "    # This part implements transitions and outputs from state s3\n",
    "    elif current_state == \"s3\":\n",
    "        if current_input == \"\\n\":\n",
    "            next_state = \"s4\"\n",
    "            output = \"3\"\n",
    "        else:\n",
    "            next_state = \"serr\"\n",
    "            output = \"0\"\n",
    "    \n",
    "    # This part implements transitions and outputs from state s3\n",
    "    elif current_state == \"s4\":\n",
    "        next_state = \"s4\"\n",
    "        output = \"\"\n",
    "    \n",
    "    # This part implements transitions and outputs from state serr\n",
    "    else:\n",
    "        next_state = \"serr\"\n",
    "        output = \"\"\n",
    "    return next_state, output"
   ]
  },
  {
   "cell_type": "markdown",
   "metadata": {},
   "source": [
    "Let's define an input string and then trace what happens as we read input characters and run through the state machine."
   ]
  },
  {
   "cell_type": "code",
   "execution_count": 37,
   "metadata": {},
   "outputs": [
    {
     "name": "stdout",
     "output_type": "stream",
     "text": [
      "The start state is s0\n",
      "The current state is s0\n",
      "\tWhen the input is c\n",
      "\tthe next state is s1\n",
      "\tand the output is \n",
      "********************************\n",
      "The current state is s1\n",
      "\tWhen the input is o\n",
      "\tthe next state is s2\n",
      "\tand the output is \n",
      "********************************\n",
      "The current state is s2\n",
      "\tWhen the input is w\n",
      "\tthe next state is s3\n",
      "\tand the output is \n",
      "********************************\n",
      "The current state is s3\n",
      "\tWhen the input is \n",
      "\n",
      "\tthe next state is s4\n",
      "\tand the output is 3\n",
      "********************************\n"
     ]
    }
   ],
   "source": [
    "# Define the input string \n",
    "input_string: str = \"cow\\n\"\n",
    "# Tell the FSM that it should start in state s0\n",
    "start_state: str = \"s0\"\n",
    "print(\"The start state is \" + start_state)\n",
    "\n",
    "# This variable is used to print the output of the FSM\n",
    "output: str\n",
    "# This variable tracks the current_state. The first current state must be the start_state\n",
    "current_state: str = start_state \n",
    "\n",
    "# We'll read one character at a time from the input, beginning at the left.\n",
    "for character in input_string:\n",
    "    print(\"The current state is\", current_state)\n",
    "    print(\"\\tWhen the input is\",character)\n",
    "    # Get the next state and the output from the FSM we defined above\n",
    "    next_state, output = finite_state_machine(current_state, character)\n",
    "    print(\"\\tthe next state is\", next_state)\n",
    "    print(\"\\tand the output is\",output)\n",
    "    # Set the current state to the next state so that we can keep running\n",
    "    current_state = next_state\n",
    "    print(\"********************************\")\n",
    "\n",
    "    "
   ]
  },
  {
   "cell_type": "markdown",
   "metadata": {},
   "source": [
    "You should see that characters from the input string are read one by one. Each time a character is read, we advance to a new state and generate an output. Since the input string is \"cow\\n\", we output a bunch of nothings and then a 3. This 3 represents the number of characters successfully read as we ran a FSM designed to see if the input string was \"cow\".\n",
    "\n",
    "---"
   ]
  },
  {
   "cell_type": "markdown",
   "metadata": {},
   "source": [
    "Let's try it on an input other than \"cow\""
   ]
  },
  {
   "cell_type": "code",
   "execution_count": 24,
   "metadata": {},
   "outputs": [
    {
     "name": "stdout",
     "output_type": "stream",
     "text": [
      "The start state is s0\n",
      "The current state is s0\n",
      "\tWhen the input is p\n",
      "\tthe next state is serr\n",
      "\tand the output is 0\n",
      "********************************\n",
      "The current state is serr\n",
      "\tWhen the input is i\n",
      "\tthe next state is serr\n",
      "\tand the output is \n",
      "********************************\n",
      "The current state is serr\n",
      "\tWhen the input is g\n",
      "\tthe next state is serr\n",
      "\tand the output is \n",
      "********************************\n",
      "The current state is serr\n",
      "\tWhen the input is \n",
      "\n",
      "\tthe next state is serr\n",
      "\tand the output is \n",
      "********************************\n"
     ]
    }
   ],
   "source": [
    "# Define the input string and the start state\n",
    "input_string: str = \"pig\\n\"\n",
    "# Tell the FSM that it should start in state s0\n",
    "start_state: str = \"s0\"\n",
    "print(\"The start state is \" + start_state)\n",
    "\n",
    "# This variable is used to print the output of the FSM\n",
    "output: str\n",
    "# This variable tracks the current_state. The first current state must be the start_state\n",
    "current_state: str = start_state \n",
    "\n",
    "# We'll read one character at a time from the input, beginning at the left.\n",
    "for character in input_string:\n",
    "    print(\"The current state is\", current_state)\n",
    "    print(\"\\tWhen the input is\",character)\n",
    "    # Get the next state and the output from the FSM we defined above\n",
    "    next_state, output = finite_state_machine(current_state, character)\n",
    "    print(\"\\tthe next state is\", next_state)\n",
    "    print(\"\\tand the output is\",output)\n",
    "    # Set the current state to the next state so that we can keep running\n",
    "    current_state = next_state\n",
    "    print(\"********************************\")\n"
   ]
  },
  {
   "cell_type": "markdown",
   "metadata": {},
   "source": [
    "You should see that each input character is read one by one. Each time a character is read, we advance to a new state and generate an output. Since the input string is not \"cow\", we output a 0 and then a bunch of nothings. This 0 represents the number of characters successfully read as we ran a FSM designed to see if the input string was \"cow\".\n",
    "\n",
    "---\n",
    "___"
   ]
  },
  {
   "cell_type": "markdown",
   "metadata": {},
   "source": [
    "### How to Implement a FSM in Python -- Approach 2\n",
    "\n",
    "Implementing a finite state machine as a bunch of if then else statements does not follow good design principles. The code is long, ugly, and very difficult to maintain if even a small change is needed to the finite state machine. For example, a local government entity had a FSM implemented to control one of their web pages. The FSM had been written by a previous employee. It had over a hundred states, written as nested if-then-else statements. None of the new employees dared modify it because they didn't understand what the FSM did. \n",
    "___"
   ]
  },
  {
   "cell_type": "markdown",
   "metadata": {},
   "source": [
    "Let's try a more modular design.\n",
    "\n",
    "In the new design, let's treat the finite state machine as its own class, and then have the states of the FSM be functions in the class. It feels kind of weird to treat a state as a function since the pictures all seem to say that a state is something that we visit as we read inputs. But notice that we can also think of a state as a type of process, one that reads and input, generates an output, and gives the next state. Thinking about states more like a process makes it easier to understand how we might implement them as functions."
   ]
  },
  {
   "cell_type": "code",
   "execution_count": 1,
   "metadata": {},
   "outputs": [],
   "source": [
    "# The \"class\" keyword tells python that you are definining a new class\n",
    "# The format is \"class class_name:\"\n",
    "class cow_fsm:\n",
    "\n",
    "    # This function is called when the class is instantiated. \n",
    "    # Python calls this \"initializer\" function when an object is created from a class.\n",
    "    # In Python, the initializer function is always called \"\"__init__\".\n",
    "    # If you don't define this function, Python makes one up for you, so\n",
    "    # you should always define it yourself so that you don't get surprised.\n",
    "    def __init__(self) -> None:\n",
    "        # List the set of state labels, represented as strings.\n",
    "        self.states: set[str] = {\"s0\", \"s1\", \"s2\", \"s3\", \"s4\", \"serr\"}\n",
    "        \n",
    "        # Choose which of the states is the start state\n",
    "        self.start_state: str = \"s0\"\n",
    "        \n",
    "        # Instead of outputting to the screen, we'll write outputs\n",
    "        # to a class variable, which we'll access with a \"getter\"\n",
    "        self.output: str = \"\"\n",
    "\n",
    "    # This function implements what happens in state s0. \n",
    "    # It appends the output to the class variable \"output\",\n",
    "    # and it returns the name of the next state as a string.\n",
    "    def s0(self, character:str) -> str:\n",
    "        next_state: str\n",
    "        # In state s0, if you read a c output nothing and transition to s1\n",
    "        if character == \"c\":\n",
    "            next_state = \"s1\"\n",
    "            self.output += \"\" # What happens in this line is described below.\n",
    "        else:\n",
    "            next_state = \"serr\"\n",
    "            self.output += \"0\"\n",
    "        return next_state\n",
    "    \n",
    "    # This function implements what happens in state s1. \n",
    "    # It returns the name of the next state as a string.\n",
    "    def s1(self, character:str) -> str:\n",
    "        next_state: str\n",
    "        if character == \"o\":\n",
    "            next_state = \"s2\"\n",
    "            self.output += \"\" # I'm going to concatenate all the outputs together\n",
    "        else:\n",
    "            next_state = \"serr\"\n",
    "            self.output += \"0\"\n",
    "        return next_state\n",
    "    \n",
    "    # This function implements what happens in state s2.  \n",
    "    # It returns the name of the next state as a string.\n",
    "    def s2(self, character:str) -> str:\n",
    "        next_state: str\n",
    "        if character == \"w\":\n",
    "            next_state = \"s3\"\n",
    "            self.output += \"\" # I'm going to concatenate all the outputs together\n",
    "        else:\n",
    "            next_state = \"serr\"\n",
    "            self.output += \"0\"\n",
    "        return next_state\n",
    "    \n",
    "    # This function implements what happens in state s3.  \n",
    "    # It returns the name of the next state as a string.\n",
    "    def s3(self, character:str) -> str:\n",
    "        next_state: str\n",
    "        if character == \"\\n\":\n",
    "            next_state = \"s4\"\n",
    "            self.output += \"3\" # I'm going to concatenate all the outputs together\n",
    "        else:\n",
    "            next_state = \"serr\"\n",
    "            self.output += \"0\"\n",
    "        return next_state\n",
    "    \n",
    "    # This function implements what happens in state s4.  \n",
    "    # It returns the name of the next state as a string.\n",
    "    def s4(self, character:str) -> str:\n",
    "        next_state = \"s4\"\n",
    "        self.output += \"\"\n",
    "        return next_state\n",
    "    \n",
    "    # This function implements what happens in state serr.  \n",
    "    # It returns the name of the next state as a string.\n",
    "    def serr(self, character:str) -> str:\n",
    "        next_state = \"serr\"\n",
    "        self.output += \"\"\n",
    "        return next_state\n",
    "    \n",
    "    # This function is a public \"getter\" function that returns the output\n",
    "    def get_output(self) -> str:\n",
    "        return self.output\n",
    "    \n",
    "    # This function is called to make the FSM run.\n",
    "    def run(self, input_string: str) -> None:\n",
    "        # Set the current state to the start state\n",
    "        current_state = self.start_state\n",
    "        # \"Declare\" the type of the name of the next state \n",
    "        next_state: str\n",
    "        # Run through each character in the input\n",
    "        for character in input_string:\n",
    "            print(\"Current state is \", current_state)\n",
    "            # Check current state name and run corresponding function\n",
    "            if current_state == \"s0\":\n",
    "                next_state = self.s0(character)\n",
    "            elif current_state == \"s1\":\n",
    "                next_state = self.s1(character)\n",
    "            elif current_state == \"s2\":\n",
    "                next_state = self.s2(character)\n",
    "            elif current_state == \"s3\":\n",
    "                next_state = self.s3(character)\n",
    "            elif current_state == \"s4\":\n",
    "                next_state = self.s4(character)\n",
    "            else:\n",
    "                next_state = self.serr(character)\n",
    "            print(\"\\tInput is\",character)\n",
    "            print(\"\\tand next_state is\", next_state)\n",
    "            print(\"***************************\")\n",
    "            \n",
    "            # Once you've run all that needs to be done in the current state\n",
    "            # and figured out the name of the next state, change states\n",
    "            current_state = next_state"
   ]
  },
  {
   "cell_type": "markdown",
   "metadata": {},
   "source": [
    "The code is very similar to the if-the-else structure, but we've \n",
    "captured what happens in each state inside a function. This design\n",
    "is more modular and makes it easier to maintain the code.\n",
    "\n",
    "Notice that the output of the state machine wasn't printed to the screen. \n",
    "Instead, each output was appended to an output variable via the line\n",
    "\n",
    "   - self.output += \"something\"\n",
    "\n",
    "The class lecture made it seem like the output of a FSM was something that \n",
    "was printed to the screen or otherwise \"shared\" with the world. But there's\n",
    "no reason that the output has to be printed to the screen. In the code above,\n",
    "the output is \"printed\" to a the \"self.output\" class member variable.\n",
    "\n",
    "___\n",
    "\n",
    "Let's run see what happens when we run the fsm above on an input."
   ]
  },
  {
   "cell_type": "code",
   "execution_count": 2,
   "metadata": {},
   "outputs": [
    {
     "name": "stdout",
     "output_type": "stream",
     "text": [
      "Current state is  s0\n",
      "\tInput is c\n",
      "\tand next_state is s1\n",
      "***************************\n",
      "Current state is  s1\n",
      "\tInput is o\n",
      "\tand next_state is s2\n",
      "***************************\n",
      "Current state is  s2\n",
      "\tInput is w\n",
      "\tand next_state is s3\n",
      "***************************\n",
      "Current state is  s3\n",
      "\tInput is \n",
      "\n",
      "\tand next_state is s4\n",
      "***************************\n",
      "output is 3\n"
     ]
    }
   ],
   "source": [
    "# This creates an FSM object called \"my_fsm\".\n",
    "my_fsm: cow_fsm =  cow_fsm()\n",
    "\n",
    "# This calls the run function from the FSM object \n",
    "# and tells it that the input is \"cow\\n\"\n",
    "my_fsm.run(\"cow\\n\")\n",
    "\n",
    "# The output of the FSM was \"printed\" to a class member variable.\n",
    "# Get that class member variable and print it out.\n",
    "print(\"output is\",my_fsm.get_output())\n",
    "\n",
    "# This removes the object from memory.\n",
    "del my_fsm"
   ]
  },
  {
   "cell_type": "markdown",
   "metadata": {},
   "source": [
    "The new code, which used an FSM class that defined states as functions,\n",
    "ran just like the previous if-the-else FSM. The only differences were:\n",
    " - The code used the current state to know what function to call\n",
    " - The output went to self.output instead of to the screen\n",
    "\n",
    "Just to confirm, let's run it on another input."
   ]
  },
  {
   "cell_type": "code",
   "execution_count": 27,
   "metadata": {},
   "outputs": [
    {
     "name": "stdout",
     "output_type": "stream",
     "text": [
      "Current state is  s0\n",
      "\tInput is p\n",
      "\tand next_state is serr\n",
      "***************************\n",
      "Current state is  serr\n",
      "\tInput is i\n",
      "\tand next_state is serr\n",
      "***************************\n",
      "Current state is  serr\n",
      "\tInput is g\n",
      "\tand next_state is serr\n",
      "***************************\n",
      "Current state is  serr\n",
      "\tInput is \n",
      "\n",
      "\tand next_state is serr\n",
      "***************************\n",
      "output is 0\n"
     ]
    }
   ],
   "source": [
    "# This creates an FSM object called \"my_fsm\".\n",
    "my_fsm: cow_fsm =  cow_fsm()\n",
    "\n",
    "# This calls the run function from the FSM object \n",
    "# and tells it that the input is \"pig\\n\"\n",
    "my_fsm.run(\"pig\\n\")\n",
    "\n",
    "# The output of the FSM was \"printed\" to a class variable.\n",
    "# Get that class variable and print it out.\n",
    "print(\"output is\",my_fsm.get_output())\n",
    "\n",
    "# This removes the object from memory.\n",
    "del my_fsm"
   ]
  },
  {
   "cell_type": "markdown",
   "metadata": {},
   "source": [
    "The code behaved just like we wanted. \n",
    "When the input wasn't \"cow\", it output a \"0'.\n",
    "___\n",
    "___"
   ]
  },
  {
   "cell_type": "markdown",
   "metadata": {},
   "source": [
    "### What is a Higher Order Function?\n",
    "\n",
    "Python has a neat feature: it treats functions just like variables. Some of you have used these in CS 110 or CS 111. For those who haven't seen these, or as a review for those who have, consider the following example."
   ]
  },
  {
   "cell_type": "code",
   "execution_count": 28,
   "metadata": {},
   "outputs": [],
   "source": [
    "def my_function(my_string:str) -> None:\n",
    "    print(my_string)"
   ]
  },
  {
   "cell_type": "markdown",
   "metadata": {},
   "source": [
    "Let's do two things with the code:\n",
    " - run it\n",
    " - print it\n"
   ]
  },
  {
   "cell_type": "code",
   "execution_count": 29,
   "metadata": {},
   "outputs": [
    {
     "name": "stdout",
     "output_type": "stream",
     "text": [
      "hello world\n"
     ]
    }
   ],
   "source": [
    "# Run it\n",
    "my_function(\"hello world\")"
   ]
  },
  {
   "cell_type": "markdown",
   "metadata": {},
   "source": [
    "Running the code does what we expect. It prints the string we pass to the function.\n",
    "\n",
    "Now, let's print the function."
   ]
  },
  {
   "cell_type": "code",
   "execution_count": 30,
   "metadata": {},
   "outputs": [
    {
     "name": "stdout",
     "output_type": "stream",
     "text": [
      "<function my_function at 0x128b21d00>\n"
     ]
    }
   ],
   "source": [
    "# Print it\n",
    "print(my_function)"
   ]
  },
  {
   "cell_type": "markdown",
   "metadata": {},
   "source": [
    "Printing the code shows something like\n",
    "```\n",
    "    <function my_function at 0x1280ca0c0>\n",
    "```\n",
    "This information about the function itself. Stated simply, \n",
    "the information about the function says that the function\n",
    "is a special kind of object. Just like any other object, it\n",
    "can be created, passed around, and used.\n",
    "\n",
    "So, in Python functions are treated just like any other object. An object has\n",
    " - a type, which is given by _function_ in the output of the print statement\n",
    " - a name, which is given by _my_function_ in the output\n",
    " - a memory location, which is given by _0x128ca0c0_ in the output.\n",
    "\n",
    "Your memory location will be different.\n",
    "\n",
    "Because functions are just like any other object, we can pass them as\n",
    "arguments and return them from other functions.\n",
    "\n",
    "Let's try it."
   ]
  },
  {
   "cell_type": "code",
   "execution_count": 3,
   "metadata": {},
   "outputs": [
    {
     "name": "stdout",
     "output_type": "stream",
     "text": [
      "Inside \"other function\"\n",
      "\t my name\n",
      "Inside \"other function\"\n",
      "\t <function my_function at 0x10461fce0>\n"
     ]
    }
   ],
   "source": [
    "# The following defines two objects: a string and a function\n",
    "my_string: str = \"my name\"\n",
    "def my_function(my_string: str) -> None:\n",
    "    print(\"Inside \\\"my_function\\\"\")\n",
    "    print(my_string)\n",
    "\n",
    "# Define another function\n",
    "def other_function(argument):\n",
    "    print(\"Inside \\\"other function\\\"\")\n",
    "    print(\"\\t\",argument)\n",
    "\n",
    "# Call the other function and pass the objects\n",
    "other_function(my_string)\n",
    "other_function(my_function)"
   ]
  },
  {
   "cell_type": "markdown",
   "metadata": {},
   "source": [
    "I can pass the function just like I passed the string.\n",
    "I can execute the function ..."
   ]
  },
  {
   "cell_type": "code",
   "execution_count": 6,
   "metadata": {},
   "outputs": [
    {
     "name": "stdout",
     "output_type": "stream",
     "text": [
      "Inside \"my_function\"\n",
      "hello world\n"
     ]
    }
   ],
   "source": [
    "my_function(\"hello world\")"
   ]
  },
  {
   "cell_type": "markdown",
   "metadata": {},
   "source": [
    "... but I can't execute the string object"
   ]
  },
  {
   "cell_type": "code",
   "execution_count": 7,
   "metadata": {},
   "outputs": [
    {
     "ename": "TypeError",
     "evalue": "'str' object is not callable",
     "output_type": "error",
     "traceback": [
      "\u001b[0;31m---------------------------------------------------------------------------\u001b[0m",
      "\u001b[0;31mTypeError\u001b[0m                                 Traceback (most recent call last)",
      "\u001b[1;32m/Users/mike/Dropbox/Mac/Documents/Classes/CS 236/Fall 2023/Code with Good Style/jupyter-notebook-tutorials/Finite State Automata/Finite-state-machines-in-Python.ipynb Cell 34\u001b[0m line \u001b[0;36m1\n\u001b[0;32m----> <a href='vscode-notebook-cell:/Users/mike/Dropbox/Mac/Documents/Classes/CS%20236/Fall%202023/Code%20with%20Good%20Style/jupyter-notebook-tutorials/Finite%20State%20Automata/Finite-state-machines-in-Python.ipynb#X60sZmlsZQ%3D%3D?line=0'>1</a>\u001b[0m my_string()\n",
      "\u001b[0;31mTypeError\u001b[0m: 'str' object is not callable"
     ]
    }
   ],
   "source": [
    "my_string()"
   ]
  },
  {
   "cell_type": "markdown",
   "metadata": {},
   "source": [
    "Calling _my_function_ cause the function to execute. \n",
    "Trying to call _my_string_ created an error.\n",
    "\n",
    "When we allow functions to be passed as arguments to other functions\n",
    "or to be returned from other functions, we are using \n",
    "what is called _higher order functions_. We can take advantage of\n",
    "this and make our FSM code more simple."
   ]
  },
  {
   "cell_type": "markdown",
   "metadata": {},
   "source": [
    "___\n",
    "___\n",
    "### How to Implement a FSM in Python -- Approach 3\n",
    "\n",
    "__A more \"Pythonic\" FSM using higher order functions__\n",
    "\n",
    "Let's treat our states as functions like before, but let's\n",
    "omit all the stuff that used strings to identify the function\n",
    "names. After all, if functions are just objects, we should\n",
    "be able to use the information about the function directly\n",
    "without adding the intermediate step of using strings as names."
   ]
  },
  {
   "cell_type": "code",
   "execution_count": 4,
   "metadata": {},
   "outputs": [],
   "source": [
    "# The following allows me to return functions from other functions.\n",
    "from typing import Callable as function\n",
    "\n",
    "# This is the modified FSM definition.\n",
    "class cow_fsm:\n",
    "    # This function is called when the class is instantiated. \n",
    "    def __init__(self) -> None:\n",
    "        ### The old version that used strings \n",
    "        #self.states: set[str] = {\"s0\", \"s1\", \"s2\", \"s3\", \"s4\", \"serr\"}\n",
    "        #self.start_state: str = \"s0\"\n",
    "        #self.output: str = \"\"\n",
    "\n",
    "        ### The new version that directly uses functions\n",
    "        self.states: set[function] = {self.s0, self.s1, self.s2, self.s3, self.s4, self.serr}\n",
    "        self.start_state: function = self.s0\n",
    "        self.output: str = \"\"\n",
    "    \n",
    "    # This function implements what happens in state s0. It returns the next state as a function.\n",
    "    def s0(self, character:str) -> function:\n",
    "        next_state: function\n",
    "        # In state s0, if you read a c output nothing and return the next\n",
    "        # state (which is s1) as the function self.s1\n",
    "        if character == \"c\":\n",
    "            next_state = self.s1  # Old version: return \"s1\"\n",
    "            self.output += \"\" # What happens in this line is described below.\n",
    "        else:\n",
    "            next_state = self.serr # Old version: return \"s1=err\"\n",
    "            self.output += \"0\"\n",
    "        return next_state\n",
    "    \n",
    "    # This function implements what happens in state s1. It returns the next state.\n",
    "    def s1(self, character:str) -> function:\n",
    "        next_state: str\n",
    "        if character == \"o\":\n",
    "            next_state = self.s2 # Old version: return \"s2\"\n",
    "            self.output += \"\" \n",
    "        else:\n",
    "            next_state = self.serr # Old version: return \"serr\"\n",
    "            self.output += \"0\"\n",
    "        return next_state\n",
    "    \n",
    "    # This function implements what happens in state s2. It returns the next state.\n",
    "    def s2(self, character:str) -> function:\n",
    "        next_state: function\n",
    "        if character == \"w\":\n",
    "            next_state = self.s3 # Old version: return \"s3\"\n",
    "            self.output += \"\"\n",
    "        else:\n",
    "            next_state = self.serr # Old version: return \"serr\"\n",
    "            self.output += \"0\"\n",
    "        return next_state\n",
    "    \n",
    "    # This function implements what happens in state s3. It returns the next state.\n",
    "    def s3(self, character:str) -> function:\n",
    "        next_state: function\n",
    "        if character == \"\\n\":\n",
    "            next_state = self.s4 # Old version: return \"s4\"\n",
    "            self.output += \"3\"\n",
    "        else:\n",
    "            next_state = self.serr # Old version: return \"serr\"\n",
    "            self.output += \"0\"\n",
    "        return next_state\n",
    "    \n",
    "    # This function implements what happens in state s4. It returns the next state.\n",
    "    def s4(self, character:str) -> function:\n",
    "        next_state: function = self.s4 # Old version: return \"s4\"\n",
    "        self.output += \"\"\n",
    "        return next_state\n",
    "    \n",
    "    # This function implements what happens in state serr. It returns the next state.\n",
    "    def serr(self, character:str) -> function:\n",
    "        next_state: function = self.serr # Old version: return \"serr\"\n",
    "        self.output += \"\"\n",
    "        return next_state\n",
    "    \n",
    "    # This function is a public getter function that returns the output\n",
    "    def get_output(self) -> str:\n",
    "        return self.output\n",
    "    \n",
    "    # This function is called to make the FSM run.\n",
    "    def run(self, input_string: str) -> None:\n",
    "\n",
    "        # Set the current state to the start state\n",
    "        current_state = self.start_state\n",
    "        \n",
    "        # \"Declare\" the type of the next state variable\n",
    "        next_state: function  # old version next_state: str\n",
    "        \n",
    "        # Run through each character in the input\n",
    "        for character in input_string:\n",
    "            print(\"Current state is \", current_state)\n",
    "\n",
    "            # Check the current state and run the corresponding state function\n",
    "            if current_state == self.s0: # Old version: current_state == \"s0\":\n",
    "                next_state = self.s0(character)\n",
    "            elif current_state == self.s1: # Old version: current_state == \"s1\":\n",
    "                next_state = self.s1(character)\n",
    "            elif current_state == self.s2: # Old version: current_state == \"s2\":\n",
    "                next_state = self.s2(character)\n",
    "            elif current_state == self.s3: # Old version: current_state == \"s3\":\n",
    "                next_state = self.s3(character)\n",
    "            elif current_state == self.s4: # Old version: current_state == \"s4\":\n",
    "                next_state = self.s4(character)\n",
    "            else:\n",
    "                next_state = self.serr(character)\n",
    "            print(\"\\tInput is\",character)\n",
    "            print(\"\\tand next_state is\", next_state)\n",
    "            print(\"***************************\")\n",
    "            \n",
    "            # Once you've run all that needs to be done in the current state\n",
    "            # and figured out the name of the next state, change states\n",
    "            current_state = next_state"
   ]
  },
  {
   "cell_type": "markdown",
   "metadata": {},
   "source": [
    "Let's run it"
   ]
  },
  {
   "cell_type": "code",
   "execution_count": 5,
   "metadata": {},
   "outputs": [
    {
     "name": "stdout",
     "output_type": "stream",
     "text": [
      "Current state is  <bound method cow_fsm.s0 of <__main__.cow_fsm object at 0x104695390>>\n",
      "\tInput is c\n",
      "\tand next_state is <bound method cow_fsm.s1 of <__main__.cow_fsm object at 0x104695390>>\n",
      "***************************\n",
      "Current state is  <bound method cow_fsm.s1 of <__main__.cow_fsm object at 0x104695390>>\n",
      "\tInput is o\n",
      "\tand next_state is <bound method cow_fsm.s2 of <__main__.cow_fsm object at 0x104695390>>\n",
      "***************************\n",
      "Current state is  <bound method cow_fsm.s2 of <__main__.cow_fsm object at 0x104695390>>\n",
      "\tInput is w\n",
      "\tand next_state is <bound method cow_fsm.s3 of <__main__.cow_fsm object at 0x104695390>>\n",
      "***************************\n",
      "Current state is  <bound method cow_fsm.s3 of <__main__.cow_fsm object at 0x104695390>>\n",
      "\tInput is \n",
      "\n",
      "\tand next_state is <bound method cow_fsm.s4 of <__main__.cow_fsm object at 0x104695390>>\n",
      "***************************\n",
      "output is 3\n"
     ]
    }
   ],
   "source": [
    "# This creates an FSM object called \"my_fsm\".\n",
    "my_fsm: cow_fsm =  cow_fsm()\n",
    "\n",
    "# This calls the run function from the FSM object \n",
    "# and tells it that the input is \"cow\\n\"\n",
    "my_fsm.run(\"cow\\n\")\n",
    "\n",
    "# The output of the FSM was \"printed\" to a class variable.\n",
    "# Get that class variable and print it out.\n",
    "print(\"output is\",my_fsm.get_output())\n",
    "\n",
    "# This removes the object from memory.\n",
    "del my_fsm"
   ]
  },
  {
   "cell_type": "markdown",
   "metadata": {},
   "source": [
    "There is more description of the type of the function, probably something\n",
    "like _< bound method ...>_, but that's just another way of saying it's a\n",
    "function, one that belongs to another object. Otherwise, it behaves the same way.\n",
    "\n",
    "___"
   ]
  },
  {
   "cell_type": "markdown",
   "metadata": {},
   "source": [
    "It seems like a waste of time to first check to see what the state\n",
    "returned and then turn around and execute it, which is what the\n",
    "following code does.\n",
    "\n",
    "```\n",
    "    if current_state == self.s0: # Old version: current_state == \"s0\":\n",
    "        next_state = self.s0(character)\n",
    "    current_state = next_state\n",
    "```\n",
    "\n",
    "Let's replace it with something that executes the return state directly.\n",
    "It will look more like\n",
    "\n",
    "```\n",
    "    current_state = current_state(character)\n",
    "```\n",
    "\n",
    "Here's the new code. The only thing that has changed is the run function."
   ]
  },
  {
   "cell_type": "code",
   "execution_count": 8,
   "metadata": {},
   "outputs": [],
   "source": [
    "# The following allows me to specify argumetns and return value\n",
    "# types as functions. In other words, it allows us to follow the\n",
    "# Python style guide.\n",
    "from typing import Callable as function\n",
    "\n",
    "class cow_fsm_final:\n",
    "    # This function is called when the class is instantiated. \n",
    "    # Python calls this \"initializer\" function when an object is created from a class.\n",
    "    def __init__(self) -> None:\n",
    "        self.states: set[function] = {self.s0, self.s1, self.s2, self.s3, self.s4, self.serr}\n",
    "        self.start_state: function = self.s0\n",
    "        self.output: str = \"\"\n",
    "    \n",
    "    # This function implements what happens in state s0. It returns the next state as a function.\n",
    "    def s0(self, character:str) -> function:\n",
    "        next_state: function\n",
    "        # In state s0, if you read a c output nothing and transition to s1\n",
    "        if character == \"c\":\n",
    "            next_state = self.s1  # Old version: return \"s1\"\n",
    "            self.output += \"\" \n",
    "        else:\n",
    "            next_state = self.serr # Old version: return \"s1=err\"\n",
    "            self.output += \"0\"\n",
    "        return next_state\n",
    "    \n",
    "    # This function implements what happens in state s1. It returns the next state.\n",
    "    def s1(self, character:str) -> function:\n",
    "        next_state: str\n",
    "        if character == \"o\":\n",
    "            next_state = self.s2 # Old version: return \"s2\"\n",
    "            self.output += \"\" \n",
    "        else:\n",
    "            next_state = self.serr # Old version: return \"serr\"\n",
    "            self.output += \"0\"\n",
    "        return next_state\n",
    "    \n",
    "    # This function implements what happens in state s2. It returns the next state.\n",
    "    def s2(self, character:str) -> str:\n",
    "        next_state: str\n",
    "        if character == \"w\":\n",
    "            next_state = self.s3 # Old version: return \"s3\"\n",
    "            self.output += \"\" # I'm going to concatenate all the outputs together\n",
    "        else:\n",
    "            next_state = self.serr # Old version: return \"serr\"\n",
    "            self.output += \"0\"\n",
    "        return next_state\n",
    "    \n",
    "    # This function implements what happens in state s3. It returns the next state.\n",
    "    def s3(self, character:str) -> str:\n",
    "        next_state: str\n",
    "        if character == \"\\n\":\n",
    "            next_state = self.s4 # Old version: return \"s4\"\n",
    "            self.output += \"3\" # I'm going to concatenate all the outputs together\n",
    "        else:\n",
    "            next_state = self.serr # Old version: return \"serr\"\n",
    "            self.output += \"0\"\n",
    "        return next_state\n",
    "    \n",
    "    # This function implements what happens in state s4. It returns the next state.\n",
    "    def s4(self, character:str) -> str:\n",
    "        next_state = self.s4 # Old version: return \"s4\"\n",
    "        self.output += \"\"\n",
    "        return next_state\n",
    "    \n",
    "    # This function implements what happens in state serr. It returns the next state.\n",
    "    def serr(self, character:str) -> str:\n",
    "        next_state = self.serr # Old version: return \"serr\"\n",
    "        self.output += \"\"\n",
    "        return next_state\n",
    "    \n",
    "    # This function is a public function that returns the output\n",
    "    def get_output(self) -> str:\n",
    "        return self.output\n",
    "    \n",
    "    # This function is called to make the FSM run.\n",
    "    def run(self, input_string: str) -> None:\n",
    "        # Set the current state to the start state\n",
    "        current_state = self.start_state\n",
    "        for character in input_string:\n",
    "            print(\"Current state is \", current_state)\n",
    "            current_state = current_state(character)\n",
    "            print(\"\\tInput is\",character)\n",
    "            print(\"\\tand next_state is\", current_state)\n",
    "            print(\"***************************\")"
   ]
  },
  {
   "cell_type": "markdown",
   "metadata": {},
   "source": [
    "Let's run it"
   ]
  },
  {
   "cell_type": "code",
   "execution_count": 10,
   "metadata": {},
   "outputs": [
    {
     "name": "stdout",
     "output_type": "stream",
     "text": [
      "Current state is  <bound method cow_fsm_final.s0 of <__main__.cow_fsm_final object at 0x104589a10>>\n",
      "\tInput is c\n",
      "\tand next_state is <bound method cow_fsm_final.s1 of <__main__.cow_fsm_final object at 0x104589a10>>\n",
      "***************************\n",
      "Current state is  <bound method cow_fsm_final.s1 of <__main__.cow_fsm_final object at 0x104589a10>>\n",
      "\tInput is o\n",
      "\tand next_state is <bound method cow_fsm_final.s2 of <__main__.cow_fsm_final object at 0x104589a10>>\n",
      "***************************\n",
      "Current state is  <bound method cow_fsm_final.s2 of <__main__.cow_fsm_final object at 0x104589a10>>\n",
      "\tInput is w\n",
      "\tand next_state is <bound method cow_fsm_final.s3 of <__main__.cow_fsm_final object at 0x104589a10>>\n",
      "***************************\n",
      "Current state is  <bound method cow_fsm_final.s3 of <__main__.cow_fsm_final object at 0x104589a10>>\n",
      "\tInput is \n",
      "\n",
      "\tand next_state is <bound method cow_fsm_final.s4 of <__main__.cow_fsm_final object at 0x104589a10>>\n",
      "***************************\n",
      "output is 3\n"
     ]
    }
   ],
   "source": [
    "# This creates an FSM object called \"my_fsm\".\n",
    "my_fsm: cow_fsm_final =  cow_fsm_final()\n",
    "\n",
    "# This calls the run function from the FSM object \n",
    "# and tells it that the input is \"cow\\n\"\n",
    "my_fsm.run(\"cow\\n\")\n",
    "\n",
    "# The output of the FSM was \"printed\" to a class variable.\n",
    "# Get that class variable and print it out.\n",
    "print(\"output is\",my_fsm.get_output())\n",
    "\n",
    "# This removes the object from memory.\n",
    "del my_fsm"
   ]
  },
  {
   "cell_type": "markdown",
   "metadata": {},
   "source": [
    "___\n",
    "\n",
    "For the homework, you'll implement the following FSM by completing the code below.\n",
    "\n",
    "![ox FSA](ox_fsm.png)"
   ]
  },
  {
   "cell_type": "code",
   "execution_count": null,
   "metadata": {},
   "outputs": [],
   "source": [
    "from typing import Callable as function\n",
    "\n",
    "# The following code is not complete. \n",
    "class ox_fsm:\n",
    "    def __init__(self) -> None:\n",
    "        self.states: set[function] = {self.s0,self.serr} # Complete this\n",
    "        self.start_state: function = self.s0\n",
    "        self.output: str = \"\"\n",
    "    \n",
    "    # This function implements what happens in state s0. It returns the next state as a function.\n",
    "    def s0(self, character:str) -> function:\n",
    "        next_state: function\n",
    "        # In state s0, if you read a c output nothing and transition to s1\n",
    "        if character == \"??\": # TODO: Fix this\n",
    "            next_state = self.serr # TODO: Fix this \n",
    "            self.output += \"\" \n",
    "        else:\n",
    "            next_state = self.serr\n",
    "            self.output += \"0\"\n",
    "        return next_state\n",
    "    \n",
    "    # TODO: Add whatever other states you need here\n",
    "    \n",
    "    # This function implements what happens in state serr. It returns the next state.\n",
    "    def serr(self, character:str) -> str:\n",
    "        next_state = self.serr # Old version: return \"serr\"\n",
    "        self.output += \"\"\n",
    "        return next_state\n",
    "    \n",
    "    # This function is a public function that returns the output\n",
    "    def get_output(self) -> str:\n",
    "        return self.output\n",
    "    \n",
    "    # This function is called to make the FSM run.\n",
    "    def run(self, input_string: str) -> None:\n",
    "        # Set the current state to the start state\n",
    "        current_state = self.start_state\n",
    "        for character in input_string:\n",
    "            print(\"Current state is \", current_state)\n",
    "            current_state = current_state(character)\n",
    "            print(\"\\tInput is\",character)\n",
    "            print(\"\\tand next_state is\", current_state)\n",
    "            print(\"***************************\")"
   ]
  }
 ],
 "metadata": {
  "kernelspec": {
   "display_name": "Python 3",
   "language": "python",
   "name": "python3"
  },
  "language_info": {
   "codemirror_mode": {
    "name": "ipython",
    "version": 3
   },
   "file_extension": ".py",
   "mimetype": "text/x-python",
   "name": "python",
   "nbconvert_exporter": "python",
   "pygments_lexer": "ipython3",
   "version": "3.11.2"
  }
 },
 "nbformat": 4,
 "nbformat_minor": 2
}
