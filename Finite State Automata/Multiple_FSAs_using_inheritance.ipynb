{
 "cells": [
  {
   "attachments": {},
   "cell_type": "markdown",
   "metadata": {},
   "source": [
    "### Designing multiple finite state automata using inheritance in Python\n",
    "\n",
    "CS 236 <br>\n",
    "Fall 2023\n",
    "\n",
    "Michael A. Goodrich <br>\n",
    "Brigham Young University <br>\n",
    "Fall 2023\n",
    "***"
   ]
  },
  {
   "attachments": {},
   "cell_type": "markdown",
   "metadata": {},
   "source": [
    "Project 1 requires you to create a set of FSAs, one for each legal token type allowed in the _Datalog_ database language. Here are the first several token types from the project.\n",
    "\n",
    "| Token Type    | Description           |  \n",
    "| :--           | :--                   |  \n",
    "| COMMA         | The ',' character     |\n",
    "| PERIOD        | The '.' character     |\n",
    "| Q_MARK        | The '?' character     |\n",
    "| LEFT_PAREN    | The '(' character     |\n",
    "| RIGHT_PAREN   | The ')' character     |\n",
    "| COLON         | The ':' character     |\n",
    "| COLON-DASH    | The string \":-\"       |\n",
    "\n",
    "Since we have to build a lot of FSAs, we'll use good software engineering practice and use inheritance.\n",
    "\n",
    "***"
   ]
  },
  {
   "attachments": {},
   "cell_type": "markdown",
   "metadata": {},
   "source": [
    "We'll use the inheritance pattern from \n",
    "\n",
    "https://www.geeksforgeeks.org/inheritance-in-python/\n",
    "\n",
    "which says the following:\n",
    "\n",
    "\"If you forget to invoke the __init__() of the parent class then its instance variables would not be available to the child [derived] class.\" \n",
    "\n",
    "The error produced by the inheritance patter will look like:\n",
    "\n",
    "    Traceback (most recent call last):\n",
    "    File \"myfile.py\", line 12, in \n",
    "        function_name\n",
    "    AttributeError: 'Derived_class' object has no attribute 'function_name'\n",
    "\n"
   ]
  },
  {
   "attachments": {},
   "cell_type": "markdown",
   "metadata": {},
   "source": [
    "***\n",
    "Let's approach this by copying the essential pieces of the FSA class from the _FSA_code_example_ notebook. Observe the following differences from the _FSA_code_example_ notebook:\n",
    "\n",
    " * I called the base class simply __FSA__ rather than __colonDash_FSA__\n",
    " * I passed the name of the FSA in as an argument to the constructor\n",
    " * The constructor leaves the set of accept states undefined.\n",
    " * The constructor also leaves the FSA name empty\n",
    " * The starting state is S0, but the body of the S0 function only raises an error.\n",
    " * No functions are defined for any other state.\n",
    " \n",
    "I also removed the part of the function that tracked history since we won't use it in this tutorial.\n",
    "\n",
    "Go ahead and execute the code below. That will define the base class, and we can \"inherit from it\" in later parts of the tutorial."
   ]
  },
  {
   "cell_type": "code",
   "execution_count": 17,
   "metadata": {},
   "outputs": [],
   "source": [
    "from typing import Callable as function\n",
    "class FSA:\n",
    "    \"\"\" FSA Base or Super class\"\"\"\n",
    "    def __init__(self, name: str) -> None:\n",
    "        \"\"\"Class constructor\"\"\"\n",
    "        ###############################################################\n",
    "        # Define the five elements of the FSA\n",
    "        ###############################################################\n",
    "        # Set of states: Each state S0, S1, S2, Serr will be represented by its own function\n",
    "        # Set of inputs: I is the set of alphanumeric characters, checked by isalnum()\n",
    "        self.start_state: function = self.s0  # We'll always have the start state named S0\n",
    "        self.accept_states: set[function] = set()  # No accept states defined\n",
    "        \n",
    "        ###############################################################\n",
    "        # Define four variables that are used within the FSA, some\n",
    "        # to make the FSA run and some that help us understand how \n",
    "        # the FSA works\n",
    "        ###############################################################\n",
    "        self.input_string: str = \"\"  # Default empty input\n",
    "        self.fsa_name: str = name\n",
    "        self.num_chars_read: int = 0\n",
    "\n",
    "    #########################################################\n",
    "    # Define each state as a function                       #\n",
    "    # Within each function, define the transition function. #\n",
    "    # Each transition function reads the current input and  #\n",
    "    # choose the next state based on the input              #\n",
    "    #########################################################\n",
    "    def s0(self) -> None:\n",
    "        \"\"\"Every FSA must have a start state, and we'll always name \n",
    "        it S0. The function for the start state must be defined in the\n",
    "        derived class since it's not defined here.\"\"\"\n",
    "        raise NotImplementedError()  # This line causes an error to \n",
    "                                    # occur if the child classes don't implement this function\n",
    "\n",
    "    ############################\n",
    "    # Public Manager Functions\n",
    "    ############################\n",
    "    def run(self, input_string: str) -> bool:\n",
    "        ###############################################################\n",
    "        # This function will be called to make the FSA execute\n",
    "        # It records the input string,\n",
    "        # sets the current state to the start state\n",
    "        # and then calls a state function that returns the next state\n",
    "        # Each state function accesses the input_string\n",
    "        ###############################################################\n",
    "        # Remember input_string\n",
    "        self.input_string = input_string\n",
    "        # Set current state to start state\n",
    "        current_state: function = self.start_state\n",
    "        # Call current state, which starts the FSA\n",
    "        while self.num_chars_read < len(self.input_string):\n",
    "            current_state = current_state()\n",
    "        # Check whether the FSA ended in an accept state\n",
    "        outcome: bool = False\n",
    "        if current_state in self.accept_states:\n",
    "            outcome = True  # Accept if the FSA ended in an accept state\n",
    "        return outcome\n",
    "\n",
    "    def reset(self) -> None:\n",
    "        self.num_chars_read = 0\n",
    "        self.history = []\n",
    "\n",
    "    ############################\n",
    "    # Public Getters and Setters\n",
    "    ############################\n",
    "    def get_name(self) -> str:\n",
    "        return self.fsa_name\n",
    "\n",
    "    def set_name(self, fsa_name: str) -> None:\n",
    "        self.fsa_name = fsa_name\n",
    "\n",
    "    ############################\n",
    "    # Private Helper functions\n",
    "    ############################\n",
    "    def __get_current_input(self) -> str:\n",
    "        current_input: str = self.input_string[self.num_chars_read]\n",
    "        self.num_chars_read += 1\n",
    "        return current_input\n",
    "\n"
   ]
  },
  {
   "attachments": {},
   "cell_type": "markdown",
   "metadata": {},
   "source": [
    "***\n",
    "We can create a derived (or child) class from the FSA base class by doing three things. First, we include the name of the base class inside the parentheses of the derived class:\n",
    "\n",
    "        class derived_class(base_class):\n",
    "\n",
    "Second, we invoke the constructor of the base class from within the constructor of the derived class, which must be done or bad stuff happens:\n",
    "\n",
    "        def __init__(self,name):\n",
    "                base_class.__init__(self,name)\n",
    "                # Rest of constructor\n",
    "\n",
    "Third, you must define a function in the child_class for each unimplemented function in the parent_class. In our case, the unimplemented function in the parent class is __S0__.\n",
    "\n",
    "Once these three things are done, you can add whatever other functions you want to the derived_class. I'll add the states that make the derived_class perform like the colonDash_FSA from the _FSA_code_example_ Jupyter notebook.\n",
    "\n",
    "***\n",
    "The code example that follows calls the constructor, which calls the construct of the base_class and defines an accept state. The code then defines the functions for each state in the colonDash finite state automaton. I just copied these functions straight from the _FSA_code_example_ Jupyter notebook (except I dropped the history tracking that we used to construct the trace)."
   ]
  },
  {
   "cell_type": "code",
   "execution_count": 18,
   "metadata": {},
   "outputs": [],
   "source": [
    "class ColonDashFSA(FSA):\n",
    "    def __init__(self):\n",
    "        FSA.__init__(self,\"ColonDashFSA\") # You must invoke the __init__ of the parent class\n",
    "        self.accept_states.add(self.s2) # Since self.accept_states is defined in parent class, I can use it here\n",
    "    \n",
    "    def s0(self):\n",
    "        current_input: str = self.__get_current_input()\n",
    "        next_state: function = None\n",
    "        if current_input == ':':\n",
    "            next_state: function = self.s1\n",
    "        else:\n",
    "            next_state: function = self.s_err\n",
    "        return next_state\n",
    "\n",
    "    def s1(self):\n",
    "        current_input: str = self.__get_current_input()\n",
    "        next_state: function = None\n",
    "        if current_input == '-':\n",
    "            next_state: function = self.s2\n",
    "        else:\n",
    "            next_state: function = self.s_err\n",
    "        return next_state\n",
    "\n",
    "    def s2(self):\n",
    "        current_input: str = self.__get_current_input()\n",
    "        next_state: function = self.s2  # loop in state s2\n",
    "        return next_state\n",
    "\n",
    "    def s_err(self):\n",
    "        current_input: str = self.__get_current_input()\n",
    "        next_state: function = self.serr  # loop in state serr\n",
    "        return next_state\n",
    "    "
   ]
  },
  {
   "attachments": {},
   "cell_type": "markdown",
   "metadata": {},
   "source": [
    "I love how clean this code is. Let's run it and see if it works."
   ]
  },
  {
   "cell_type": "code",
   "execution_count": 19,
   "metadata": {},
   "outputs": [
    {
     "ename": "AttributeError",
     "evalue": "'ColonDashFSA' object has no attribute '_ColonDashFSA__get_current_input'",
     "output_type": "error",
     "traceback": [
      "\u001b[0;31m---------------------------------------------------------------------------\u001b[0m",
      "\u001b[0;31mAttributeError\u001b[0m                            Traceback (most recent call last)",
      "Cell \u001b[0;32mIn[19], line 3\u001b[0m\n\u001b[1;32m      1\u001b[0m my_fsa: ColonDashFSA \u001b[38;5;241m=\u001b[39m ColonDashFSA()\n\u001b[1;32m      2\u001b[0m input_string: \u001b[38;5;28mstr\u001b[39m \u001b[38;5;241m=\u001b[39m \u001b[38;5;124m\"\u001b[39m\u001b[38;5;124m:-\u001b[39m\u001b[38;5;124m\"\u001b[39m\n\u001b[0;32m----> 3\u001b[0m accept_status: \u001b[38;5;28mbool\u001b[39m \u001b[38;5;241m=\u001b[39m \u001b[43mmy_fsa\u001b[49m\u001b[38;5;241;43m.\u001b[39;49m\u001b[43mrun\u001b[49m\u001b[43m(\u001b[49m\u001b[43minput_string\u001b[49m\u001b[43m)\u001b[49m\n\u001b[1;32m      4\u001b[0m \u001b[38;5;28;01mif\u001b[39;00m accept_status: \u001b[38;5;28mprint\u001b[39m(\u001b[38;5;124m\"\u001b[39m\u001b[38;5;124mThe \u001b[39m\u001b[38;5;124m\"\u001b[39m, my_fsa\u001b[38;5;241m.\u001b[39mget_name(), \u001b[38;5;124m\"\u001b[39m\u001b[38;5;124mFSA accepted the input string \u001b[39m\u001b[38;5;124m'\u001b[39m\u001b[38;5;124m\"\u001b[39m, input_string, \u001b[38;5;124m\"\u001b[39m\u001b[38;5;124m'\u001b[39m\u001b[38;5;124m\"\u001b[39m)\n\u001b[1;32m      5\u001b[0m \u001b[38;5;28;01melse\u001b[39;00m: \u001b[38;5;28mprint\u001b[39m(\u001b[38;5;124m\"\u001b[39m\u001b[38;5;124mThe \u001b[39m\u001b[38;5;124m\"\u001b[39m, my_fsa\u001b[38;5;241m.\u001b[39mget_name(), \u001b[38;5;124m\"\u001b[39m\u001b[38;5;124mFSA did not accept the input string \u001b[39m\u001b[38;5;124m'\u001b[39m\u001b[38;5;124m\"\u001b[39m, input_string, \u001b[38;5;124m\"\u001b[39m\u001b[38;5;124m'\u001b[39m\u001b[38;5;124m\"\u001b[39m)\n",
      "Cell \u001b[0;32mIn[17], line 53\u001b[0m, in \u001b[0;36mFSA.run\u001b[0;34m(self, input_string)\u001b[0m\n\u001b[1;32m     51\u001b[0m \u001b[38;5;66;03m# Call current state, which starts the FSA\u001b[39;00m\n\u001b[1;32m     52\u001b[0m \u001b[38;5;28;01mwhile\u001b[39;00m \u001b[38;5;28mself\u001b[39m\u001b[38;5;241m.\u001b[39mnum_chars_read \u001b[38;5;241m<\u001b[39m \u001b[38;5;28mlen\u001b[39m(\u001b[38;5;28mself\u001b[39m\u001b[38;5;241m.\u001b[39minput_string):\n\u001b[0;32m---> 53\u001b[0m     current_state \u001b[38;5;241m=\u001b[39m \u001b[43mcurrent_state\u001b[49m\u001b[43m(\u001b[49m\u001b[43m)\u001b[49m\n\u001b[1;32m     54\u001b[0m \u001b[38;5;66;03m# Check whether the FSA ended in an accept state\u001b[39;00m\n\u001b[1;32m     55\u001b[0m outcome: \u001b[38;5;28mbool\u001b[39m \u001b[38;5;241m=\u001b[39m \u001b[38;5;28;01mFalse\u001b[39;00m\n",
      "Cell \u001b[0;32mIn[18], line 7\u001b[0m, in \u001b[0;36mColonDashFSA.s0\u001b[0;34m(self)\u001b[0m\n\u001b[1;32m      6\u001b[0m \u001b[38;5;28;01mdef\u001b[39;00m \u001b[38;5;21ms0\u001b[39m(\u001b[38;5;28mself\u001b[39m):\n\u001b[0;32m----> 7\u001b[0m     current_input: \u001b[38;5;28mstr\u001b[39m \u001b[38;5;241m=\u001b[39m \u001b[38;5;28;43mself\u001b[39;49m\u001b[38;5;241;43m.\u001b[39;49m\u001b[43m__get_current_input\u001b[49m()\n\u001b[1;32m      8\u001b[0m     next_state: function \u001b[38;5;241m=\u001b[39m \u001b[38;5;28;01mNone\u001b[39;00m\n\u001b[1;32m      9\u001b[0m     \u001b[38;5;28;01mif\u001b[39;00m current_input \u001b[38;5;241m==\u001b[39m \u001b[38;5;124m'\u001b[39m\u001b[38;5;124m:\u001b[39m\u001b[38;5;124m'\u001b[39m:\n",
      "\u001b[0;31mAttributeError\u001b[0m: 'ColonDashFSA' object has no attribute '_ColonDashFSA__get_current_input'"
     ]
    }
   ],
   "source": [
    "my_fsa: ColonDashFSA = ColonDashFSA()\n",
    "input_string: str = \":-\"\n",
    "accept_status: bool = my_fsa.run(input_string)\n",
    "if accept_status: print(\"The \", my_fsa.get_name(), \"FSA accepted the input string '\", input_string, \"'\")\n",
    "else: print(\"The \", my_fsa.get_name(), \"FSA did not accept the input string '\", input_string, \"'\")\n"
   ]
  },
  {
   "attachments": {},
   "cell_type": "markdown",
   "metadata": {},
   "source": [
    "It failed! It took me a while to figure out why. Since I believe that using Chat GPT-like tools will be an important skill in programming, it makes sense to me that we learn to use it as a tool in a way that helps you learn and helps you program faster. \n",
    "\n",
    "Here's what Chat GPT said when I typed in the prompt _Explain this python error to me_ and then copied the error above.\n",
    "\n",
    "    This error message is indicating that there is an attribute error occurring in the Python code. Specifically, it is telling us that the 'colonDash_FSA' object does not have the attribute '__getCurrentInput', which is being called in the 'S0' function on line 7 of the 'colonDash_FSA' class.\n",
    "\n",
    "    This error message suggests that there may be an issue with the implementation of the 'colonDash_FSA' class. One possibility is that the '__getCurrentInput' function has not been properly defined within the class or that it is a private function and is being called incorrectly. Another possibility is that there may be a typo or other error in the code that is causing the attribute to not be found.\n",
    "\n",
    "    To resolve this error, you should check the implementation of the 'colonDash_FSA' class and ensure that the '__getCurrentInput' function is properly defined and accessible to the 'S0' function. You should also check for any typos or other errors in the code that could be causing the issue.\n",
    "***"
   ]
  },
  {
   "attachments": {},
   "cell_type": "markdown",
   "metadata": {},
   "source": [
    "That explanation helped a bit because it allowed me to focus on one property that I try to follow in my programming style: keep private functions private. \n",
    "\n",
    "The problem is that the __getCurrentInput function in the base_class is __private__. (In Python, private functions are preceded by a double underscore.) Since the function is private in the base_class we can't access it in the derived_class. \n",
    "\n",
    "A solution is described here: \n",
    "https://stackoverflow.com/questions/20261517/inheritance-of-private-and-protected-functions-in-python\n",
    "\n",
    "Let's redefine the derived_class. Observe how every call to \n",
    "\n",
    "    self.__getCurrentInput()\n",
    "\n",
    "is replaced by \n",
    "\n",
    "    self._FSA__getCurrentInput()\n",
    "\n",
    "since FSA is the base_class. Notice that there is only a single underscore between self. and the name of the parent_class.\n",
    "\n",
    "I also found Chat GPT's response to the following prompt helpful: _how do i inherit a private function from a base class in python?_ A problem to its response is that python doesn't have protected functions either. See https://stackoverflow.com/questions/11483366/protected-function-in-python"
   ]
  },
  {
   "cell_type": "code",
   "execution_count": 25,
   "metadata": {},
   "outputs": [],
   "source": [
    "class ColonDashFSA(FSA):\n",
    "    def __init__(self):\n",
    "        FSA.__init__(self,\"ColonDashFSA\") # You must invoke the __init__ of the parent class\n",
    "        self.accept_states.add(self.s2) # Since self.accept_states is defined in parent class, I can use it here\n",
    "    \n",
    "    def s0(self):\n",
    "        current_input: str = self._FSA__get_current_input()\n",
    "        next_state: function = None\n",
    "        if current_input == ':':\n",
    "            next_state: function = self.s1\n",
    "        else:\n",
    "            next_state: function = self.s_err\n",
    "        return next_state\n",
    "\n",
    "    def s1(self):\n",
    "        current_input: str = self._FSA__get_current_input()\n",
    "        next_state: function = None\n",
    "        if current_input == '-':\n",
    "            next_state: function = self.s2\n",
    "        else:\n",
    "            next_state: function = self.s_err\n",
    "        return next_state\n",
    "\n",
    "    def s2(self):\n",
    "        current_input: str = self._FSA__get_current_input()\n",
    "        next_state: function = self.s2  # loop in state s2\n",
    "        return next_state\n",
    "\n",
    "    def s_err(self):\n",
    "        current_input: str = self._FSA__get_current_input()\n",
    "        next_state: function = self.s_err  # loop in state serr\n",
    "        return next_state"
   ]
  },
  {
   "attachments": {},
   "cell_type": "markdown",
   "metadata": {},
   "source": [
    "Let's run it and see if that works"
   ]
  },
  {
   "cell_type": "code",
   "execution_count": 21,
   "metadata": {},
   "outputs": [
    {
     "name": "stdout",
     "output_type": "stream",
     "text": [
      "The  ColonDashFSA FSA accepted the input string ' :- '\n"
     ]
    }
   ],
   "source": [
    "my_fsa: ColonDashFSA = ColonDashFSA()\n",
    "input_string: str = \":-\"\n",
    "accept_status: bool = my_fsa.run(input_string)\n",
    "if accept_status: print(\"The \", my_fsa.get_name(), \"FSA accepted the input string '\", input_string, \"'\")\n",
    "else: print(\"The \", my_fsa.get_name(), \"FSA did not accept the input string '\", input_string, \"'\")\n"
   ]
  },
  {
   "attachments": {},
   "cell_type": "markdown",
   "metadata": {},
   "source": [
    "***\n",
    "Since that worked, let's define a second FSA, one that accepts any string that starts with \":\""
   ]
  },
  {
   "cell_type": "code",
   "execution_count": 26,
   "metadata": {},
   "outputs": [],
   "source": [
    "class ColonFSA(FSA):\n",
    "    def __init__(self):\n",
    "        FSA.__init__(self,\"ColonFSA\") # You must invoke the __init__ of the parent class\n",
    "        self.accept_states.add(self.s1) # Since self.accept_states is defined in parent class, I can use it here\n",
    "    \n",
    "    def s0(self):\n",
    "        current_input: str = self._FSA__get_current_input()\n",
    "        next_state: function = None\n",
    "        if current_input == ':':\n",
    "            next_state: function = self.s1\n",
    "        else:\n",
    "            next_state: function = self.s_err\n",
    "        return next_state\n",
    "\n",
    "    def s1(self):\n",
    "        current_input: str = self._FSA__get_current_input()\n",
    "        next_state: function = self.s1  # loop in state s1\n",
    "        return next_state\n",
    "\n",
    "    def s_err(self):\n",
    "        current_input: str = self._FSA__get_current_input()\n",
    "        next_state: function = self.s_err  # loop in state serr\n",
    "        return next_state"
   ]
  },
  {
   "attachments": {},
   "cell_type": "markdown",
   "metadata": {},
   "source": [
    "... and run both it and the colon-dash FSA ..."
   ]
  },
  {
   "cell_type": "code",
   "execution_count": 28,
   "metadata": {},
   "outputs": [
    {
     "name": "stdout",
     "output_type": "stream",
     "text": [
      "The  ColonDashFSA FSA did not accept the input string ' :ab '\n",
      "The  ColonFSA FSA accepted the input string ' :ab '\n"
     ]
    }
   ],
   "source": [
    "my_colon_dash_fsa: ColonDashFSA = ColonDashFSA()\n",
    "my_colon_fsa: ColonFSA = ColonFSA()\n",
    "input_string: str = \":ab\"\n",
    "accept_status_1: bool = my_colon_dash_fsa.run(input_string)\n",
    "accept_status_2: bool = my_colon_fsa.run(input_string)\n",
    "if accept_status_1: print(\"The \", my_colon_dash_fsa.get_name(), \"FSA accepted the input string '\",input_string,\"'\")\n",
    "else: print(\"The \", my_colon_dash_fsa.get_name(), \"FSA did not accept the input string '\",input_string,\"'\")\n",
    "if accept_status_2: print(\"The \", my_colon_fsa.get_name(), \"FSA accepted the input string '\",input_string,\"'\")\n",
    "else: print(\"The \", my_colon_fsa.get_name(), \"FSA did not accept the input string '\",input_string,\"'\")\n"
   ]
  },
  {
   "attachments": {},
   "cell_type": "markdown",
   "metadata": {},
   "source": [
    "... and one more time to see what happens on input strings that begin with \":-\""
   ]
  },
  {
   "cell_type": "code",
   "execution_count": 30,
   "metadata": {},
   "outputs": [
    {
     "name": "stdout",
     "output_type": "stream",
     "text": [
      "The  ColonDashFSA FSA accepted the input string ' :-ab '\n",
      "The  ColonFSA FSA accepted the input string ' :-ab '\n"
     ]
    }
   ],
   "source": [
    "my_colon_dash_fsa.reset()\n",
    "my_colon_fsa.reset()\n",
    "input_string: str = \":-ab\"\n",
    "accept_status_1: bool = my_colon_dash_fsa.run(input_string)\n",
    "accept_status_2: bool = my_colon_fsa.run(input_string)\n",
    "if accept_status_1: print(\"The \", my_colon_dash_fsa.get_name(), \"FSA accepted the input string '\",input_string,\"'\")\n",
    "else: print(\"The \", my_colon_dash_fsa.get_name(), \"FSA did not accept the input string '\",input_string,\"'\")\n",
    "if accept_status_2: print(\"The \", my_colon_fsa.get_name(), \"FSA accepted the input string '\",input_string,\"'\")\n",
    "else: print(\"The \", my_colon_fsa.get_name(), \"FSA did not accept the input string '\",input_string,\"'\")\n"
   ]
  }
 ],
 "metadata": {
  "kernelspec": {
   "display_name": "Python 3.11.3 64-bit",
   "language": "python",
   "name": "python3"
  },
  "language_info": {
   "codemirror_mode": {
    "name": "ipython",
    "version": 3
   },
   "file_extension": ".py",
   "mimetype": "text/x-python",
   "name": "python",
   "nbconvert_exporter": "python",
   "pygments_lexer": "ipython3",
   "version": "3.11.3"
  },
  "orig_nbformat": 4,
  "vscode": {
   "interpreter": {
    "hash": "aee8b7b246df8f9039afb4144a1f6fd8d2ca17a180786b69acc140d282b71a49"
   }
  }
 },
 "nbformat": 4,
 "nbformat_minor": 2
}
