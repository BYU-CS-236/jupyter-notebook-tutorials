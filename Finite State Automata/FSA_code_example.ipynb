{
 "cells": [
  {
   "attachments": {},
   "cell_type": "markdown",
   "metadata": {},
   "source": [
    "### Designing a finite state automaton in Python\n",
    "\n",
    "CS 236 <br>\n",
    "Fall 2023\n",
    "\n",
    "Michael A. Goodrich <br>\n",
    "Brigham Young University <br>\n",
    "February 16, 2023\n",
    "***"
   ]
  },
  {
   "attachments": {},
   "cell_type": "markdown",
   "metadata": {},
   "source": [
    "The textbook defines a Finite State Automaton (FSA) as a tuple (see Def 3 in section 13.3.3). Think of a _tuple_ as an ordered pair with more than two elements. The tuple for an FSA is $(S,I,s_0,F,f)$ where \n",
    "* A finite set of states $S$\n",
    "* A set of input characters $I$\n",
    "* A start state $s_0$\n",
    "* A set of final or accept states $F$\n",
    "* A transition function $f:S\\times I \\rightarrow S$\n",
    "<br>\n"
   ]
  },
  {
   "attachments": {},
   "cell_type": "markdown",
   "metadata": {},
   "source": [
    "We often draw FSAs by representing each state $s\\in S$ with a circle, representing all states in $F$ with a double circle, representing the start state by a circle with an arrow pointing toward it, and representing transition functions as arrows connecting one state to another. The label of the arrow connecting one state to another is the input $i\\in I$ that causes the FSA to _transition_from one state to another. \n",
    "\n",
    "Consider the following FSA\n",
    "\n",
    "![colon-dash FSA](colon-dash-fsa.png)"
   ]
  },
  {
   "attachments": {},
   "cell_type": "markdown",
   "metadata": {},
   "source": [
    "The elements of the FSA tuple above are\n",
    "* The finite set of states is $S=\\{s_0,s_1,s_2,s_{\\rm err}\\}$\n",
    "* The finite set of input characters is $I=\\{{\\rm any\\  keyboard\\  character}\\}$\n",
    "* The start state is $s_0$\n",
    "* The set of final or accept states is $F=\\{s_2\\}$\n",
    "* The transition function $f:S\\times I \\rightarrow S$ are all the states connected by the labeled arrows:\n",
    "\n",
    "| present state | input             | next state |\n",
    "| :-:           | :-:               | :-:        |\n",
    "| $s_0$         | ':'               | $s_1$      |\n",
    "| $s_1$         | '-'               | $s_2$      |\n",
    "| $s_2$         | anything          | $s_2$      |\n",
    "| $s_0$         | anything but ':'  | $s_{err}$  |\n",
    "| $s_1$         | anything but '-'  | $s_{err}$  |\n",
    "| $s_{err}$     | anything          | $s_{err}$  |\n",
    "\n",
    "Notice how we used some shortcuts, like writing \"anything\" on a single transition rather than creating a transition for every possible input from $s_2$ to $s_2$ or from $s_{err}$ to $s_{err}$. We did something similar for that transition from $s_0$ or $s_1$ to $s_{err}$, labeling a transition in a way that says that any input except for \":\" or \"-\", respectively, transitioned to $s_{err}$. \n",
    "\n",
    "***"
   ]
  },
  {
   "attachments": {},
   "cell_type": "markdown",
   "metadata": {},
   "source": [
    "\n",
    "We can create a class that implements this FSA. We'll define two types of things in the constructor. First, we'll need to define everything required in the definition of a FSA: set of states, set if input characters, start state, set of accept states, and transition function. Second, we'll define some variables that we'll use to manage the input string or that will be used in a subsequent tool.\n",
    "\n",
    "After the constructor, a method is defined for each state. (Note that this is not the most efficient implementation of a state machine, but it's one of the easiest to understand. If you take CS 340, you'll learn about _design patterns_ that frequently appear in software engineering. One of these design patterns is the _state machine pattern_.) Each method has the same pattern: get the current input and then transitions to the next state determined by the current input. (Ignore the history_message stuff. We'll use it later)\n",
    "\n"
   ]
  },
  {
   "cell_type": "code",
   "execution_count": 14,
   "metadata": {
    "slideshow": {
     "slide_type": "slide"
    }
   },
   "outputs": [],
   "source": [
    "class colonDash_FSA:\n",
    "    def __init__(self):\n",
    "        \"\"\" Class constructor \"\"\"\n",
    "        ###############################################################\n",
    "        # Define the five elements of the FSA\n",
    "        ###############################################################\n",
    "        # Set of states: Each state S0, S1, S2, Serr will be represented by its own method\n",
    "        # Set of inputs: I is the set of alphanumeric characters, checked by isalnum()\n",
    "        self.start_state = self.S0  # Initialize the starting state to the correct method\n",
    "        self.accept_states = set(); self.accept_states.add(self.S2)  \n",
    "        # Transition function: Each transition will be defined in the state methods\n",
    "        \n",
    "        ###############################################################\n",
    "        # Define four variables that are used within the FSA, some\n",
    "        # to make the FSA run and some that help us understand how \n",
    "        # the FSA works\n",
    "        ###############################################################\n",
    "        self.input_string = \"\"      # Default empty input\n",
    "        self.FSA_name = \"colon-dash state machine\"\n",
    "        self.num_chars_read = 0\n",
    "        self.history = []\n",
    "            \n",
    "    #########################################################\n",
    "    # Define each state as a function                       #\n",
    "    # Within each function, define the transition function. #\n",
    "    # Each transition function reads the current input and  #\n",
    "    # choose the next state based on the input              #\n",
    "    #########################################################\n",
    "    def S0(self):\n",
    "        current_input = self.__getCurrentInput()\n",
    "        if current_input == ':': \n",
    "            next_state = self.S1\n",
    "            history_message = self.get_History_String(\"S0\",current_input,\"S1\")\n",
    "        else: \n",
    "            next_state = self.Serr\n",
    "            history_message = self.get_History_String(\"S0\",current_input,\"Serr\")\n",
    "        self.history.append(history_message)\n",
    "        return next_state\n",
    "    def S1(self):\n",
    "        current_input = self.__getCurrentInput()\n",
    "        if current_input == '-': \n",
    "            next_state = self.S2\n",
    "            history_message = self.get_History_String(\"S1\",current_input,\"S2\")\n",
    "        else: \n",
    "            next_state = self.Serr\n",
    "            history_message = self.get_History_String(\"S1\",current_input,\"Serr\")\n",
    "        self.history.append(history_message)\n",
    "        return next_state\n",
    "    def S2(self):\n",
    "        current_input = self.__getCurrentInput()\n",
    "        next_state = self.S2 # loop in state S2\n",
    "        history_message = self.get_History_String(\"S2\",current_input,\"S2\")\n",
    "        self.history.append(history_message)\n",
    "        return next_state\n",
    "    def Serr(self):\n",
    "        current_input = self.__getCurrentInput()\n",
    "        next_state = self.Serr # loop in state Serr\n",
    "        history_message = self.get_History_String(\"Serr\",current_input,\"Serr\")\n",
    "        self.history.append(history_message)\n",
    "        return next_state\n",
    "    \n",
    "    ############################\n",
    "    # Manager functions\n",
    "    ############################\n",
    "    def Run(self,input_string):\n",
    "        ###############################################################\n",
    "        # This function will be called to make the FSA execute\n",
    "        # It records the input string,\n",
    "        # sets the current state to the start state\n",
    "        # and then calls a state method that returns the next state\n",
    "        # Each state method accesses the input_string\n",
    "        ###############################################################\n",
    "            # Remember input_string\n",
    "        self.input_string = input_string\n",
    "            # Set current state to start state\n",
    "        current_state = self.start_state\n",
    "            # Call current state, which starts the FSA\n",
    "        while self.num_chars_read < len(self.input_string):\n",
    "            current_state = current_state()\n",
    "            # Check whether the FSA ended in an accept state\n",
    "        outcome = False \n",
    "        if current_state in self.accept_states: outcome = True # Accept if the FSA ended in an accept state\n",
    "        return outcome\n",
    "    def Reset(self):\n",
    "        self.num_chars_read = 0\n",
    "        self.history = []\n",
    "    \n",
    "    ############################\n",
    "    # Public Getters and Setters\n",
    "    ############################\n",
    "    def get_Name(self): return self.FSA_name\n",
    "    def get_History(self): \n",
    "        output_string = \"\"\n",
    "        for message in self.history:\n",
    "            output_string = output_string + message + \"\\n\"\n",
    "        return output_string\n",
    "    def get_History_String(self,current_state,input,next_state):\n",
    "        history_message = \"From state \" + current_state + \" read input \" + \\\n",
    "            input + \" and transitioned to state \" + next_state\n",
    "        return history_message\n",
    "    \n",
    "    ############################\n",
    "    # Private Helper functions\n",
    "    ############################\n",
    "    def __getCurrentInput(self):  # The double underscore makes the method private\n",
    "        current_input = self.input_string[self.num_chars_read]\n",
    "        self.num_chars_read += 1\n",
    "        return current_input\n",
    "    "
   ]
  },
  {
   "attachments": {},
   "cell_type": "markdown",
   "metadata": {},
   "source": [
    "Let's test whether the FSA we defined actually works by running it on an input"
   ]
  },
  {
   "cell_type": "code",
   "execution_count": 20,
   "metadata": {},
   "outputs": [
    {
     "name": "stdout",
     "output_type": "stream",
     "text": [
      "The  colon-dash state machine FSA accepted the input string ' :- '\n"
     ]
    }
   ],
   "source": [
    "my_FSA = colonDash_FSA()\n",
    "input_string = \":-\"\n",
    "accept_status = my_FSA.Run(input_string)\n",
    "if accept_status: print(\"The \", my_FSA.get_Name(), \"FSA accepted the input string '\",input_string,\"'\")\n",
    "else: print(\"The \", my_FSA.get_Name(), \"FSA did not accept the input string '\",input_string,\"'\")\n"
   ]
  },
  {
   "attachments": {},
   "cell_type": "markdown",
   "metadata": {},
   "source": [
    "Yay! it worked. \n",
    "\n",
    "It's useful to print out the _trace_ of the FSA. The _trace_ is defined as the history of each state that was visited, the input character read from that state, and the state to which the FSA transitioned given that input.\n",
    "\n",
    "***\n"
   ]
  },
  {
   "cell_type": "code",
   "execution_count": 23,
   "metadata": {},
   "outputs": [
    {
     "name": "stdout",
     "output_type": "stream",
     "text": [
      "The  colon-dash state machine FSA accepted the input string ' :- '\n",
      "Here is the trace on input ' :- '\n",
      "From state S0 read input : and transitioned to state S1\n",
      "From state S1 read input - and transitioned to state S2\n",
      "\n"
     ]
    }
   ],
   "source": [
    "my_FSA.Reset()  # This method resets the FSA to run on a new input.\n",
    "input_string = \":-\"\n",
    "accept_status = my_FSA.Run(input_string)\n",
    "if accept_status: print(\"The \", my_FSA.get_Name(), \"FSA accepted the input string '\",input_string,\"'\")\n",
    "else: print(\"The \", my_FSA.get_Name(), \"FSA did not accept the input string '\",input_string,\"'\")\n",
    "print(\"Here is the trace on input '\",input_string,\"'\")\n",
    "print(my_FSA.get_History())"
   ]
  },
  {
   "attachments": {},
   "cell_type": "markdown",
   "metadata": {},
   "source": [
    "Just as expected, the FSA started in the start state, S0, read the colon and transitioned to state S1, and then read the dash and transitioned to state S2. The trace shows the sequence of states visited and inputs read.\n",
    "\n",
    "***\n",
    "\n",
    "Let's try an input string that should not be accepted by the FSA."
   ]
  },
  {
   "cell_type": "code",
   "execution_count": 26,
   "metadata": {},
   "outputs": [
    {
     "name": "stdout",
     "output_type": "stream",
     "text": [
      "The  colon-dash state machine FSA did not accept the input string ' : '\n",
      "Here is the trace on input ' : '\n",
      "From state S0 read input : and transitioned to state S1\n",
      "\n"
     ]
    }
   ],
   "source": [
    "my_FSA.Reset()\n",
    "input_string = \":\"\n",
    "accept_status = my_FSA.Run(input_string)\n",
    "if accept_status: print(\"The \", my_FSA.get_Name(), \"FSA accepted the input string '\",input_string,\"'\")\n",
    "else: print(\"The \", my_FSA.get_Name(), \"FSA did not accept the input string '\",input_string,\"'\")\n",
    "print(\"Here is the trace on input '\",input_string,\"'\")\n",
    "print(my_FSA.get_History())"
   ]
  },
  {
   "attachments": {},
   "cell_type": "markdown",
   "metadata": {},
   "source": [
    "***\n",
    "Let's try an input that is a little longer."
   ]
  },
  {
   "cell_type": "code",
   "execution_count": 25,
   "metadata": {},
   "outputs": [
    {
     "name": "stdout",
     "output_type": "stream",
     "text": [
      "The  colon-dash state machine FSA did not accept the input string ' :::- '\n",
      "Trace the following history using the picture of the FSA above:\n",
      "From state S0 read input : and transitioned to state S1\n",
      "From state S1 read input : and transitioned to state Serr\n",
      "From state Serr read input : and transitioned to state Serr\n",
      "From state Serr read input - and transitioned to state Serr\n",
      "\n"
     ]
    }
   ],
   "source": [
    "my_FSA.Reset()\n",
    "input_string = \":::-\"\n",
    "accept_status = my_FSA.Run(input_string)\n",
    "if accept_status: print(\"The \", my_FSA.get_Name(), \"FSA accepted the input string '\",input_string,\"'\")\n",
    "else: print(\"The \", my_FSA.get_Name(), \"FSA did not accept the input string '\",input_string,\"'\")\n",
    "print(\"Trace the following history using the picture of the FSA above:\")\n",
    "print(my_FSA.get_History())"
   ]
  },
  {
   "attachments": {},
   "cell_type": "markdown",
   "metadata": {},
   "source": [
    "***\n",
    "Let's try a long input that should be accepted."
   ]
  },
  {
   "cell_type": "code",
   "execution_count": 28,
   "metadata": {},
   "outputs": [
    {
     "name": "stdout",
     "output_type": "stream",
     "text": [
      "The  colon-dash state machine FSA accepted the input string ' :-::- testing '\n",
      "Trace the following history using the picture of the FSA above:\n",
      "From state S0 read input : and transitioned to state S1\n",
      "From state S1 read input - and transitioned to state S2\n",
      "From state S2 read input : and transitioned to state S2\n",
      "From state S2 read input : and transitioned to state S2\n",
      "From state S2 read input - and transitioned to state S2\n",
      "From state S2 read input   and transitioned to state S2\n",
      "From state S2 read input t and transitioned to state S2\n",
      "From state S2 read input e and transitioned to state S2\n",
      "From state S2 read input s and transitioned to state S2\n",
      "From state S2 read input t and transitioned to state S2\n",
      "From state S2 read input i and transitioned to state S2\n",
      "From state S2 read input n and transitioned to state S2\n",
      "From state S2 read input g and transitioned to state S2\n",
      "\n"
     ]
    }
   ],
   "source": [
    "my_FSA.Reset()\n",
    "input_string = \":-::- testing\"\n",
    "accept_status = my_FSA.Run(input_string)\n",
    "if accept_status: print(\"The \", my_FSA.get_Name(), \"FSA accepted the input string '\",input_string,\"'\")\n",
    "else: print(\"The \", my_FSA.get_Name(), \"FSA did not accept the input string '\",input_string,\"'\")\n",
    "print(\"Trace the following history using the picture of the FSA above:\")\n",
    "print(my_FSA.get_History())"
   ]
  }
 ],
 "metadata": {
  "kernelspec": {
   "display_name": "Python 3",
   "language": "python",
   "name": "python3"
  },
  "language_info": {
   "codemirror_mode": {
    "name": "ipython",
    "version": 3
   },
   "file_extension": ".py",
   "mimetype": "text/x-python",
   "name": "python",
   "nbconvert_exporter": "python",
   "pygments_lexer": "ipython3",
   "version": "3.11.2"
  },
  "orig_nbformat": 4,
  "vscode": {
   "interpreter": {
    "hash": "aee8b7b246df8f9039afb4144a1f6fd8d2ca17a180786b69acc140d282b71a49"
   }
  }
 },
 "nbformat": 4,
 "nbformat_minor": 2
}
