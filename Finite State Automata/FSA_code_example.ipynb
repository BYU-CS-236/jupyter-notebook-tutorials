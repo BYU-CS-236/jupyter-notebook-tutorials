{
 "cells": [
  {
   "attachments": {},
   "cell_type": "markdown",
   "metadata": {},
   "source": [
    "### Designing a finite state automaton in Python\n",
    "\n",
    "CS 236 <br>\n",
    "Fall 2023\n",
    "\n",
    "Michael A. Goodrich <br>\n",
    "Brigham Young University <br>\n",
    "February 16, 2023\n",
    "***"
   ]
  },
  {
   "attachments": {},
   "cell_type": "markdown",
   "metadata": {},
   "source": [
    "We'll be creating code to implement the FSA shown below. The FSA accepts all strings that begin with ':-'. The regular expression describing the language recognized by this FSA is :-$I^*$ where $I$ is the set of possible inputs.\n",
    "![colon-dash FSA](colon-dash-fsa.png)"
   ]
  },
  {
   "attachments": {},
   "cell_type": "markdown",
   "metadata": {},
   "source": [
    "The tuple defining the finite state automata shown above is (see Def 3 in section 13.3.3)\n",
    "* A finite set of states $S=\\{s_0,s_1,s_2,s_{\\rm err}\\}$\n",
    "* A set of input characters $I=\\{{\\rm any\\  keyboard\\  character}\\}$\n",
    "* A start state $s_0$\n",
    "* A set of final or accept states $F=\\{s_2\\}$\n",
    "* A transition function $f:S\\times I \\rightarrow S$\n",
    "<br>\n",
    "\n",
    "We will now create a class that implements this FSA\n",
    "***"
   ]
  },
  {
   "cell_type": "code",
   "execution_count": 30,
   "metadata": {
    "slideshow": {
     "slide_type": "slide"
    }
   },
   "outputs": [],
   "source": [
    "class colonDash_FSA:\n",
    "    def __init__(self):\n",
    "        ###############################################################\n",
    "        # Class constructor\n",
    "        # Define four variables that are used within the FSA, some\n",
    "        # to make the FSA run and some that help us understand how \n",
    "        # the FSA works\n",
    "        ###############################################################\n",
    "        self.input_string = \"\"      # Default empty input\n",
    "        self.FSA_name = \"colon-dash state machine\"\n",
    "        self.num_chars_read = 0\n",
    "        self.history = []\n",
    "        ###############################################################\n",
    "        # Define the start state and the set of accept states\n",
    "        ###############################################################\n",
    "        self.start_state = self.S0  # Initialize the starting state\n",
    "        self.accept_states = set()  # Set of accept states\n",
    "        self.accept_states.add(self.S2)\n",
    "        ###############################################################\n",
    "        # Each state will be assigned its own function\n",
    "        # The transition function is defined within the state functions\n",
    "        ###############################################################\n",
    "        \n",
    "    def Run(self,input_string):\n",
    "        ###############################################################\n",
    "        # This function will be called to make the FSA execute\n",
    "        # It records the input string,\n",
    "        # sets the current state to the start state\n",
    "        # and then calls a state method that returns the next state\n",
    "        # Each state method accesses the input_string\n",
    "        ###############################################################\n",
    "        self.input_string = input_string\n",
    "        current_state = self.start_state\n",
    "        while self.num_chars_read < len(self.input_string):\n",
    "            current_state = current_state()\n",
    "        if current_state in self.accept_states:\n",
    "            return True # Accept if the FSA ended in an accept state\n",
    "        else: \n",
    "            return False # Reject if the FSA ended in anything other than an accept state\n",
    "    \n",
    "    #########################################################\n",
    "    # Define each state as a function                       #\n",
    "    # Within each function, define the transition function. #\n",
    "    # Each transition function reads the current input and  #\n",
    "    # choose the next state based on the input              #\n",
    "    #########################################################\n",
    "    def S0(self):\n",
    "        current_input = self.input_string[self.num_chars_read]\n",
    "        if current_input == ':': \n",
    "            next_state = self.S1\n",
    "            history_message = self.get_History_String(\"S0\",current_input,\"S1\")\n",
    "        else: \n",
    "            next_state = self.Serr\n",
    "            history_message = self.get_History_String(\"S0\",current_input,\"Serr\")\n",
    "        self.num_chars_read += 1\n",
    "        self.history.append(history_message)\n",
    "        return next_state\n",
    "    def S1(self):\n",
    "        current_input = self.input_string[self.num_chars_read]\n",
    "        if current_input == '-': \n",
    "            next_state = self.S2\n",
    "            history_message = self.get_History_String(\"S1\",current_input,\"S2\")\n",
    "        else: \n",
    "            next_state = self.Serr\n",
    "            history_message = self.get_History_String(\"S1\",current_input,\"Serr\")\n",
    "        self.num_chars_read += 1\n",
    "        self.history.append(history_message)\n",
    "        return next_state\n",
    "    def S2(self):\n",
    "        current_input = self.input_string[self.num_chars_read]\n",
    "        next_state = self.S2 # loop in state S2\n",
    "        history_message = self.get_History_String(\"S2\",current_input,\"S2\")\n",
    "        self.num_chars_read += 1\n",
    "        self.history.append(history_message)\n",
    "        return next_state\n",
    "    def Serr(self):\n",
    "        current_input = self.input_string[self.num_chars_read]\n",
    "        next_state = self.Serr # loop in state Serr\n",
    "        history_message = self.get_History_String(\"Serr\",current_input,\"Serr\")\n",
    "        self.num_chars_read += 1\n",
    "        self.history.append(history_message)\n",
    "        return next_state\n",
    "    \n",
    "    ############################\n",
    "    # Manager functions\n",
    "    ############################\n",
    "    def Reset(self):\n",
    "        self.num_chars_read = 0\n",
    "        self.history = []\n",
    "    \n",
    "    ############################\n",
    "    # Getters and Setters\n",
    "    ############################\n",
    "    def get_Name(self): return self.FSA_name\n",
    "    def get_History(self): \n",
    "        output_string = \"\"\n",
    "        for message in self.history:\n",
    "            output_string = output_string + message + \"\\n\"\n",
    "        return output_string\n",
    "\n",
    "    ############################\n",
    "    # Helper functions\n",
    "    ############################\n",
    "    def get_History_String(self,current_state,input,next_state):\n",
    "        history_message = \"From state \" + current_state + \" read input \" + \\\n",
    "            input + \" and transitioned to state \" + next_state\n",
    "        return history_message\n",
    "    "
   ]
  },
  {
   "cell_type": "code",
   "execution_count": 31,
   "metadata": {},
   "outputs": [
    {
     "name": "stdout",
     "output_type": "stream",
     "text": [
      "The output of the colon-dash state machine was True when the input was ' :- '\n",
      "Trace the following history using the picture of the FSA above:\n",
      "From state S0 read input : and transitioned to state S1\n",
      "From state S1 read input - and transitioned to state S2\n",
      "\n"
     ]
    }
   ],
   "source": [
    "my_FSA = colonDash_FSA()\n",
    "input_string = \":-\"\n",
    "accept_status = my_FSA.Run(input_string)\n",
    "print(\"The output of the\", my_FSA.get_Name(), \"was\", accept_status,\"when the input was '\",input_string,\"'\")\n",
    "print(\"Trace the following history using the picture of the FSA above:\")\n",
    "print(my_FSA.get_History())\n"
   ]
  },
  {
   "cell_type": "code",
   "execution_count": 32,
   "metadata": {},
   "outputs": [
    {
     "name": "stdout",
     "output_type": "stream",
     "text": [
      "The output of the colon-dash state machine was False when the input was ' : '\n",
      "Trace the following history using the picture of the FSA above:\n",
      "From state S0 read input : and transitioned to state S1\n",
      "\n"
     ]
    }
   ],
   "source": [
    "input_string = \":\"\n",
    "my_FSA.Reset()\n",
    "accept_status = my_FSA.Run(input_string)\n",
    "print(\"The output of the\", my_FSA.get_Name(), \"was\", accept_status,\"when the input was '\",input_string,\"'\")\n",
    "print(\"Trace the following history using the picture of the FSA above:\")\n",
    "print(my_FSA.get_History())"
   ]
  },
  {
   "cell_type": "code",
   "execution_count": 34,
   "metadata": {},
   "outputs": [
    {
     "name": "stdout",
     "output_type": "stream",
     "text": [
      "The output of the colon-dash state machine was False when the input was ' :::- '\n",
      "Trace the following history using the picture of the FSA above:\n",
      "From state S0 read input : and transitioned to state S1\n",
      "From state S1 read input : and transitioned to state Serr\n",
      "From state Serr read input : and transitioned to state Serr\n",
      "From state Serr read input - and transitioned to state Serr\n",
      "\n"
     ]
    }
   ],
   "source": [
    "input_string = \":::-\"\n",
    "my_FSA.Reset()\n",
    "accept_status = my_FSA.Run(input_string)\n",
    "print(\"The output of the\", my_FSA.get_Name(), \"was\", accept_status,\"when the input was '\",input_string,\"'\")\n",
    "print(\"Trace the following history using the picture of the FSA above:\")\n",
    "print(my_FSA.get_History())"
   ]
  }
 ],
 "metadata": {
  "kernelspec": {
   "display_name": "Python 3",
   "language": "python",
   "name": "python3"
  },
  "language_info": {
   "codemirror_mode": {
    "name": "ipython",
    "version": 3
   },
   "file_extension": ".py",
   "mimetype": "text/x-python",
   "name": "python",
   "nbconvert_exporter": "python",
   "pygments_lexer": "ipython3",
   "version": "3.11.2"
  },
  "orig_nbformat": 4,
  "vscode": {
   "interpreter": {
    "hash": "aee8b7b246df8f9039afb4144a1f6fd8d2ca17a180786b69acc140d282b71a49"
   }
  }
 },
 "nbformat": 4,
 "nbformat_minor": 2
}
