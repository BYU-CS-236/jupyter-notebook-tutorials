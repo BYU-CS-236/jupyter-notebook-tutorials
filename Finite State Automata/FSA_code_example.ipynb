{
 "cells": [
  {
   "attachments": {},
   "cell_type": "markdown",
   "metadata": {},
   "source": [
    "### Designing a finite state automaton in Python\n",
    "\n",
    "CS 236 <br>\n",
    "Fall 2023\n",
    "\n",
    "Michael A. Goodrich <br>\n",
    "Brigham Young University <br>\n",
    "Fall 2023\n",
    "***"
   ]
  },
  {
   "attachments": {},
   "cell_type": "markdown",
   "metadata": {},
   "source": [
    "The textbook defines a Finite State Automaton (FSA) as a tuple (see Def 3 in section 13.3.3). Think of a _tuple_ as an ordered pair with more than two elements. The tuple for an FSA is $(S,I,s_0,F,f)$ where \n",
    "* A finite set of states $S$\n",
    "* A set of input characters $I$\n",
    "* A start state $s_0$\n",
    "* A set of final or accept states $F$\n",
    "* A transition function $f:S\\times I \\rightarrow S$\n",
    "<br>\n"
   ]
  },
  {
   "attachments": {},
   "cell_type": "markdown",
   "metadata": {},
   "source": [
    "We often draw FSAs by representing each state $s\\in S$ with a circle, representing all states in $F$ with a double circle, representing the start state by a circle with an arrow pointing toward it, and representing transition functions as arrows connecting one state to another. The label of the arrow connecting one state to another is the input $i\\in I$ that causes the FSA to _transition_from one state to another. \n",
    "\n",
    "Consider the following FSA\n",
    "\n",
    "![colon-dash FSA](colon-dash-fsa.png)"
   ]
  },
  {
   "attachments": {},
   "cell_type": "markdown",
   "metadata": {},
   "source": [
    "The elements of the FSA tuple above are\n",
    "* The finite set of states is $S=\\{s_0,s_1,s_2,s_{\\rm err}\\}$\n",
    "* The finite set of input characters is $I=\\{{\\rm any\\  keyboard\\  character}\\}$\n",
    "* The start state is $s_0$\n",
    "* The set of final or accept states is $F=\\{s_2\\}$\n",
    "* The transition function $f:S\\times I \\rightarrow S$ are all the states connected by the labeled arrows:\n",
    "\n",
    "| present state | input             | next state |\n",
    "| :-:           | :-:               | :-:        |\n",
    "| $s_0$         | ':'               | $s_1$      |\n",
    "| $s_1$         | '-'               | $s_2$      |\n",
    "| $s_2$         | anything          | $s_2$      |\n",
    "| $s_0$         | anything but ':'  | $s_{err}$  |\n",
    "| $s_1$         | anything but '-'  | $s_{err}$  |\n",
    "| $s_{err}$     | anything          | $s_{err}$  |\n",
    "\n",
    "Notice how we used some shortcuts, like writing \"anything\" on a single transition rather than creating a transition for every possible input from $s_2$ to $s_2$ or from $s_{err}$ to $s_{err}$. We did something similar for that transition from $s_0$ or $s_1$ to $s_{err}$, labeling a transition in a way that says that any input except for \":\" or \"-\", respectively, transitioned to $s_{err}$. \n",
    "\n",
    "***"
   ]
  },
  {
   "attachments": {},
   "cell_type": "markdown",
   "metadata": {},
   "source": [
    "\n",
    "We can create a class that implements this FSA. We'll define two types of things in the constructor. First, we'll need to define everything required in the definition of a FSA: set of states, set if input characters, start state, set of accept states, and transition function. Second, we'll define some variables that we'll use to manage the input string or that will be used in a subsequent tool.\n",
    "\n",
    "***\n",
    "\n"
   ]
  },
  {
   "attachments": {},
   "cell_type": "markdown",
   "metadata": {},
   "source": [
    "Let's take a look at just a portion of the class with a very simple constructor and one user-defined function that doesn't do anything. We'll do this so that we can contrast the class definition without the style guide to the class definition that uses the style guide. "
   ]
  },
  {
   "cell_type": "code",
   "execution_count": null,
   "metadata": {},
   "outputs": [],
   "source": [
    "class ColonDashFSA:\n",
    "    def __init__(self):\n",
    "        \"\"\" Class constructor \"\"\"\n",
    "        ###############################################################\n",
    "        # Define the five elements of the FSA\n",
    "        ###############################################################\n",
    "        # Set of states: Each state s0, s1, s2, s_err will be represented by its own function\n",
    "        # Set of inputs: I is the set of alphanumeric characters, checked by isalnum()\n",
    "        self.start_state = self.s0  # Initialize the starting state to the correct function\n",
    "        self.accept_states = set(); \n",
    "        # Transition function: Each transition will be defined in the state functions\n",
    "        \n",
    "        ###############################################################\n",
    "        # Define four variables that are used within the FSA, some\n",
    "        # to make the FSA run and some that help us understand how \n",
    "        # the FSA works\n",
    "        ###############################################################\n",
    "        self.input_string = \"\"      # Default empty input\n",
    "        self.fsa_name = \"colon-dash state machine\"\n",
    "        \n",
    "    def s0(self) -> function:\n",
    "        # Not implemented ... just for illustration\n",
    "        next_state = None\n",
    "        return next_state"
   ]
  },
  {
   "attachments": {},
   "cell_type": "markdown",
   "metadata": {},
   "source": [
    "Let's now look at the same code that uses the style guide. (You can find the style guide under Course Content on Learning Suite. It's also saved as a file in this project so that you can reference it from within this tutorial.) \n"
   ]
  },
  {
   "cell_type": "code",
   "execution_count": null,
   "metadata": {},
   "outputs": [],
   "source": [
    "# This import gives us the type hint \"function\". It is renamed from \"Callable\"\n",
    "from typing import Callable as function\n",
    "\n",
    "class ColonDashFSA:\n",
    "    def __init__(self) -> None:\n",
    "        \"\"\" Class constructor \"\"\"\n",
    "        ###############################################################\n",
    "        # Define the five elements of the FSA\n",
    "        ###############################################################\n",
    "        # Set of states: Each state s0, s1, s2, s_err will be represented by its own function\n",
    "        # Set of inputs: I is the set of alphanumeric characters, checked by isalnum()\n",
    "        self.start_state: function = self.s0  # Initialize the starting state to the correct function\n",
    "        self.accept_states: set[function] = set(); \n",
    "        # Transition function: Each transition will be defined in the state functions\n",
    "        \n",
    "        ###############################################################\n",
    "        # Define four variables that are used within the FSA, some\n",
    "        # to make the FSA run and some that help us understand how \n",
    "        # the FSA works\n",
    "        ###############################################################\n",
    "        self.input_string: str = \"\"      # Default empty input\n",
    "        self.fsa_name: str = \"colon-dash state machine\"\n",
    "            \n",
    "    #########################################################\n",
    "    # Define each state as a function                       #\n",
    "    # Within each function, define the transition function. #\n",
    "    # Each transition function reads the current input and  #\n",
    "    # choose the next state based on the input              #\n",
    "    #########################################################\n",
    "    def s0(self) -> function:\n",
    "        next_state: function = None\n",
    "        return next_state"
   ]
  },
  {
   "attachments": {},
   "cell_type": "markdown",
   "metadata": {},
   "source": [
    "\n",
    "\n",
    "The first change is that we'll import a portion of the _typing_ package using\n",
    "\n",
    "    from typing import Callable as function\n",
    "\n",
    "Each object in python has a type, similar to what you saw in the data structures class for C++. But python has a lot of ways that you can mess with (and mess up) the type, so you are required to specify the types of each function and each variable you define. Tye _typing_ package is a collection of tools that can be used to be clear about the types of your functions and variables.\n",
    "\n",
    "Quoting from ChatGPT from the prompt \"What is a callable in python?\" In python, a _Callable_ is an object that can be called as a function. There are different types of callables in python, but we'll only be using the built in functions like print and functions defined in the classes. The import statement says that we're going to use _Callable_ types but since we are are probably more familiar with the term _function_ we'll just call all _Callables_ by the name _function_.\n",
    "\n",
    "***"
   ]
  },
  {
   "attachments": {},
   "cell_type": "markdown",
   "metadata": {},
   "source": [
    "The second change between the \"no style\" class definition and the class definition that follows the style guide is\n",
    "\n",
    "    def __init__(self) -> None:\n",
    "\n",
    "Contrast this with what was in the \"no style\" class\n",
    "\n",
    "    def __init__(self):\n",
    "\n",
    "The \"->\" notation indicates that we are going to make a kind of contract with ourselves (or other programmers) about what this function returns. In this case, the constructor doesn't return anything, so we say \"-> None\", which we can read as _this function doesn't return anything_.\n",
    "\n",
    "Now consider how we define the S0 function\n",
    "\n",
    "    def s0(self) -> function:\n",
    "\n",
    "Contrast this with what was in the \"no style\" class\n",
    "\n",
    "    def s0(self):\n",
    "\n",
    "We read the \"-> function\" as _this function returns another function_. We'll discuss this more later.\n",
    "\n",
    "***\n"
   ]
  },
  {
   "attachments": {},
   "cell_type": "markdown",
   "metadata": {},
   "source": [
    "The third change is in how we define variables. In the \"no style\" class, we used\n",
    "\n",
    "        self.start_state = self.s0  # Initialize the starting state to the correct function\n",
    "        self.accept_states = set();\n",
    "        self.input_string = \"\"      # Default empty input\n",
    "        self.fsa_name: str = \"colon-dash state machine\"\n",
    "\n",
    "and in the class that follows the style guide we used\n",
    "\n",
    "        self.start_state: function = self.s0  # Initialize the starting state to the correct function\n",
    "        self.accept_states: set[function] = set(); \n",
    "        self.input_string: str = \"\"      # Default empty input\n",
    "        self.fsa_name: str = \"colon-dash state machine\"\n",
    "\n",
    "Notice how after the name of the variable we put a colon, followed by the variable type, followed by an equal sign, and then followed by the value assigned to the variable. We read the four lines of code above as \n",
    "\n",
    " * The type of the _self.start_state_ variable is function, and we set the value of the variable to _self.s0_.\n",
    " * The type of the _self.accept_states_ variable is a set whose member elements are functions, and we set the value of the variable to the empty set.\n",
    " * The types of both _self.input_string_ and _self.fsa_name_ are both strings, one initialized to the empty string and the other initialized to the string \"colon-dash state machine\".\n",
    "\n",
    " ***\n"
   ]
  },
  {
   "attachments": {},
   "cell_type": "markdown",
   "metadata": {},
   "source": [
    "We can now explore code that actually works.\n",
    "\n",
    "After the constructor, a function is defined for each state. (Note that this is not the most efficient implementation of a state machine, but it's one of the easiest to understand. If you take CS 340, you'll learn about _design patterns_ that frequently appear in software engineering. One of these design patterns is the _state machine pattern_.) Each function has the same pattern: get the current input and then transitions to the next state determined by the current input. (Ignore the history_message stuff. We'll use it later)"
   ]
  },
  {
   "cell_type": "code",
   "execution_count": 4,
   "metadata": {
    "slideshow": {
     "slide_type": "slide"
    }
   },
   "outputs": [],
   "source": [
    "# This import gives us the type hint \"function\". It is renamed from \"Callable\"\n",
    "from typing import Callable as function\n",
    "\n",
    "class ColonDashFSA:\n",
    "    def __init__(self) -> None:\n",
    "        \"\"\" Class constructor \"\"\"\n",
    "        ###############################################################\n",
    "        # Define the five elements of the FSA\n",
    "        ###############################################################\n",
    "        # Set of states: Each state s0, s1, s2, s_err will be represented by its own function\n",
    "        # Set of inputs: I is the set of alphanumeric characters, checked by isalnum()\n",
    "        self.start_state: function = self.s0  # Initialize the starting state to the correct function\n",
    "        self.accept_states: set[function] = set(); \n",
    "        self.accept_states.add(self.s2)  \n",
    "        # Transition function: Each transition will be defined in the state functions\n",
    "        \n",
    "        ###############################################################\n",
    "        # Define four variables that are used within the FSA, some\n",
    "        # to make the FSA run and some that help us understand how \n",
    "        # the FSA works\n",
    "        ###############################################################\n",
    "        self.input_string: str = \"\"      # Default empty input\n",
    "        self.fsa_name: str = \"colon-dash state machine\"\n",
    "        self.num_chars_read: int = 0\n",
    "        self.history: list[str] = []\n",
    "            \n",
    "    #########################################################\n",
    "    # Define each state as a function                       #\n",
    "    # Within each function, define the transition function. #\n",
    "    # Each transition function reads the current input and  #\n",
    "    # choose the next state based on the input              #\n",
    "    #########################################################\n",
    "    def s0(self) -> function:\n",
    "        current_input = self.__get_current_input()\n",
    "        next_state: function = None\n",
    "        history_message: str = \"\"\n",
    "        if current_input == ':': \n",
    "            next_state = self.s1\n",
    "            history_message = self.get_history_string(\"s0\",current_input,\"s1\")\n",
    "        else: \n",
    "            next_state = self.s_err\n",
    "            history_message = self.get_history_string(\"s0\",current_input,\"s_err\")\n",
    "        self.history.append(history_message)\n",
    "        return next_state\n",
    "\n",
    "    def s1(self) -> function:\n",
    "        current_input = self.__get_current_input()\n",
    "        next_state: function = None\n",
    "        history_message: str = \"\"\n",
    "        if current_input == '-': \n",
    "            next_state = self.s2\n",
    "            history_message = self.get_history_string(\"s1\",current_input,\"s2\")\n",
    "        else: \n",
    "            next_state = self.s_err\n",
    "            history_message = self.get_history_string(\"s1\",current_input,\"s_err\")\n",
    "        self.history.append(history_message)\n",
    "        return next_state\n",
    "\n",
    "    def s2(self) -> function:\n",
    "        current_input: str = self.__get_current_input()\n",
    "        next_state: function = self.s2 # loop in state s2\n",
    "        history_message: str = self.get_history_string(\"s2\",current_input,\"s2\")\n",
    "        self.history.append(history_message)\n",
    "        return next_state\n",
    "\n",
    "    def s_err(self) -> function:\n",
    "        current_input: str = self.__get_current_input()\n",
    "        next_state: function = self.s_err # loop in state s_err\n",
    "        history_message: str = self.get_history_string(\"s_err\",current_input,\"s_err\")\n",
    "        self.history.append(history_message)\n",
    "        return next_state\n",
    "    \n",
    "    ############################\n",
    "    # Manager functions\n",
    "    ############################\n",
    "    def run(self, input_string: str) -> bool:\n",
    "        ###############################################################\n",
    "        # This function will be called to make the FSA execute\n",
    "        # It records the input string,\n",
    "        # sets the current state to the start state\n",
    "        # and then calls a state function that returns the next state\n",
    "        # Each state function accesses the input_string\n",
    "        ###############################################################\n",
    "            # Remember input_string\n",
    "        self.input_string = input_string\n",
    "            # Set current state to start state\n",
    "        current_state: function = self.start_state\n",
    "            # Call current state, which starts the FSA\n",
    "        while self.num_chars_read < len(self.input_string):\n",
    "            current_state = current_state()\n",
    "            # Check whether the FSA ended in an accept state\n",
    "        outcome: bool = False \n",
    "        if current_state in self.accept_states: outcome = True # Accept if the FSA ended in an accept state\n",
    "        return outcome\n",
    "\n",
    "    def reset(self):\n",
    "        self.num_chars_read = 0\n",
    "        self.history = []\n",
    "    \n",
    "    ############################\n",
    "    # Public Getters and Setters\n",
    "    ############################\n",
    "    def get_name(self) -> str: return self.fsa_name\n",
    "    def get_history(self) -> str: \n",
    "        output_string: str = \"\"\n",
    "        for message in self.history:\n",
    "            output_string = output_string + message + \"\\n\"\n",
    "        return output_string\n",
    "\n",
    "    def get_history_string(self, current_state: function, input: str, next_state: function):\n",
    "        history_message: str = \"From state \" + current_state + \" read input \" + \\\n",
    "            input + \" and transitioned to state \" + next_state\n",
    "        return history_message\n",
    "    \n",
    "    ############################\n",
    "    # Private Helper functions\n",
    "    ############################\n",
    "    def __get_current_input(self) -> str:  # The double underscore makes the function private\n",
    "        current_input: str = self.input_string[self.num_chars_read]\n",
    "        self.num_chars_read += 1\n",
    "        return current_input\n",
    "    "
   ]
  },
  {
   "attachments": {},
   "cell_type": "markdown",
   "metadata": {},
   "source": [
    "Let's test whether the FSA we defined actually works by running it on an input"
   ]
  },
  {
   "cell_type": "code",
   "execution_count": 5,
   "metadata": {},
   "outputs": [
    {
     "name": "stdout",
     "output_type": "stream",
     "text": [
      "The  colon-dash state machine FSA accepted the input string ' :- '\n"
     ]
    }
   ],
   "source": [
    "my_fsa: ColonDashFSA = ColonDashFSA()\n",
    "input_string: str = \":-\"\n",
    "accept_status: bool = my_fsa.run(input_string)\n",
    "if accept_status: print(\"The \", my_fsa.get_name(), \"FSA accepted the input string '\", input_string, \"'\")\n",
    "else: print(\"The \", my_fsa.get_name(), \"FSA did not accept the input string '\", input_string, \"'\")\n"
   ]
  },
  {
   "attachments": {},
   "cell_type": "markdown",
   "metadata": {},
   "source": [
    "Yay! it worked. \n",
    "\n",
    "It's useful to print out the _trace_ of the FSA. The _trace_ is defined as the history of each state that was visited, the input character read from that state, and the state to which the FSA transitioned given that input.\n",
    "\n",
    "***\n"
   ]
  },
  {
   "cell_type": "code",
   "execution_count": 6,
   "metadata": {},
   "outputs": [
    {
     "name": "stdout",
     "output_type": "stream",
     "text": [
      "The  colon-dash state machine FSA accepted the input string ' :- '\n",
      "Here is the trace on input ' :- '\n",
      "From state s0 read input : and transitioned to state s1\n",
      "From state s1 read input - and transitioned to state s2\n",
      "\n"
     ]
    }
   ],
   "source": [
    "my_fsa.reset()  # This function resets the FSA to run on a new input.\n",
    "input_string: str = \":-\"\n",
    "accept_status: bool = my_fsa.run(input_string)\n",
    "if accept_status: print(\"The \", my_fsa.get_name(), \"FSA accepted the input string '\",input_string,\"'\")\n",
    "else: print(\"The \", my_fsa.get_name(), \"FSA did not accept the input string '\",input_string,\"'\")\n",
    "print(\"Here is the trace on input '\",input_string,\"'\")\n",
    "print(my_fsa.get_history())"
   ]
  },
  {
   "attachments": {},
   "cell_type": "markdown",
   "metadata": {},
   "source": [
    "Just as expected, the FSA started in the start state, s0, read the colon and transitioned to state s1, and then read the dash and transitioned to state s2. The trace shows the sequence of states visited and inputs read.\n",
    "\n",
    "***\n",
    "\n",
    "Let's try an input string that should not be accepted by the FSA."
   ]
  },
  {
   "cell_type": "code",
   "execution_count": 7,
   "metadata": {},
   "outputs": [
    {
     "name": "stdout",
     "output_type": "stream",
     "text": [
      "The  colon-dash state machine FSA did not accept the input string ' : '\n",
      "Here is the trace on input ' : '\n",
      "From state s0 read input : and transitioned to state s1\n",
      "\n"
     ]
    }
   ],
   "source": [
    "my_fsa.reset()\n",
    "input_string: str = \":\"\n",
    "accept_status: bool = my_fsa.run(input_string)\n",
    "if accept_status: print(\"The \", my_fsa.get_name(), \"FSA accepted the input string '\",input_string,\"'\")\n",
    "else: print(\"The \", my_fsa.get_name(), \"FSA did not accept the input string '\",input_string,\"'\")\n",
    "print(\"Here is the trace on input '\",input_string,\"'\")\n",
    "print(my_fsa.get_history())"
   ]
  },
  {
   "attachments": {},
   "cell_type": "markdown",
   "metadata": {},
   "source": [
    "***\n",
    "Let's try an input that is a little longer."
   ]
  },
  {
   "cell_type": "code",
   "execution_count": 9,
   "metadata": {},
   "outputs": [
    {
     "name": "stdout",
     "output_type": "stream",
     "text": [
      "The  colon-dash state machine FSA did not accept the input string ' :::- '\n",
      "Trace the following history using the picture of the FSA above:\n",
      "From state s0 read input : and transitioned to state s1\n",
      "From state s1 read input : and transitioned to state s_err\n",
      "From state s_err read input : and transitioned to state s_err\n",
      "From state s_err read input - and transitioned to state s_err\n",
      "\n"
     ]
    }
   ],
   "source": [
    "my_fsa.reset()\n",
    "input_string: str = \":::-\"\n",
    "accept_status: bool = my_fsa.run(input_string)\n",
    "if accept_status: print(\"The \", my_fsa.get_name(), \"FSA accepted the input string '\",input_string,\"'\")\n",
    "else: print(\"The \", my_fsa.get_name(), \"FSA did not accept the input string '\",input_string,\"'\")\n",
    "print(\"Trace the following history using the picture of the FSA above:\")\n",
    "print(my_fsa.get_history())"
   ]
  },
  {
   "attachments": {},
   "cell_type": "markdown",
   "metadata": {},
   "source": [
    "***\n",
    "Let's try a long input that should be accepted."
   ]
  },
  {
   "cell_type": "code",
   "execution_count": 28,
   "metadata": {},
   "outputs": [
    {
     "name": "stdout",
     "output_type": "stream",
     "text": [
      "The  colon-dash state machine FSA accepted the input string ' :-::- testing '\n",
      "Trace the following history using the picture of the FSA above:\n",
      "From state S0 read input : and transitioned to state S1\n",
      "From state S1 read input - and transitioned to state S2\n",
      "From state S2 read input : and transitioned to state S2\n",
      "From state S2 read input : and transitioned to state S2\n",
      "From state S2 read input - and transitioned to state S2\n",
      "From state S2 read input   and transitioned to state S2\n",
      "From state S2 read input t and transitioned to state S2\n",
      "From state S2 read input e and transitioned to state S2\n",
      "From state S2 read input s and transitioned to state S2\n",
      "From state S2 read input t and transitioned to state S2\n",
      "From state S2 read input i and transitioned to state S2\n",
      "From state S2 read input n and transitioned to state S2\n",
      "From state S2 read input g and transitioned to state S2\n",
      "\n"
     ]
    }
   ],
   "source": [
    "my_fsa.reset()\n",
    "input_string: str = \":-::- testing\"\n",
    "accept_status: bool = my_fsa.run(input_string)\n",
    "if accept_status: print(\"The \", my_fsa.get_name(), \"FSA accepted the input string '\",input_string,\"'\")\n",
    "else: print(\"The \", my_fsa.get_name(), \"FSA did not accept the input string '\",input_string,\"'\")\n",
    "print(\"Trace the following history using the picture of the FSA above:\")\n",
    "print(my_fsa.get_history())"
   ]
  }
 ],
 "metadata": {
  "kernelspec": {
   "display_name": "Python 3",
   "language": "python",
   "name": "python3"
  },
  "language_info": {
   "codemirror_mode": {
    "name": "ipython",
    "version": 3
   },
   "file_extension": ".py",
   "mimetype": "text/x-python",
   "name": "python",
   "nbconvert_exporter": "python",
   "pygments_lexer": "ipython3",
   "version": "3.11.2"
  },
  "orig_nbformat": 4,
  "vscode": {
   "interpreter": {
    "hash": "aee8b7b246df8f9039afb4144a1f6fd8d2ca17a180786b69acc140d282b71a49"
   }
  }
 },
 "nbformat": 4,
 "nbformat_minor": 2
}
