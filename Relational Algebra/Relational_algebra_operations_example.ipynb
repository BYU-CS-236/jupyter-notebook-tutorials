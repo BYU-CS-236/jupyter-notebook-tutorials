{
 "cells": [
  {
   "attachments": {},
   "cell_type": "markdown",
   "metadata": {},
   "source": [
    "#### Introduction to relations and relational algebra\n",
    "CS 236 <br>\n",
    "Fall 2023\n",
    "\n",
    "Michael A. Goodrich <br>\n",
    "Brigham Young University <br>\n",
    "March 2023\n",
    "***"
   ]
  },
  {
   "attachments": {},
   "cell_type": "markdown",
   "metadata": {},
   "source": [
    "Consider the following example from the class slides:\n",
    "    _Relational Algebra Part 1_\n",
    "\n",
    "* $R\\subset A\\times B$\n",
    "* $R=\\{(a,1),(b,2),(c,3),(d,4)\\}$\n",
    "\n",
    "The relation $R$ is represented as a set of mathematical tuples, which uses the textbook's notation. \n",
    "\n",
    "In relational databases and in class, the same relation is represented as a table:\n",
    "\n",
    "| char | int | \n",
    "| :-: | :-: | \n",
    "| $a$ | $1$ |\n",
    "| $b$ | $2$ | \n",
    "| $c$ | $3$ | \n",
    "| $d$ | $4$ | \n",
    "\n",
    "The first row of the table is the __header__. You can think of the elements of the header as assigning names to each column. For example, the first column contains elements from the set $A$. The header contains information about the sets from which the cartesian product is formed, $R\\subset A\\times B$.\n",
    "\n",
    "Below the header are rows containing __tuples__. The tuples are the elements of the __set__ the defines the relation, $R=\\{(a,1),(b,2),(c,3),(d,4)\\}$.\n",
    "\n",
    "Just like the order of elements in a set doesn't matter\n",
    "\n",
    "* $\\{(a,1),(b,2),(c,3),(d,4)\\} = \\{(d,4),(b,2),(a,1),(c,3)\\}$\n",
    "\n",
    "The order of the rows in the table doesn't matter (except for the header). The following table represents the same relation as the table above.\n",
    "\n",
    "| char | int | \n",
    "| :-: | :-: | \n",
    "| $d$ | $4$ | \n",
    "| $a$ | $1$ |\n",
    "| $b$ | $2$ | \n",
    "| $c$ | $3$ | \n",
    "\n",
    "\n",
    "***"
   ]
  },
  {
   "attachments": {},
   "cell_type": "markdown",
   "metadata": {},
   "source": [
    "Let's construct a class that represents a relation.  The private variables of this method need to match the parts of the table. Thus, there needs to be a variable representing the header and another variable representing the set of tuples."
   ]
  },
  {
   "cell_type": "code",
   "execution_count": 13,
   "metadata": {},
   "outputs": [
    {
     "name": "stdout",
     "output_type": "stream",
     "text": [
      "The relation name is  R\n",
      "╒════════╤═══════╕\n",
      "│ char   │   int │\n",
      "╞════════╪═══════╡\n",
      "│ b      │     2 │\n",
      "├────────┼───────┤\n",
      "│ d      │     4 │\n",
      "├────────┼───────┤\n",
      "│ a      │     1 │\n",
      "├────────┼───────┤\n",
      "│ c      │     3 │\n",
      "╘════════╧═══════╛\n",
      "The relation name is  Q\n",
      "╒═════╤═════╕\n",
      "│ C   │ D   │\n",
      "╞═════╪═════╡\n",
      "╘═════╧═════╛\n"
     ]
    }
   ],
   "source": [
    "from tabulate import tabulate # requires the tabulate module\n",
    "### I like using the tabulate environment, but I had to install a\n",
    "        ### package to make this work so I've included a for loop that does\n",
    "        ### does the same thing with just a little less formatting\n",
    "        ### Within the vscode terminal, the command to install is \"pip3 install tabulate\"\n",
    "        \n",
    "class Relation:\n",
    "    def __init__(self, relation_name, relation_header, set_of_tuples):\n",
    "        self.name = relation_name # I threw in a string for the relation name for fun\n",
    "        self.header = relation_header\n",
    "        self.set_of_tuples = set_of_tuples\n",
    "\n",
    "    def toString(self):\n",
    "        print(\"The relation name is \", self.name)\n",
    "        print(tabulate(self.set_of_tuples,headers = self.header,tablefmt = 'fancy_grid'))\n",
    "        # Uncomment the lines below if you don't want to install tabulate\n",
    "        #print(self.relation_header)\n",
    "        #for my_tuple in self.tuples:\n",
    "        #    print(my_tuple)\n",
    "    \n",
    "R = Relation(relation_name = \"R\",relation_header = ('char','int'), set_of_tuples = {('a',1),('b',2),('c',3),('d',4)})\n",
    "R.toString()\n",
    "\n",
    "Q = Relation('Q',('C','D'),{})\n",
    "Q.toString()\n"
   ]
  },
  {
   "attachments": {},
   "cell_type": "markdown",
   "metadata": {},
   "source": [
    "The top row in the tables above consist of the relation header. The remaining rows represent the set of tuples contained in the relation. Each line contains a unique tuple.\n",
    "\n",
    "The order of the tuples in the set of tuples doesn't matter since sets are not ordered, so the relation R2 defined below is the same as R defined above."
   ]
  },
  {
   "cell_type": "code",
   "execution_count": 14,
   "metadata": {},
   "outputs": [
    {
     "name": "stdout",
     "output_type": "stream",
     "text": [
      "The relation name is  R2\n",
      "╒════════╤═══════╕\n",
      "│ char   │   int │\n",
      "╞════════╪═══════╡\n",
      "│ b      │     2 │\n",
      "├────────┼───────┤\n",
      "│ d      │     4 │\n",
      "├────────┼───────┤\n",
      "│ a      │     1 │\n",
      "├────────┼───────┤\n",
      "│ c      │     3 │\n",
      "╘════════╧═══════╛\n"
     ]
    }
   ],
   "source": [
    "R2 = Relation(relation_name = \"R2\",relation_header = ('char','int'), set_of_tuples = {('b',2),('a',1),('c',3),('d',4)})\n",
    "R2.toString()\n"
   ]
  },
  {
   "attachments": {},
   "cell_type": "markdown",
   "metadata": {},
   "source": [
    "Interestingly, my machine puts the tuples in R and the tuples in R2 on the same row.\n",
    "\n",
    "Note that equality of the two relations is not defined the way we think it should be in python."
   ]
  },
  {
   "cell_type": "code",
   "execution_count": 15,
   "metadata": {},
   "outputs": [
    {
     "name": "stdout",
     "output_type": "stream",
     "text": [
      "False\n"
     ]
    }
   ],
   "source": [
    "print(R==R2)"
   ]
  },
  {
   "attachments": {},
   "cell_type": "markdown",
   "metadata": {},
   "source": [
    "The reason is that R and R2 are two different instances of a class, and even though the variables within the two classes are the same the instances are not considered equal. When we print out the information about each instance, we see that the objects have different addresses"
   ]
  },
  {
   "cell_type": "code",
   "execution_count": 16,
   "metadata": {},
   "outputs": [
    {
     "name": "stdout",
     "output_type": "stream",
     "text": [
      "<__main__.Relation object at 0x109641750>\n",
      "<__main__.Relation object at 0x1094b2cd0>\n"
     ]
    }
   ],
   "source": [
    "print(R)\n",
    "print(R2)"
   ]
  },
  {
   "attachments": {},
   "cell_type": "markdown",
   "metadata": {},
   "source": [
    "But we can define an equality operator for the class within the class definition. See\n",
    "\n",
    "https://stackoverflow.com/questions/1227121/compare-object-instances-for-equality-by-their-attributes\n",
    "\n",
    "Let's redefine the class"
   ]
  },
  {
   "cell_type": "code",
   "execution_count": 17,
   "metadata": {},
   "outputs": [
    {
     "name": "stdout",
     "output_type": "stream",
     "text": [
      "True\n"
     ]
    }
   ],
   "source": [
    "class Relation:\n",
    "    def __init__(self, relation_name, relation_header, set_of_tuples):\n",
    "        self.name = relation_name # I threw in a string for the relation name for fun\n",
    "        self.header = relation_header\n",
    "        self.set_of_tuples = set_of_tuples\n",
    "\n",
    "    def toString(self):\n",
    "        print(\"The relation name is \", self.name)\n",
    "        print(tabulate(self.set_of_tuples,headers = self.header,tablefmt = 'fancy_grid'))\n",
    "        #print(self.relation_header)\n",
    "        #for my_tuple in self.tuples:\n",
    "        #    print(my_tuple)\n",
    "\n",
    "    def __eq__(self,other):\n",
    "        # First, check whether the thing passed to the equality method is the same type\n",
    "        if not isinstance(other, Relation):\n",
    "            # don't attempt to compare against unrelated types\n",
    "            raise ValueError\n",
    "        # Second, return true only if the header and sets all match. I don't really care if the names match\n",
    "        return self.header == other.header and self.set_of_tuples == other.set_of_tuples\n",
    "    \n",
    "R = Relation(relation_name = \"R\",relation_header = ('char','int'), set_of_tuples = {('a',1),('b',2),('c',3),('d',4)})\n",
    "R2 = Relation(relation_name = \"R2\",relation_header = ('char','int'), set_of_tuples = {('b',2),('a',1),('c',3),('d',4)})\n",
    "print(R==R2)"
   ]
  },
  {
   "attachments": {},
   "cell_type": "markdown",
   "metadata": {},
   "source": [
    "Defining the __eq__ method within the class allows us to use the == operator to check whether the contents of the two relations are the same\n",
    "\n",
    "***\n",
    "\n",
    "A tuple can have only a single element in it, what we jokingly call a \"one-ple\" in class. There is a tricky problem that comes up when we try to create a tuple with only a single element. Consider the following:"
   ]
  },
  {
   "cell_type": "code",
   "execution_count": 18,
   "metadata": {},
   "outputs": [
    {
     "name": "stdout",
     "output_type": "stream",
     "text": [
      "The relation name is  R\n",
      "╒═════╕\n",
      "│ c   │\n",
      "╞═════╡\n",
      "│ a   │\n",
      "╘═════╛\n"
     ]
    }
   ],
   "source": [
    "\n",
    "R = Relation('R',('char'),{('a')}) #To create a tuple with only one item, you have add a comma after the item, otherwise Python will not recognize the variable as a tuple.\n",
    "R.toString()\n"
   ]
  },
  {
   "attachments": {},
   "cell_type": "markdown",
   "metadata": {},
   "source": [
    "Notice how the only the \"c\" from the attribute name \"char\" is printed out. This can be a difficult bug to deal with and it arises because we don't explicitly define the variable types in python. (Remember what a pain that was to learn in C++?)\n",
    "\n",
    "It gets worse if we try to create a relation with no tuples in the set"
   ]
  },
  {
   "cell_type": "code",
   "execution_count": 19,
   "metadata": {},
   "outputs": [
    {
     "name": "stdout",
     "output_type": "stream",
     "text": [
      "The relation name is  Q\n",
      "╒═════╤═════╤═════╤═════╕\n",
      "│ c   │ h   │ a   │ r   │\n",
      "╞═════╪═════╪═════╪═════╡\n",
      "╘═════╧═════╧═════╧═════╛\n"
     ]
    }
   ],
   "source": [
    "Q = Relation('Q',('char'),{}) #To create a tuple with only one item, you have add a comma after the item, otherwise Python will not recognize the variable as a tuple.\n",
    "Q.toString()"
   ]
  },
  {
   "attachments": {},
   "cell_type": "markdown",
   "metadata": {},
   "source": [
    "That's not what we intended at all. We can get around this by adding a comma after the single element of the tuple (after both the 'char' and the 'a')..."
   ]
  },
  {
   "cell_type": "code",
   "execution_count": 20,
   "metadata": {},
   "outputs": [
    {
     "name": "stdout",
     "output_type": "stream",
     "text": [
      "The relation name is  P\n",
      "╒════════╕\n",
      "│ char   │\n",
      "╞════════╡\n",
      "│ a      │\n",
      "╘════════╛\n"
     ]
    }
   ],
   "source": [
    "\n",
    "P = Relation('P',('char',),{('a',)}) #To create a tuple with only one item, you have add a comma after the item, otherwise Python will not recognize the variable as a tuple.\n",
    "P.toString()\n",
    "\n"
   ]
  },
  {
   "attachments": {},
   "cell_type": "markdown",
   "metadata": {},
   "source": [
    "... and by adding a single comma after the header when we create a relation with the set of tuples empty"
   ]
  },
  {
   "cell_type": "code",
   "execution_count": 21,
   "metadata": {},
   "outputs": [
    {
     "name": "stdout",
     "output_type": "stream",
     "text": [
      "The relation name is  Q\n",
      "╒════════╕\n",
      "│ char   │\n",
      "╞════════╡\n",
      "╘════════╛\n"
     ]
    }
   ],
   "source": [
    "Q = Relation('Q',('char',),{}) #To create a tuple with only one item, you have add a comma after the item, otherwise Python will not recognize the variable as a tuple.\n",
    "Q.toString()\n"
   ]
  },
  {
   "attachments": {},
   "cell_type": "markdown",
   "metadata": {},
   "source": [
    "***\n",
    "We are now in a position to start filling in the rest of the Relation class.\n",
    "\n",
    "I want to be able to apply the _relational operators_ to any relation or pair of relations. Using good object-oriented programming style, I'll add the relational operators as methods to the class.\n",
    "\n",
    "Let's begin with the union operator\n",
    "\n",
    "### Union ###\n",
    "Consider the relation R defined as before\n",
    "| char | int | \n",
    "| :-: | :-: | \n",
    "| $a$ | $1$ |\n",
    "| $b$ | $2$ | \n",
    "| $c$ | $3$ | \n",
    "| $d$ | $4$ | \n",
    "\n",
    "and consider a new relation Q defined as\n",
    "| char | int | \n",
    "| :-: | :-: | \n",
    "| $f$ | $3$ |\n",
    "\n",
    "The union $P\\cup Q$ is possible since the headers match, and is\n",
    "| char | int | \n",
    "| :-: | :-: | \n",
    "| $a$ | $1$ |\n",
    "| $b$ | $2$ | \n",
    "| $c$ | $3$ | \n",
    "| $d$ | $4$ | \n",
    "| $f$ | $3$ |  \n",
    "\n",
    "Let's check in the code."
   ]
  },
  {
   "cell_type": "code",
   "execution_count": 22,
   "metadata": {},
   "outputs": [
    {
     "name": "stdout",
     "output_type": "stream",
     "text": [
      "The relation name is  R∪Q\n",
      "╒════════╤═══════╕\n",
      "│ char   │   int │\n",
      "╞════════╪═══════╡\n",
      "│ b      │     2 │\n",
      "├────────┼───────┤\n",
      "│ d      │     4 │\n",
      "├────────┼───────┤\n",
      "│ f      │     3 │\n",
      "├────────┼───────┤\n",
      "│ c      │     3 │\n",
      "├────────┼───────┤\n",
      "│ a      │     1 │\n",
      "╘════════╧═══════╛\n"
     ]
    }
   ],
   "source": [
    "class Relation:\n",
    "    def __init__(self, relation_name, relation_header, set_of_tuples):\n",
    "        self.name = relation_name # I threw in a string for the relation name for fun\n",
    "        self.header = relation_header\n",
    "        self.set_of_tuples = set_of_tuples\n",
    "\n",
    "    def toString(self):\n",
    "        print(\"The relation name is \", self.name)\n",
    "        print(tabulate(self.set_of_tuples,headers = self.header,tablefmt = 'fancy_grid'))\n",
    "        #print(self.relation_header)\n",
    "        #for my_tuple in self.tuples:\n",
    "        #    print(my_tuple)def Union(self,relation2):\n",
    "    \n",
    "    ########################\n",
    "    # Relational Operators #\n",
    "    ########################\n",
    "    def Union(self,other):\n",
    "        if not isinstance(other, Relation):\n",
    "            raise ValueError # don't attempt to union with something not a relation\n",
    "        # First, check the precondition to see if the headers are the same\n",
    "        if self.getHeader() != other.getHeader():\n",
    "            raise ValueError\n",
    "        \n",
    "        # Second, create a new header that is the union of the sets of tuples\n",
    "        name = self.getName() + \"\\u222A\" + other.getName()\n",
    "        header = self.getHeader()\n",
    "        set_of_tuples = self.getTuples()\n",
    "        set_of_tuples = set_of_tuples.union(other.getTuples())    # This is the union operator defined for set objects\n",
    "        return Relation(name,header,set_of_tuples)\n",
    "        \n",
    "    #######################\n",
    "    # Getters and Setters #\n",
    "    #######################\n",
    "    def getName(self): return self.name\n",
    "    def getHeader(self): return self.header\n",
    "    def getTuples(self): return self.set_of_tuples\n",
    "    \n",
    "    ################################################\n",
    "    # Define how the == operator acts on relations #\n",
    "    ################################################\n",
    "    def __eq__(self,other):\n",
    "        # First, check whether the thing passed to the equality method is the same type\n",
    "        if not isinstance(other, Relation):\n",
    "            # don't attempt to compare against unrelated types\n",
    "            raise ValueError\n",
    "        # Second, return true only if the header and sets all match. I don't really care if the names match\n",
    "        return self.header == other.header and self.set_of_tuples == other.set_of_tuples\n",
    "\n",
    "R = Relation(relation_name = 'R',relation_header = ('char','int'), set_of_tuples = {('a',1),('b',2),('c',3),('d',4)})\n",
    "Q = Relation('Q',('char','int'),{('f',3),}) # Notice the comma after the ('f',3) tuple. This create a set of tuples, with only one element in the set\n",
    "\n",
    "P = R.Union(Q)\n",
    "P.toString()"
   ]
  },
  {
   "attachments": {},
   "cell_type": "markdown",
   "metadata": {},
   "source": [
    "***\n",
    "\n",
    "Let's now look at the the projection operator\n",
    "\n",
    "### Project ###\n",
    " \n",
    "Consider the relation $P = R\\cup Q$ defined as before\n",
    "| char | int | \n",
    "| :-: | :-: | \n",
    "| $a$ | $1$ |\n",
    "| $b$ | $2$ | \n",
    "| $c$ | $3$ | \n",
    "| $d$ | $4$ |\n",
    "| $f$ | $3$ | \n",
    "\n",
    "We want to compute $\\pi_{char}(P)$, which does two things. \n",
    "* First, it creates a new relation.\n",
    "* Second, it populates the new relation with the char column.\n",
    "\n",
    "The result is the relation $\\pi_{char}(P)$\n",
    "| char | \n",
    "| :-: |\n",
    "| $a$ |\n",
    "| $b$ |\n",
    "| $c$ |\n",
    "| $d$ |\n",
    "| $f$ |\n",
    "\n",
    "***\n",
    "Here's the code"
   ]
  },
  {
   "cell_type": "code",
   "execution_count": 23,
   "metadata": {},
   "outputs": [],
   "source": [
    "class Relation:\n",
    "    def __init__(self, relation_name, relation_header, set_of_tuples):\n",
    "        self.name = relation_name # I threw in a string for the relation name for fun\n",
    "        self.relation_header = relation_header\n",
    "        self.tuples = set_of_tuples\n",
    "\n",
    "    ########################\n",
    "    # Relational Operators #\n",
    "    ########################\n",
    "    def Union(self,relation2):\n",
    "        if type(relation2) != Relation:\n",
    "            raise TypeError\n",
    "        if self.getHeader() != relation2.getHeader():\n",
    "            raise ValueError\n",
    "        name = self.getName() + \"\\u222A\" + relation2.getName()\n",
    "        header = self.getHeader()\n",
    "        tuples = self.getTuples()\n",
    "        tuples = tuples.union(relation2.getTuples())\n",
    "        return Relation(name,header,tuples)\n",
    "    def Project(self,column_header):\n",
    "        # Only a portion of this method is implemented. \n",
    "        # Specifically, only the portion that projects onto a single column.\n",
    "        # You have to implement the rest of this method in the Project 3\n",
    "        \n",
    "        # First, check the precondition\n",
    "        # The precondition for the project operator is that the column attribute\n",
    "        # must exist in the set of attributes\n",
    "        if column_header not in self.relation_header:\n",
    "            raise ValueError\n",
    "        \n",
    "        # Second, create a new relation that is the output of the projection operator.\n",
    "        # THe relation needs a name, a header, and the set of tuples\n",
    "        name = \"\\u03C0\" + \"_{\" + column_header + \"}(\" + self.name + \")\" # The \\u03c0 is a special code for a union symbol\n",
    "        header = (column_header,) # Notice the comma after \"column_header\", which forces the header to be a tuple\n",
    "        header_index = self.relation_header.index(column_header) # Get the index of the header that matches the column you want\n",
    "        tuples = set()\n",
    "        # A good \"pythonic\" way to implement this is using list comprehensions,\n",
    "        # https://www.geeksforgeeks.org/python-list-comprehension/\n",
    "        # but I'll implement it using a for loop here because it might be easier to see\n",
    "        for my_tuple in self.tuples:\n",
    "            tuples.add((my_tuple[header_index],)) # Notice the comma after the \"... index]\"\n",
    "        new_relation = Relation(name,header,tuples) # Create the relation\n",
    "        return new_relation \n",
    "\n",
    "    \n",
    "    #######################\n",
    "    # Getters and Setters #\n",
    "    #######################\n",
    "    def getName(self): return self.name\n",
    "    def getHeader(self): return self.relation_header\n",
    "    def getTuples(self): return self.tuples\n",
    "\n",
    "    def toString(self):\n",
    "        ### Prints the name, header, and contents of the relation\n",
    "        ### I like using the tabulate environment, but I had to install a\n",
    "        ### package to make this work so I've included a for loop that does\n",
    "        ### does the same thing with just a little less formatting\n",
    "        print(\"The relation name is \", self.name)\n",
    "        print(tabulate(self.tuples,headers = self.relation_header,tablefmt = 'fancy_grid'))\n",
    "        #print(self.relation_header)\n",
    "        #for my_tuple in self.tuples:\n",
    "        #    print(my_tuple)\n",
    "\n",
    "    ################################################\n",
    "    # Define how the == operator acts on relations #\n",
    "    ################################################\n",
    "    def __eq__(self,other):\n",
    "        # First, check whether the thing passed to the equality method is the same type\n",
    "        if not isinstance(other, Relation):\n",
    "            # don't attempt to compare against unrelated types\n",
    "            raise ValueError\n",
    "        # Second, return true only if the header and sets all match. I don't really care if the names match\n",
    "        return self.header == other.header and self.set_of_tuples == other.set_of_tuples\n"
   ]
  },
  {
   "attachments": {},
   "cell_type": "markdown",
   "metadata": {},
   "source": [
    "Let's now look at the output of the project operator"
   ]
  },
  {
   "cell_type": "code",
   "execution_count": 24,
   "metadata": {},
   "outputs": [
    {
     "name": "stdout",
     "output_type": "stream",
     "text": [
      "The relation name is  π_{char}(R∪Q)\n",
      "╒════════╕\n",
      "│ char   │\n",
      "╞════════╡\n",
      "│ c      │\n",
      "├────────┤\n",
      "│ a      │\n",
      "├────────┤\n",
      "│ f      │\n",
      "├────────┤\n",
      "│ d      │\n",
      "├────────┤\n",
      "│ b      │\n",
      "╘════════╛\n"
     ]
    }
   ],
   "source": [
    "R = Relation(relation_name = 'R',relation_header = ('char','int'), set_of_tuples = {('a',1),('b',2),('c',3),('d',4)})\n",
    "Q = Relation('Q',('char','int'),{('f',3),}) # Observe the comma after the ('f',3) tuple. This forces python to make the tuple the lone element of a set\n",
    "\n",
    "P = R.Union(Q)\n",
    "M = P.Project('char')\n",
    "M.toString()\n"
   ]
  },
  {
   "attachments": {},
   "cell_type": "markdown",
   "metadata": {},
   "source": [
    "Let's project onto the 'int' column instead. Why does projecting onto the 'char' column produce five tuples but projecting onto the 'char' column only produce four tuples?"
   ]
  },
  {
   "cell_type": "code",
   "execution_count": 25,
   "metadata": {},
   "outputs": [
    {
     "name": "stdout",
     "output_type": "stream",
     "text": [
      "The relation name is  π_{int}(R∪Q)\n",
      "╒═══════╕\n",
      "│   int │\n",
      "╞═══════╡\n",
      "│     1 │\n",
      "├───────┤\n",
      "│     2 │\n",
      "├───────┤\n",
      "│     3 │\n",
      "├───────┤\n",
      "│     4 │\n",
      "╘═══════╛\n"
     ]
    }
   ],
   "source": [
    "M = P.Project('int')\n",
    "M.toString()"
   ]
  },
  {
   "attachments": {},
   "cell_type": "markdown",
   "metadata": {},
   "source": [
    "The answer is that the set of tuples is a set, and sets don't have repeats. \n",
    "\n",
    "Without ignoring repeats, we have the relation $P$ defined as\n",
    "| char | int | \n",
    "| :-: | :-: | \n",
    "| $a$ | $1$ |\n",
    "| $b$ | $2$ | \n",
    "| $c$ | $3$ | \n",
    "| $d$ | $4$ |\n",
    "| $f$ | $3$ | \n",
    "\n",
    "yielding $\\pi_{int}(P)$ \n",
    "| int | \n",
    "| :-: | \n",
    "| $1$ |\n",
    "| $2$ | \n",
    "| $3$ | \n",
    "| $4$ |\n",
    "| $3$ |\n",
    "\n",
    "but the \"3\" appears in the set twice, so the correct answer is\n",
    "$\\pi_{int}(P)$ \n",
    "| int | \n",
    "| :-: | \n",
    "| $1$ |\n",
    "| $2$ | \n",
    "| $3$ | \n",
    "| $4$ |\n"
   ]
  },
  {
   "cell_type": "markdown",
   "metadata": {},
   "source": [
    "***\n",
    "### Somthing to Keep In Mind: Deep vs Shallow Copies ###\n",
    "In python, unless specified, every copy is a shallow copy. That means that when you try to copy an object, it will copy the memory address not the actual object itself. This can cause some nasty bugs that are hard to find. See this in the example below:\n"
   ]
  },
  {
   "cell_type": "code",
   "execution_count": 26,
   "metadata": {},
   "outputs": [
    {
     "name": "stdout",
     "output_type": "stream",
     "text": [
      "r1's name: relation\n",
      "r2's name: different relation\n",
      "r1's name: different relation\n",
      "r1's address: <__main__.relation object at 0x10966ae90>\n",
      "r2's address: <__main__.relation object at 0x10966ae90>\n"
     ]
    }
   ],
   "source": [
    "class relation:\n",
    "     def __init__(self):\n",
    "        self.my_name = \"relation\"\n",
    "        self.my_list = [1,2,3,4]\n",
    "     def change_name(self,new_name): self.my_name = new_name\n",
    "     def get_name(self): return self.my_name\n",
    "     def get_name(self): return self.my_name\n",
    "     def get_list(self): return self.my_list\n",
    "r1 = relation()\n",
    "print(\"r1's name: \" + r1.get_name())\n",
    "r2 = r1\n",
    "r2.change_name(\"different relation\")\n",
    "print(\"r2's name: \" + r2.get_name())\n",
    "print(\"r1's name: \" + r1.get_name())\n",
    "print(\"r1's address: \" + str(r1))\n",
    "print(\"r2's address: \" + str(r2))"
   ]
  },
  {
   "cell_type": "markdown",
   "metadata": {},
   "source": [
    "Notice that r1 and r2's memory address are the same, meaning that the memory address was copied. Also notice that when r2's name was changed, r1's name was changed as well.\n",
    "This happened because both r1 and r2 contain the same memory address, which means that they are both pointing to the same object in memory. So, when r2 changes the name of the object, it is changed for r1 as well, which is probably not what we want to happen.\n",
    "\n",
    "This is where we need deep copies. A deep copy doesn't just copy the memory address, it copies the data at the memory address (in this case, a relation object) to a new memory address. When this happens, we will have two variables pointing to two separate objects in memory, so when you change one you won't change the other. Luckily, python has a very easy way to do this with the \"copy.deepcopy()\" method. Notice what changes in our output: "
   ]
  },
  {
   "cell_type": "code",
   "execution_count": 11,
   "metadata": {},
   "outputs": [
    {
     "name": "stdout",
     "output_type": "stream",
     "text": [
      "r1's name: relation\n",
      "r2's name: different relation\n",
      "r1's name: relation\n",
      "r1's address: <__main__.relation object at 0x10964c850>\n",
      "r2's address: <__main__.relation object at 0x108805250>\n"
     ]
    }
   ],
   "source": [
    "import copy # We need to import the copy module \n",
    "class relation:\n",
    "     def __init__(self):\n",
    "        self.my_name = \"relation\"\n",
    "        self.my_list = [1,2,3,4]\n",
    "     def change_name(self,new_name): self.my_name = new_name\n",
    "     def get_name(self): return self.my_name\n",
    "     def get_name(self): return self.my_name\n",
    "     def get_list(self): return self.my_list\n",
    "r1 = relation()\n",
    "print(\"r1's name: \" + r1.get_name())\n",
    "r2 = copy.deepcopy(r1)\n",
    "r2.change_name(\"different relation\")\n",
    "print(\"r2's name: \" + r2.get_name())\n",
    "print(\"r1's name: \" + r1.get_name())\n",
    "print(\"r1's address: \" + str(r1))\n",
    "print(\"r2's address: \" + str(r2))"
   ]
  },
  {
   "cell_type": "markdown",
   "metadata": {},
   "source": [
    "Now when we run this code, r1 and r2 have two different memory addresses, and r1's name was not changed. \n",
    "\n",
    "Now although copy.deepcopy() is useful, it is expensive. So only use deepcopy when you have to! You should only need to use it if you are editing a copy of an object and you don't want the original object to be changed. If you don't care about the original being changed, or you are not changing the copied object, then don't use copy.deepcopy()."
   ]
  }
 ],
 "metadata": {
  "kernelspec": {
   "display_name": "Python 3.11.3 64-bit",
   "language": "python",
   "name": "python3"
  },
  "language_info": {
   "codemirror_mode": {
    "name": "ipython",
    "version": 3
   },
   "file_extension": ".py",
   "mimetype": "text/x-python",
   "name": "python",
   "nbconvert_exporter": "python",
   "pygments_lexer": "ipython3",
   "version": "3.11.3"
  },
  "orig_nbformat": 4,
  "vscode": {
   "interpreter": {
    "hash": "aee8b7b246df8f9039afb4144a1f6fd8d2ca17a180786b69acc140d282b71a49"
   }
  }
 },
 "nbformat": 4,
 "nbformat_minor": 2
}
